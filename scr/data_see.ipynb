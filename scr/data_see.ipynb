{
 "cells": [
  {
   "cell_type": "code",
   "execution_count": 7,
   "id": "initial_id",
   "metadata": {
    "collapsed": true,
    "ExecuteTime": {
     "end_time": "2025-01-25T08:33:17.029503200Z",
     "start_time": "2025-01-25T08:33:16.757472Z"
    }
   },
   "outputs": [],
   "source": [
    "import pandas as pd\n",
    "from matplotlib import pyplot as plt\n",
    "\n",
    "data1 = pd.read_csv(r\"D:\\Desktop\\MCM\\2025_MCM_C\\别人呢的\\MCM2025_C_Cleaned_Data-main\\summerOly_medal_counts.csv\")\n",
    "data1['NOC'] = data1['NOC'].replace({'Soviet Union': 'Russia'})"
   ]
  },
  {
   "cell_type": "code",
   "execution_count": 8,
   "outputs": [
    {
     "name": "stdout",
     "output_type": "stream",
     "text": [
      "<class 'pandas.core.frame.DataFrame'>\n",
      "RangeIndex: 1435 entries, 0 to 1434\n",
      "Data columns (total 7 columns):\n",
      " #   Column  Non-Null Count  Dtype \n",
      "---  ------  --------------  ----- \n",
      " 0   Rank    1435 non-null   int64 \n",
      " 1   NOC     1435 non-null   object\n",
      " 2   Gold    1435 non-null   int64 \n",
      " 3   Silver  1435 non-null   int64 \n",
      " 4   Bronze  1435 non-null   int64 \n",
      " 5   Total   1435 non-null   int64 \n",
      " 6   Year    1435 non-null   int64 \n",
      "dtypes: int64(6), object(1)\n",
      "memory usage: 78.6+ KB\n",
      "None\n",
      "Rank      False\n",
      "NOC       False\n",
      "Gold      False\n",
      "Silver    False\n",
      "Bronze    False\n",
      "Total     False\n",
      "Year      False\n",
      "dtype: bool\n"
     ]
    }
   ],
   "source": [
    "#检测数据 \n",
    "print(data1.info())\n",
    "print(data1.isna().any())"
   ],
   "metadata": {
    "collapsed": false,
    "ExecuteTime": {
     "end_time": "2025-01-25T08:33:18.498759900Z",
     "start_time": "2025-01-25T08:33:18.451661200Z"
    }
   },
   "id": "a35a7e6c979a5741"
  },
  {
   "cell_type": "code",
   "execution_count": 9,
   "outputs": [
    {
     "data": {
      "text/plain": "                NOC  Gold  Silver  Bronze  Total\n0       Afghanistan     0       0       1      1\n1           Albania     0       0       2      2\n2           Algeria     1       0       1      2\n3         Argentina     1       1       2      4\n4        Argentina      3       1       0      4\n..              ...   ...     ...     ...    ...\n186  Virgin Islands     0       1       0      1\n187    West Germany    11      13      16     41\n188      Yugoslavia     2       2       2      6\n189          Zambia     0       0       1      1\n190        Zimbabwe     1       1       0      3\n\n[191 rows x 5 columns]",
      "text/html": "<div>\n<style scoped>\n    .dataframe tbody tr th:only-of-type {\n        vertical-align: middle;\n    }\n\n    .dataframe tbody tr th {\n        vertical-align: top;\n    }\n\n    .dataframe thead th {\n        text-align: right;\n    }\n</style>\n<table border=\"1\" class=\"dataframe\">\n  <thead>\n    <tr style=\"text-align: right;\">\n      <th></th>\n      <th>NOC</th>\n      <th>Gold</th>\n      <th>Silver</th>\n      <th>Bronze</th>\n      <th>Total</th>\n    </tr>\n  </thead>\n  <tbody>\n    <tr>\n      <th>0</th>\n      <td>Afghanistan</td>\n      <td>0</td>\n      <td>0</td>\n      <td>1</td>\n      <td>1</td>\n    </tr>\n    <tr>\n      <th>1</th>\n      <td>Albania</td>\n      <td>0</td>\n      <td>0</td>\n      <td>2</td>\n      <td>2</td>\n    </tr>\n    <tr>\n      <th>2</th>\n      <td>Algeria</td>\n      <td>1</td>\n      <td>0</td>\n      <td>1</td>\n      <td>2</td>\n    </tr>\n    <tr>\n      <th>3</th>\n      <td>Argentina</td>\n      <td>1</td>\n      <td>1</td>\n      <td>2</td>\n      <td>4</td>\n    </tr>\n    <tr>\n      <th>4</th>\n      <td>Argentina</td>\n      <td>3</td>\n      <td>1</td>\n      <td>0</td>\n      <td>4</td>\n    </tr>\n    <tr>\n      <th>...</th>\n      <td>...</td>\n      <td>...</td>\n      <td>...</td>\n      <td>...</td>\n      <td>...</td>\n    </tr>\n    <tr>\n      <th>186</th>\n      <td>Virgin Islands</td>\n      <td>0</td>\n      <td>1</td>\n      <td>0</td>\n      <td>1</td>\n    </tr>\n    <tr>\n      <th>187</th>\n      <td>West Germany</td>\n      <td>11</td>\n      <td>13</td>\n      <td>16</td>\n      <td>41</td>\n    </tr>\n    <tr>\n      <th>188</th>\n      <td>Yugoslavia</td>\n      <td>2</td>\n      <td>2</td>\n      <td>2</td>\n      <td>6</td>\n    </tr>\n    <tr>\n      <th>189</th>\n      <td>Zambia</td>\n      <td>0</td>\n      <td>0</td>\n      <td>1</td>\n      <td>1</td>\n    </tr>\n    <tr>\n      <th>190</th>\n      <td>Zimbabwe</td>\n      <td>1</td>\n      <td>1</td>\n      <td>0</td>\n      <td>3</td>\n    </tr>\n  </tbody>\n</table>\n<p>191 rows × 5 columns</p>\n</div>"
     },
     "execution_count": 9,
     "metadata": {},
     "output_type": "execute_result"
    }
   ],
   "source": [
    "averages = data1.groupby('NOC')[['Gold', 'Silver', 'Bronze', 'Total']].mean().round(0).astype(int).reset_index()\n",
    "averages\n"
   ],
   "metadata": {
    "collapsed": false,
    "ExecuteTime": {
     "end_time": "2025-01-25T08:33:21.017698600Z",
     "start_time": "2025-01-25T08:33:20.975523200Z"
    }
   },
   "id": "24921c01e8113f7"
  },
  {
   "cell_type": "code",
   "execution_count": 10,
   "outputs": [],
   "source": [
    "\"\"\"import pycountry\n",
    "df_averages = averages\n",
    "def noc_to_country_name(noc_code):\n",
    "    try:\n",
    "        # 使用 pycountry 查询国家名称\n",
    "        country = pycountry.countries.get(alpha_3=noc_code)\n",
    "        return country.name\n",
    "    except AttributeError:\n",
    "        # 处理特殊映射（例如某些奥委会代码与标准 ISO 代码不一致）\n",
    "        special_cases = {\n",
    "            \"USA\": \"United States\",\n",
    "            \"CHN\": \"China\",\n",
    "            \"JPN\": \"Japan\",\n",
    "            \"GBR\": \"United Kingdom\",\n",
    "            \"RUS\": \"Russia\",\n",
    "            \"GER\": \"Germany\",\n",
    "            \"KOR\": \"South Korea\",\n",
    "            # 添加其他需要的映射...\n",
    "        }\n",
    "        return special_cases.get(noc_code, noc_code)  # 如果未找到，返回原代码\n",
    "\"\"\"\n",
    "# 应用映射到 DataFrame\n",
    "averages[\"Country\"] = averages[\"NOC\"]"
   ],
   "metadata": {
    "collapsed": false,
    "ExecuteTime": {
     "end_time": "2025-01-25T08:33:23.048701400Z",
     "start_time": "2025-01-25T08:33:23.039509400Z"
    }
   },
   "id": "c28b595b94e45e23"
  },
  {
   "cell_type": "code",
   "execution_count": 11,
   "outputs": [
    {
     "data": {
      "text/plain": "                NOC  Gold  Silver  Bronze  Total         Country\n0       Afghanistan     0       0       1      1     Afghanistan\n1           Albania     0       0       2      2         Albania\n2           Algeria     1       0       1      2         Algeria\n3         Argentina     1       1       2      4       Argentina\n4        Argentina      3       1       0      4      Argentina \n..              ...   ...     ...     ...    ...             ...\n186  Virgin Islands     0       1       0      1  Virgin Islands\n187    West Germany    11      13      16     41    West Germany\n188      Yugoslavia     2       2       2      6      Yugoslavia\n189          Zambia     0       0       1      1          Zambia\n190        Zimbabwe     1       1       0      3        Zimbabwe\n\n[191 rows x 6 columns]",
      "text/html": "<div>\n<style scoped>\n    .dataframe tbody tr th:only-of-type {\n        vertical-align: middle;\n    }\n\n    .dataframe tbody tr th {\n        vertical-align: top;\n    }\n\n    .dataframe thead th {\n        text-align: right;\n    }\n</style>\n<table border=\"1\" class=\"dataframe\">\n  <thead>\n    <tr style=\"text-align: right;\">\n      <th></th>\n      <th>NOC</th>\n      <th>Gold</th>\n      <th>Silver</th>\n      <th>Bronze</th>\n      <th>Total</th>\n      <th>Country</th>\n    </tr>\n  </thead>\n  <tbody>\n    <tr>\n      <th>0</th>\n      <td>Afghanistan</td>\n      <td>0</td>\n      <td>0</td>\n      <td>1</td>\n      <td>1</td>\n      <td>Afghanistan</td>\n    </tr>\n    <tr>\n      <th>1</th>\n      <td>Albania</td>\n      <td>0</td>\n      <td>0</td>\n      <td>2</td>\n      <td>2</td>\n      <td>Albania</td>\n    </tr>\n    <tr>\n      <th>2</th>\n      <td>Algeria</td>\n      <td>1</td>\n      <td>0</td>\n      <td>1</td>\n      <td>2</td>\n      <td>Algeria</td>\n    </tr>\n    <tr>\n      <th>3</th>\n      <td>Argentina</td>\n      <td>1</td>\n      <td>1</td>\n      <td>2</td>\n      <td>4</td>\n      <td>Argentina</td>\n    </tr>\n    <tr>\n      <th>4</th>\n      <td>Argentina</td>\n      <td>3</td>\n      <td>1</td>\n      <td>0</td>\n      <td>4</td>\n      <td>Argentina</td>\n    </tr>\n    <tr>\n      <th>...</th>\n      <td>...</td>\n      <td>...</td>\n      <td>...</td>\n      <td>...</td>\n      <td>...</td>\n      <td>...</td>\n    </tr>\n    <tr>\n      <th>186</th>\n      <td>Virgin Islands</td>\n      <td>0</td>\n      <td>1</td>\n      <td>0</td>\n      <td>1</td>\n      <td>Virgin Islands</td>\n    </tr>\n    <tr>\n      <th>187</th>\n      <td>West Germany</td>\n      <td>11</td>\n      <td>13</td>\n      <td>16</td>\n      <td>41</td>\n      <td>West Germany</td>\n    </tr>\n    <tr>\n      <th>188</th>\n      <td>Yugoslavia</td>\n      <td>2</td>\n      <td>2</td>\n      <td>2</td>\n      <td>6</td>\n      <td>Yugoslavia</td>\n    </tr>\n    <tr>\n      <th>189</th>\n      <td>Zambia</td>\n      <td>0</td>\n      <td>0</td>\n      <td>1</td>\n      <td>1</td>\n      <td>Zambia</td>\n    </tr>\n    <tr>\n      <th>190</th>\n      <td>Zimbabwe</td>\n      <td>1</td>\n      <td>1</td>\n      <td>0</td>\n      <td>3</td>\n      <td>Zimbabwe</td>\n    </tr>\n  </tbody>\n</table>\n<p>191 rows × 6 columns</p>\n</div>"
     },
     "execution_count": 11,
     "metadata": {},
     "output_type": "execute_result"
    }
   ],
   "source": [
    "averages"
   ],
   "metadata": {
    "collapsed": false,
    "ExecuteTime": {
     "end_time": "2025-01-25T08:33:26.920242700Z",
     "start_time": "2025-01-25T08:33:26.834722200Z"
    }
   },
   "id": "66f4cc51f1dc65f6"
  },
  {
   "cell_type": "code",
   "execution_count": 32,
   "outputs": [
    {
     "data": {
      "application/vnd.plotly.v1+json": {
       "data": [
        {
         "coloraxis": "coloraxis",
         "customdata": [
          [
           0,
           0,
           1
          ],
          [
           0,
           0,
           2
          ],
          [
           1,
           0,
           1
          ],
          [
           1,
           1,
           2
          ],
          [
           3,
           1,
           0
          ],
          [
           0,
           2,
           1
          ],
          [
           2,
           2,
           2
          ],
          [
           7,
           7,
           8
          ],
          [
           3,
           1,
           1
          ],
          [
           1,
           1,
           2
          ],
          [
           1,
           1,
           3
          ],
          [
           1,
           2,
           4
          ],
          [
           1,
           0,
           1
          ],
          [
           1,
           1,
           0
          ],
          [
           0,
           0,
           1
          ],
          [
           2,
           4,
           6
          ],
          [
           2,
           2,
           2
          ],
          [
           0,
           0,
           1
          ],
          [
           0,
           0,
           0
          ],
          [
           0,
           0,
           2
          ],
          [
           0,
           1,
           0
          ],
          [
           2,
           2,
           4
          ],
          [
           0,
           0,
           2
          ],
          [
           3,
           5,
           5
          ],
          [
           0,
           0,
           1
          ],
          [
           0,
           0,
           0
          ],
          [
           0,
           0,
           1
          ],
          [
           0,
           0,
           0
          ],
          [
           3,
           4,
           5
          ],
          [
           2,
           5,
           9
          ],
          [
           0,
           1,
           0
          ],
          [
           0,
           1,
           0
          ],
          [
           28,
           21,
           18
          ],
          [
           1,
           1,
           2
          ],
          [
           0,
           1,
           2
          ],
          [
           0,
           0,
           1
          ],
          [
           2,
           2,
           2
          ],
          [
           5,
           4,
           5
          ],
          [
           0,
           1,
           0
          ],
          [
           3,
           3,
           4
          ],
          [
           3,
           3,
           3
          ],
          [
           1,
           3,
           2
          ],
          [
           2,
           3,
           3
          ],
          [
           0,
           5,
           3
          ],
          [
           0,
           0,
           1
          ],
          [
           1,
           0,
           0
          ],
          [
           1,
           1,
           1
          ],
          [
           31,
           26,
           25
          ],
          [
           1,
           1,
           0
          ],
          [
           1,
           1,
           2
          ],
          [
           0,
           0,
           1
          ],
          [
           1,
           1,
           2
          ],
          [
           2,
           1,
           2
          ],
          [
           1,
           1,
           2
          ],
          [
           1,
           0,
           0
          ],
          [
           4,
           3,
           4
          ],
          [
           5,
           8,
           12
          ],
          [
           0,
           1,
           0
          ],
          [
           8,
           9,
           10
          ],
          [
           11,
           5,
           4
          ],
          [
           0,
           1,
           0
          ],
          [
           2,
           2,
           2
          ],
          [
           13,
           13,
           15
          ],
          [
           5,
           12,
           7
          ],
          [
           0,
           0,
           1
          ],
          [
           10,
           11,
           12
          ],
          [
           5,
           7,
           5
          ],
          [
           2,
           2,
           2
          ],
          [
           0,
           0,
           1
          ],
          [
           0,
           0,
           0
          ],
          [
           0,
           0,
           1
          ],
          [
           0,
           0,
           0
          ],
          [
           1,
           1,
           1
          ],
          [
           7,
           6,
           7
          ],
          [
           6,
           5,
           5
          ],
          [
           0,
           0,
           0
          ],
          [
           1,
           0,
           1
          ],
          [
           0,
           1,
           2
          ],
          [
           0,
           1,
           1
          ],
          [
           1,
           0,
           0
          ],
          [
           1,
           1,
           2
          ],
          [
           2,
           2,
           2
          ],
          [
           0,
           0,
           1
          ],
          [
           1,
           1,
           1
          ],
          [
           2,
           0,
           0
          ],
          [
           0,
           1,
           1
          ],
          [
           8,
           7,
           8
          ],
          [
           12,
           12,
           12
          ],
          [
           0,
           0,
           1
          ],
          [
           2,
           2,
           2
          ],
          [
           8,
           7,
           9
          ],
          [
           7,
           7,
           4
          ],
          [
           0,
           1,
           0
          ],
          [
           2,
           3,
           5
          ],
          [
           3,
           3,
           3
          ],
          [
           1,
           0,
           0
          ],
          [
           0,
           0,
           1
          ],
          [
           0,
           1,
           2
          ],
          [
           0,
           1,
           1
          ],
          [
           0,
           1,
           0
          ],
          [
           0,
           1,
           1
          ],
          [
           1,
           1,
           2
          ],
          [
           1,
           0,
           0
          ],
          [
           0,
           0,
           1
          ],
          [
           0,
           1,
           1
          ],
          [
           0,
           0,
           1
          ],
          [
           1,
           1,
           2
          ],
          [
           0,
           2,
           0
          ],
          [
           4,
           2,
           3
          ],
          [
           0,
           1,
           1
          ],
          [
           0,
           1,
           1
          ],
          [
           0,
           1,
           0
          ],
          [
           1,
           0,
           1
          ],
          [
           0,
           0,
           0
          ],
          [
           0,
           2,
           0
          ],
          [
           4,
           4,
           5
          ],
          [
           0,
           1,
           0
          ],
          [
           2,
           5,
           1
          ],
          [
           3,
           2,
           2
          ],
          [
           0,
           1,
           0
          ],
          [
           0,
           0,
           0
          ],
          [
           0,
           1,
           1
          ],
          [
           1,
           2,
           2
          ],
          [
           0,
           1,
           0
          ],
          [
           2,
           2,
           2
          ],
          [
           0,
           0,
           0
          ],
          [
           0,
           0,
           1
          ],
          [
           0,
           1,
           0
          ],
          [
           0,
           1,
           0
          ],
          [
           0,
           1,
           1
          ],
          [
           0,
           0,
           3
          ],
          [
           3,
           4,
           6
          ],
          [
           3,
           2,
           4
          ],
          [
           0,
           1,
           1
          ],
          [
           0,
           0,
           1
          ],
          [
           0,
           0,
           1
          ],
          [
           20,
           28,
           23
          ],
          [
           0,
           0,
           1
          ],
          [
           4,
           5,
           6
          ],
          [
           36,
           30,
           30
          ],
          [
           0,
           2,
           2
          ],
          [
           1,
           1,
           0
          ],
          [
           0,
           1,
           0
          ],
          [
           0,
           1,
           2
          ],
          [
           0,
           1,
           1
          ],
          [
           0,
           1,
           0
          ],
          [
           2,
           2,
           2
          ],
          [
           0,
           2,
           0
          ],
          [
           0,
           0,
           1
          ],
          [
           1,
           2,
           1
          ],
          [
           1,
           1,
           1
          ],
          [
           1,
           2,
           1
          ],
          [
           2,
           0,
           3
          ],
          [
           6,
           6,
           6
          ],
          [
           3,
           4,
           3
          ],
          [
           0,
           0,
           1
          ],
          [
           0,
           1,
           0
          ],
          [
           0,
           1,
           0
          ],
          [
           0,
           0,
           0
          ],
          [
           5,
           7,
           6
          ],
          [
           10,
           5,
           9
          ],
          [
           2,
           3,
           3
          ],
          [
           0,
           1,
           0
          ],
          [
           0,
           0,
           0
          ],
          [
           0,
           0,
           1
          ],
          [
           0,
           0,
           1
          ],
          [
           0,
           2,
           0
          ],
          [
           1,
           1,
           2
          ],
          [
           0,
           0,
           1
          ],
          [
           0,
           1,
           0
          ],
          [
           0,
           0,
           1
          ],
          [
           1,
           0,
           1
          ],
          [
           2,
           2,
           2
          ],
          [
           0,
           1,
           0
          ],
          [
           1,
           1,
           0
          ],
          [
           5,
           5,
           9
          ],
          [
           45,
           38,
           29
          ],
          [
           0,
           0,
           0
          ],
          [
           38,
           30,
           27
          ],
          [
           44,
           36,
           30
          ],
          [
           9,
           18,
           12
          ],
          [
           0,
           0,
           1
          ],
          [
           0,
           0,
           1
          ],
          [
           2,
           1,
           3
          ],
          [
           0,
           1,
           1
          ],
          [
           0,
           1,
           0
          ],
          [
           0,
           1,
           0
          ],
          [
           11,
           13,
           16
          ],
          [
           2,
           2,
           2
          ],
          [
           0,
           0,
           1
          ],
          [
           1,
           1,
           0
          ]
         ],
         "geo": "geo",
         "hovertemplate": "<b>%{hovertext}</b><br><br>Country=%{location}<br>Gold=%{customdata[0]}<br>Silver=%{customdata[1]}<br>Bronze=%{customdata[2]}<br>Average Medals=%{z}<extra></extra>",
         "hovertext": [
          "Afghanistan",
          "Albania",
          "Algeria",
          "Argentina",
          "Argentina ",
          "Armenia",
          "Australasia",
          "Australia",
          "Australia ",
          "Austria",
          "Austria ",
          "Azerbaijan",
          "Bahamas",
          "Bahrain",
          "Barbados",
          "Belarus",
          "Belgium",
          "Belgium ",
          "Bermuda",
          "Bohemia",
          "Botswana",
          "Brazil",
          "British West Indies",
          "Bulgaria",
          "Burkina Faso",
          "Burundi",
          "Cabo Verde",
          "Cameroon",
          "Canada",
          "Canada ",
          "Ceylon",
          "Chile",
          "China",
          "Chinese Taipei",
          "Colombia",
          "Costa Rica",
          "Croatia",
          "Cuba",
          "Cyprus",
          "Czech Republic",
          "Czechoslovakia",
          "Czechoslovakia ",
          "Denmark",
          "Denmark ",
          "Djibouti",
          "Dominica",
          "Dominican Republic",
          "East Germany",
          "Ecuador",
          "Egypt",
          "Eritrea",
          "Estonia",
          "Ethiopia",
          "FR Yugoslavia",
          "Fiji",
          "Finland",
          "Finland ",
          "Formosa",
          "France",
          "France ",
          "Gabon",
          "Georgia",
          "Germany",
          "Germany ",
          "Ghana",
          "Great Britain",
          "Great Britain ",
          "Greece",
          "Grenada",
          "Guatemala",
          "Guyana",
          "Haiti",
          "Hong Kong",
          "Hungary",
          "Hungary ",
          "Iceland",
          "Independent Olympic Athletes",
          "Independent Olympic Participants",
          "India",
          "India ",
          "Indonesia",
          "Iran",
          "Iraq",
          "Ireland",
          "Ireland ",
          "Israel",
          "Italy",
          "Italy ",
          "Ivory Coast",
          "Jamaica",
          "Japan",
          "Japan ",
          "Jordan",
          "Kazakhstan",
          "Kenya",
          "Kosovo",
          "Kuwait",
          "Kyrgyzstan",
          "Latvia",
          "Latvia ",
          "Lebanon",
          "Lithuania",
          "Luxembourg",
          "Macedonia",
          "Malaysia",
          "Mauritius",
          "Mexico",
          "Mexico ",
          "Mixed team",
          "Moldova",
          "Mongolia",
          "Montenegro",
          "Morocco",
          "Mozambique",
          "Namibia",
          "Netherlands",
          "Netherlands Antilles",
          "Netherlands ",
          "New Zealand",
          "New Zealand ",
          "Niger",
          "Nigeria",
          "North Korea",
          "North Macedonia",
          "Norway",
          "Pakistan",
          "Panama",
          "Paraguay",
          "Peru",
          "Philippines",
          "Philippines ",
          "Poland",
          "Poland ",
          "Portugal",
          "Puerto Rico",
          "Qatar",
          "ROC",
          "Refugee Olympic Team",
          "Romania",
          "Russia",
          "Russian Empire",
          "Saint Lucia",
          "Samoa",
          "San Marino",
          "Saudi Arabia",
          "Senegal",
          "Serbia",
          "Serbia and Montenegro",
          "Singapore",
          "Slovakia",
          "Slovenia",
          "South Africa",
          "South Africa ",
          "South Korea",
          "Spain",
          "Spain ",
          "Sri Lanka",
          "Sudan",
          "Suriname",
          "Sweden",
          "Sweden ",
          "Switzerland",
          "Switzerland ",
          "Syria",
          "Taiwan",
          "Tajikistan",
          "Tanzania",
          "Thailand",
          "Togo",
          "Tonga",
          "Trinidad and Tobago",
          "Tunisia",
          "Turkey",
          "Turkmenistan",
          "Uganda",
          "Ukraine",
          "Unified Team",
          "United Arab Emirates",
          "United States",
          "United States ",
          "United Team of Germany",
          "Uruguay",
          "Uruguay ",
          "Uzbekistan",
          "Venezuela",
          "Vietnam",
          "Virgin Islands",
          "West Germany",
          "Yugoslavia",
          "Zambia",
          "Zimbabwe"
         ],
         "locationmode": "country names",
         "locations": [
          "Afghanistan",
          "Albania",
          "Algeria",
          "Argentina",
          "Argentina ",
          "Armenia",
          "Australasia",
          "Australia",
          "Australia ",
          "Austria",
          "Austria ",
          "Azerbaijan",
          "Bahamas",
          "Bahrain",
          "Barbados",
          "Belarus",
          "Belgium",
          "Belgium ",
          "Bermuda",
          "Bohemia",
          "Botswana",
          "Brazil",
          "British West Indies",
          "Bulgaria",
          "Burkina Faso",
          "Burundi",
          "Cabo Verde",
          "Cameroon",
          "Canada",
          "Canada ",
          "Ceylon",
          "Chile",
          "China",
          "Chinese Taipei",
          "Colombia",
          "Costa Rica",
          "Croatia",
          "Cuba",
          "Cyprus",
          "Czech Republic",
          "Czechoslovakia",
          "Czechoslovakia ",
          "Denmark",
          "Denmark ",
          "Djibouti",
          "Dominica",
          "Dominican Republic",
          "East Germany",
          "Ecuador",
          "Egypt",
          "Eritrea",
          "Estonia",
          "Ethiopia",
          "FR Yugoslavia",
          "Fiji",
          "Finland",
          "Finland ",
          "Formosa",
          "France",
          "France ",
          "Gabon",
          "Georgia",
          "Germany",
          "Germany ",
          "Ghana",
          "Great Britain",
          "Great Britain ",
          "Greece",
          "Grenada",
          "Guatemala",
          "Guyana",
          "Haiti",
          "Hong Kong",
          "Hungary",
          "Hungary ",
          "Iceland",
          "Independent Olympic Athletes",
          "Independent Olympic Participants",
          "India",
          "India ",
          "Indonesia",
          "Iran",
          "Iraq",
          "Ireland",
          "Ireland ",
          "Israel",
          "Italy",
          "Italy ",
          "Ivory Coast",
          "Jamaica",
          "Japan",
          "Japan ",
          "Jordan",
          "Kazakhstan",
          "Kenya",
          "Kosovo",
          "Kuwait",
          "Kyrgyzstan",
          "Latvia",
          "Latvia ",
          "Lebanon",
          "Lithuania",
          "Luxembourg",
          "Macedonia",
          "Malaysia",
          "Mauritius",
          "Mexico",
          "Mexico ",
          "Mixed team",
          "Moldova",
          "Mongolia",
          "Montenegro",
          "Morocco",
          "Mozambique",
          "Namibia",
          "Netherlands",
          "Netherlands Antilles",
          "Netherlands ",
          "New Zealand",
          "New Zealand ",
          "Niger",
          "Nigeria",
          "North Korea",
          "North Macedonia",
          "Norway",
          "Pakistan",
          "Panama",
          "Paraguay",
          "Peru",
          "Philippines",
          "Philippines ",
          "Poland",
          "Poland ",
          "Portugal",
          "Puerto Rico",
          "Qatar",
          "ROC",
          "Refugee Olympic Team",
          "Romania",
          "Russia",
          "Russian Empire",
          "Saint Lucia",
          "Samoa",
          "San Marino",
          "Saudi Arabia",
          "Senegal",
          "Serbia",
          "Serbia and Montenegro",
          "Singapore",
          "Slovakia",
          "Slovenia",
          "South Africa",
          "South Africa ",
          "South Korea",
          "Spain",
          "Spain ",
          "Sri Lanka",
          "Sudan",
          "Suriname",
          "Sweden",
          "Sweden ",
          "Switzerland",
          "Switzerland ",
          "Syria",
          "Taiwan",
          "Tajikistan",
          "Tanzania",
          "Thailand",
          "Togo",
          "Tonga",
          "Trinidad and Tobago",
          "Tunisia",
          "Turkey",
          "Turkmenistan",
          "Uganda",
          "Ukraine",
          "Unified Team",
          "United Arab Emirates",
          "United States",
          "United States ",
          "United Team of Germany",
          "Uruguay",
          "Uruguay ",
          "Uzbekistan",
          "Venezuela",
          "Vietnam",
          "Virgin Islands",
          "West Germany",
          "Yugoslavia",
          "Zambia",
          "Zimbabwe"
         ],
         "name": "",
         "z": [
          1,
          2,
          2,
          4,
          4,
          3,
          6,
          22,
          5,
          4,
          5,
          7,
          2,
          2,
          1,
          12,
          6,
          1,
          1,
          2,
          1,
          8,
          2,
          13,
          1,
          1,
          1,
          1,
          13,
          16,
          1,
          2,
          66,
          4,
          3,
          1,
          5,
          14,
          1,
          9,
          9,
          6,
          7,
          8,
          1,
          1,
          2,
          82,
          2,
          3,
          1,
          3,
          4,
          4,
          1,
          11,
          25,
          1,
          27,
          20,
          1,
          6,
          40,
          24,
          1,
          33,
          17,
          6,
          1,
          2,
          1,
          1,
          3,
          19,
          16,
          1,
          2,
          3,
          2,
          1,
          4,
          5,
          1,
          3,
          2,
          2,
          23,
          36,
          1,
          6,
          24,
          18,
          1,
          10,
          9,
          2,
          1,
          3,
          2,
          1,
          1,
          3,
          1,
          1,
          2,
          1,
          4,
          2,
          8,
          2,
          2,
          1,
          2,
          1,
          2,
          13,
          1,
          8,
          7,
          1,
          1,
          3,
          5,
          1,
          7,
          1,
          1,
          1,
          1,
          2,
          3,
          14,
          9,
          2,
          1,
          2,
          71,
          1,
          15,
          96,
          4,
          2,
          1,
          3,
          1,
          1,
          6,
          2,
          1,
          4,
          3,
          5,
          5,
          18,
          9,
          1,
          1,
          1,
          1,
          18,
          24,
          8,
          1,
          1,
          1,
          2,
          2,
          3,
          1,
          1,
          2,
          2,
          6,
          1,
          2,
          19,
          112,
          1,
          95,
          110,
          39,
          1,
          1,
          6,
          2,
          1,
          1,
          41,
          6,
          1,
          3
         ],
         "type": "choropleth"
        }
       ],
       "layout": {
        "template": {
         "data": {
          "histogram2dcontour": [
           {
            "type": "histogram2dcontour",
            "colorbar": {
             "outlinewidth": 0,
             "ticks": ""
            },
            "colorscale": [
             [
              0.0,
              "#0d0887"
             ],
             [
              0.1111111111111111,
              "#46039f"
             ],
             [
              0.2222222222222222,
              "#7201a8"
             ],
             [
              0.3333333333333333,
              "#9c179e"
             ],
             [
              0.4444444444444444,
              "#bd3786"
             ],
             [
              0.5555555555555556,
              "#d8576b"
             ],
             [
              0.6666666666666666,
              "#ed7953"
             ],
             [
              0.7777777777777778,
              "#fb9f3a"
             ],
             [
              0.8888888888888888,
              "#fdca26"
             ],
             [
              1.0,
              "#f0f921"
             ]
            ]
           }
          ],
          "choropleth": [
           {
            "type": "choropleth",
            "colorbar": {
             "outlinewidth": 0,
             "ticks": ""
            }
           }
          ],
          "histogram2d": [
           {
            "type": "histogram2d",
            "colorbar": {
             "outlinewidth": 0,
             "ticks": ""
            },
            "colorscale": [
             [
              0.0,
              "#0d0887"
             ],
             [
              0.1111111111111111,
              "#46039f"
             ],
             [
              0.2222222222222222,
              "#7201a8"
             ],
             [
              0.3333333333333333,
              "#9c179e"
             ],
             [
              0.4444444444444444,
              "#bd3786"
             ],
             [
              0.5555555555555556,
              "#d8576b"
             ],
             [
              0.6666666666666666,
              "#ed7953"
             ],
             [
              0.7777777777777778,
              "#fb9f3a"
             ],
             [
              0.8888888888888888,
              "#fdca26"
             ],
             [
              1.0,
              "#f0f921"
             ]
            ]
           }
          ],
          "heatmap": [
           {
            "type": "heatmap",
            "colorbar": {
             "outlinewidth": 0,
             "ticks": ""
            },
            "colorscale": [
             [
              0.0,
              "#0d0887"
             ],
             [
              0.1111111111111111,
              "#46039f"
             ],
             [
              0.2222222222222222,
              "#7201a8"
             ],
             [
              0.3333333333333333,
              "#9c179e"
             ],
             [
              0.4444444444444444,
              "#bd3786"
             ],
             [
              0.5555555555555556,
              "#d8576b"
             ],
             [
              0.6666666666666666,
              "#ed7953"
             ],
             [
              0.7777777777777778,
              "#fb9f3a"
             ],
             [
              0.8888888888888888,
              "#fdca26"
             ],
             [
              1.0,
              "#f0f921"
             ]
            ]
           }
          ],
          "heatmapgl": [
           {
            "type": "heatmapgl",
            "colorbar": {
             "outlinewidth": 0,
             "ticks": ""
            },
            "colorscale": [
             [
              0.0,
              "#0d0887"
             ],
             [
              0.1111111111111111,
              "#46039f"
             ],
             [
              0.2222222222222222,
              "#7201a8"
             ],
             [
              0.3333333333333333,
              "#9c179e"
             ],
             [
              0.4444444444444444,
              "#bd3786"
             ],
             [
              0.5555555555555556,
              "#d8576b"
             ],
             [
              0.6666666666666666,
              "#ed7953"
             ],
             [
              0.7777777777777778,
              "#fb9f3a"
             ],
             [
              0.8888888888888888,
              "#fdca26"
             ],
             [
              1.0,
              "#f0f921"
             ]
            ]
           }
          ],
          "contourcarpet": [
           {
            "type": "contourcarpet",
            "colorbar": {
             "outlinewidth": 0,
             "ticks": ""
            }
           }
          ],
          "contour": [
           {
            "type": "contour",
            "colorbar": {
             "outlinewidth": 0,
             "ticks": ""
            },
            "colorscale": [
             [
              0.0,
              "#0d0887"
             ],
             [
              0.1111111111111111,
              "#46039f"
             ],
             [
              0.2222222222222222,
              "#7201a8"
             ],
             [
              0.3333333333333333,
              "#9c179e"
             ],
             [
              0.4444444444444444,
              "#bd3786"
             ],
             [
              0.5555555555555556,
              "#d8576b"
             ],
             [
              0.6666666666666666,
              "#ed7953"
             ],
             [
              0.7777777777777778,
              "#fb9f3a"
             ],
             [
              0.8888888888888888,
              "#fdca26"
             ],
             [
              1.0,
              "#f0f921"
             ]
            ]
           }
          ],
          "surface": [
           {
            "type": "surface",
            "colorbar": {
             "outlinewidth": 0,
             "ticks": ""
            },
            "colorscale": [
             [
              0.0,
              "#0d0887"
             ],
             [
              0.1111111111111111,
              "#46039f"
             ],
             [
              0.2222222222222222,
              "#7201a8"
             ],
             [
              0.3333333333333333,
              "#9c179e"
             ],
             [
              0.4444444444444444,
              "#bd3786"
             ],
             [
              0.5555555555555556,
              "#d8576b"
             ],
             [
              0.6666666666666666,
              "#ed7953"
             ],
             [
              0.7777777777777778,
              "#fb9f3a"
             ],
             [
              0.8888888888888888,
              "#fdca26"
             ],
             [
              1.0,
              "#f0f921"
             ]
            ]
           }
          ],
          "mesh3d": [
           {
            "type": "mesh3d",
            "colorbar": {
             "outlinewidth": 0,
             "ticks": ""
            }
           }
          ],
          "scatter": [
           {
            "marker": {
             "line": {
              "color": "#283442"
             }
            },
            "type": "scatter"
           }
          ],
          "parcoords": [
           {
            "type": "parcoords",
            "line": {
             "colorbar": {
              "outlinewidth": 0,
              "ticks": ""
             }
            }
           }
          ],
          "scatterpolargl": [
           {
            "type": "scatterpolargl",
            "marker": {
             "colorbar": {
              "outlinewidth": 0,
              "ticks": ""
             }
            }
           }
          ],
          "bar": [
           {
            "error_x": {
             "color": "#f2f5fa"
            },
            "error_y": {
             "color": "#f2f5fa"
            },
            "marker": {
             "line": {
              "color": "rgb(17,17,17)",
              "width": 0.5
             },
             "pattern": {
              "fillmode": "overlay",
              "size": 10,
              "solidity": 0.2
             }
            },
            "type": "bar"
           }
          ],
          "scattergeo": [
           {
            "type": "scattergeo",
            "marker": {
             "colorbar": {
              "outlinewidth": 0,
              "ticks": ""
             }
            }
           }
          ],
          "scatterpolar": [
           {
            "type": "scatterpolar",
            "marker": {
             "colorbar": {
              "outlinewidth": 0,
              "ticks": ""
             }
            }
           }
          ],
          "histogram": [
           {
            "marker": {
             "pattern": {
              "fillmode": "overlay",
              "size": 10,
              "solidity": 0.2
             }
            },
            "type": "histogram"
           }
          ],
          "scattergl": [
           {
            "marker": {
             "line": {
              "color": "#283442"
             }
            },
            "type": "scattergl"
           }
          ],
          "scatter3d": [
           {
            "type": "scatter3d",
            "line": {
             "colorbar": {
              "outlinewidth": 0,
              "ticks": ""
             }
            },
            "marker": {
             "colorbar": {
              "outlinewidth": 0,
              "ticks": ""
             }
            }
           }
          ],
          "scattermapbox": [
           {
            "type": "scattermapbox",
            "marker": {
             "colorbar": {
              "outlinewidth": 0,
              "ticks": ""
             }
            }
           }
          ],
          "scatterternary": [
           {
            "type": "scatterternary",
            "marker": {
             "colorbar": {
              "outlinewidth": 0,
              "ticks": ""
             }
            }
           }
          ],
          "scattercarpet": [
           {
            "type": "scattercarpet",
            "marker": {
             "colorbar": {
              "outlinewidth": 0,
              "ticks": ""
             }
            }
           }
          ],
          "carpet": [
           {
            "aaxis": {
             "endlinecolor": "#A2B1C6",
             "gridcolor": "#506784",
             "linecolor": "#506784",
             "minorgridcolor": "#506784",
             "startlinecolor": "#A2B1C6"
            },
            "baxis": {
             "endlinecolor": "#A2B1C6",
             "gridcolor": "#506784",
             "linecolor": "#506784",
             "minorgridcolor": "#506784",
             "startlinecolor": "#A2B1C6"
            },
            "type": "carpet"
           }
          ],
          "table": [
           {
            "cells": {
             "fill": {
              "color": "#506784"
             },
             "line": {
              "color": "rgb(17,17,17)"
             }
            },
            "header": {
             "fill": {
              "color": "#2a3f5f"
             },
             "line": {
              "color": "rgb(17,17,17)"
             }
            },
            "type": "table"
           }
          ],
          "barpolar": [
           {
            "marker": {
             "line": {
              "color": "rgb(17,17,17)",
              "width": 0.5
             },
             "pattern": {
              "fillmode": "overlay",
              "size": 10,
              "solidity": 0.2
             }
            },
            "type": "barpolar"
           }
          ],
          "pie": [
           {
            "automargin": true,
            "type": "pie"
           }
          ]
         },
         "layout": {
          "autotypenumbers": "strict",
          "colorway": [
           "#636efa",
           "#EF553B",
           "#00cc96",
           "#ab63fa",
           "#FFA15A",
           "#19d3f3",
           "#FF6692",
           "#B6E880",
           "#FF97FF",
           "#FECB52"
          ],
          "font": {
           "color": "#f2f5fa"
          },
          "hovermode": "closest",
          "hoverlabel": {
           "align": "left"
          },
          "paper_bgcolor": "rgb(17,17,17)",
          "plot_bgcolor": "rgb(17,17,17)",
          "polar": {
           "bgcolor": "rgb(17,17,17)",
           "angularaxis": {
            "gridcolor": "#506784",
            "linecolor": "#506784",
            "ticks": ""
           },
           "radialaxis": {
            "gridcolor": "#506784",
            "linecolor": "#506784",
            "ticks": ""
           }
          },
          "ternary": {
           "bgcolor": "rgb(17,17,17)",
           "aaxis": {
            "gridcolor": "#506784",
            "linecolor": "#506784",
            "ticks": ""
           },
           "baxis": {
            "gridcolor": "#506784",
            "linecolor": "#506784",
            "ticks": ""
           },
           "caxis": {
            "gridcolor": "#506784",
            "linecolor": "#506784",
            "ticks": ""
           }
          },
          "coloraxis": {
           "colorbar": {
            "outlinewidth": 0,
            "ticks": ""
           }
          },
          "colorscale": {
           "sequential": [
            [
             0.0,
             "#0d0887"
            ],
            [
             0.1111111111111111,
             "#46039f"
            ],
            [
             0.2222222222222222,
             "#7201a8"
            ],
            [
             0.3333333333333333,
             "#9c179e"
            ],
            [
             0.4444444444444444,
             "#bd3786"
            ],
            [
             0.5555555555555556,
             "#d8576b"
            ],
            [
             0.6666666666666666,
             "#ed7953"
            ],
            [
             0.7777777777777778,
             "#fb9f3a"
            ],
            [
             0.8888888888888888,
             "#fdca26"
            ],
            [
             1.0,
             "#f0f921"
            ]
           ],
           "sequentialminus": [
            [
             0.0,
             "#0d0887"
            ],
            [
             0.1111111111111111,
             "#46039f"
            ],
            [
             0.2222222222222222,
             "#7201a8"
            ],
            [
             0.3333333333333333,
             "#9c179e"
            ],
            [
             0.4444444444444444,
             "#bd3786"
            ],
            [
             0.5555555555555556,
             "#d8576b"
            ],
            [
             0.6666666666666666,
             "#ed7953"
            ],
            [
             0.7777777777777778,
             "#fb9f3a"
            ],
            [
             0.8888888888888888,
             "#fdca26"
            ],
            [
             1.0,
             "#f0f921"
            ]
           ],
           "diverging": [
            [
             0,
             "#8e0152"
            ],
            [
             0.1,
             "#c51b7d"
            ],
            [
             0.2,
             "#de77ae"
            ],
            [
             0.3,
             "#f1b6da"
            ],
            [
             0.4,
             "#fde0ef"
            ],
            [
             0.5,
             "#f7f7f7"
            ],
            [
             0.6,
             "#e6f5d0"
            ],
            [
             0.7,
             "#b8e186"
            ],
            [
             0.8,
             "#7fbc41"
            ],
            [
             0.9,
             "#4d9221"
            ],
            [
             1,
             "#276419"
            ]
           ]
          },
          "xaxis": {
           "gridcolor": "#283442",
           "linecolor": "#506784",
           "ticks": "",
           "title": {
            "standoff": 15
           },
           "zerolinecolor": "#283442",
           "automargin": true,
           "zerolinewidth": 2
          },
          "yaxis": {
           "gridcolor": "#283442",
           "linecolor": "#506784",
           "ticks": "",
           "title": {
            "standoff": 15
           },
           "zerolinecolor": "#283442",
           "automargin": true,
           "zerolinewidth": 2
          },
          "scene": {
           "xaxis": {
            "backgroundcolor": "rgb(17,17,17)",
            "gridcolor": "#506784",
            "linecolor": "#506784",
            "showbackground": true,
            "ticks": "",
            "zerolinecolor": "#C8D4E3",
            "gridwidth": 2
           },
           "yaxis": {
            "backgroundcolor": "rgb(17,17,17)",
            "gridcolor": "#506784",
            "linecolor": "#506784",
            "showbackground": true,
            "ticks": "",
            "zerolinecolor": "#C8D4E3",
            "gridwidth": 2
           },
           "zaxis": {
            "backgroundcolor": "rgb(17,17,17)",
            "gridcolor": "#506784",
            "linecolor": "#506784",
            "showbackground": true,
            "ticks": "",
            "zerolinecolor": "#C8D4E3",
            "gridwidth": 2
           }
          },
          "shapedefaults": {
           "line": {
            "color": "#f2f5fa"
           }
          },
          "annotationdefaults": {
           "arrowcolor": "#f2f5fa",
           "arrowhead": 0,
           "arrowwidth": 1
          },
          "geo": {
           "bgcolor": "rgb(17,17,17)",
           "landcolor": "rgb(17,17,17)",
           "subunitcolor": "#506784",
           "showland": true,
           "showlakes": true,
           "lakecolor": "rgb(17,17,17)"
          },
          "title": {
           "x": 0.05
          },
          "updatemenudefaults": {
           "bgcolor": "#506784",
           "borderwidth": 0
          },
          "sliderdefaults": {
           "bgcolor": "#C8D4E3",
           "borderwidth": 1,
           "bordercolor": "rgb(17,17,17)",
           "tickwidth": 0
          },
          "mapbox": {
           "style": "dark"
          }
         }
        },
        "geo": {
         "domain": {
          "x": [
           0.0,
           1.0
          ],
          "y": [
           0.0,
           1.0
          ]
         },
         "center": {},
         "projection": {
          "type": "natural earth",
          "rotation": {
           "lon": 40
          }
         },
         "showframe": false,
         "showcoastlines": false,
         "bgcolor": "rgba(255,255,255,0)",
         "showcountries": true,
         "countrywidth": 2,
         "landcolor": "white"
        },
        "coloraxis": {
         "colorbar": {
          "title": {
           "text": "Average Medals",
           "font": {
            "color": "#444444"
           }
          },
          "tickfont": {
           "color": "#666666"
          },
          "thickness": 15,
          "len": 0.6,
          "yanchor": "middle",
          "y": 0.5,
          "x": 0.9
         },
         "colorscale": [
          [
           0.0,
           "rgb(0, 147, 146)"
          ],
          [
           0.16666666666666666,
           "rgb(114, 170, 161)"
          ],
          [
           0.3333333333333333,
           "rgb(177, 199, 179)"
          ],
          [
           0.5,
           "rgb(241, 234, 200)"
          ],
          [
           0.6666666666666666,
           "rgb(229, 185, 173)"
          ],
          [
           0.8333333333333334,
           "rgb(217, 137, 148)"
          ],
          [
           1.0,
           "rgb(208, 88, 126)"
          ]
         ]
        },
        "legend": {
         "tracegroupgap": 0
        },
        "margin": {
         "t": 60,
         "r": 0,
         "l": 0,
         "b": 0
        },
        "font": {
         "family": "Time",
         "size": 16,
         "color": "#555555"
        },
        "paper_bgcolor": "rgba(0,0,0,0)",
        "plot_bgcolor": "rgba(0,0,0,0)"
       },
       "config": {
        "plotlyServerURL": "https://plot.ly"
       }
      },
      "text/html": "<div>                            <div id=\"70a9b998-3d92-4a67-98e9-81f9838e57d1\" class=\"plotly-graph-div\" style=\"height:525px; width:100%;\"></div>            <script type=\"text/javascript\">                require([\"plotly\"], function(Plotly) {                    window.PLOTLYENV=window.PLOTLYENV || {};                                    if (document.getElementById(\"70a9b998-3d92-4a67-98e9-81f9838e57d1\")) {                    Plotly.newPlot(                        \"70a9b998-3d92-4a67-98e9-81f9838e57d1\",                        [{\"coloraxis\":\"coloraxis\",\"customdata\":[[0,0,1],[0,0,2],[1,0,1],[1,1,2],[3,1,0],[0,2,1],[2,2,2],[7,7,8],[3,1,1],[1,1,2],[1,1,3],[1,2,4],[1,0,1],[1,1,0],[0,0,1],[2,4,6],[2,2,2],[0,0,1],[0,0,0],[0,0,2],[0,1,0],[2,2,4],[0,0,2],[3,5,5],[0,0,1],[0,0,0],[0,0,1],[0,0,0],[3,4,5],[2,5,9],[0,1,0],[0,1,0],[28,21,18],[1,1,2],[0,1,2],[0,0,1],[2,2,2],[5,4,5],[0,1,0],[3,3,4],[3,3,3],[1,3,2],[2,3,3],[0,5,3],[0,0,1],[1,0,0],[1,1,1],[31,26,25],[1,1,0],[1,1,2],[0,0,1],[1,1,2],[2,1,2],[1,1,2],[1,0,0],[4,3,4],[5,8,12],[0,1,0],[8,9,10],[11,5,4],[0,1,0],[2,2,2],[13,13,15],[5,12,7],[0,0,1],[10,11,12],[5,7,5],[2,2,2],[0,0,1],[0,0,0],[0,0,1],[0,0,0],[1,1,1],[7,6,7],[6,5,5],[0,0,0],[1,0,1],[0,1,2],[0,1,1],[1,0,0],[1,1,2],[2,2,2],[0,0,1],[1,1,1],[2,0,0],[0,1,1],[8,7,8],[12,12,12],[0,0,1],[2,2,2],[8,7,9],[7,7,4],[0,1,0],[2,3,5],[3,3,3],[1,0,0],[0,0,1],[0,1,2],[0,1,1],[0,1,0],[0,1,1],[1,1,2],[1,0,0],[0,0,1],[0,1,1],[0,0,1],[1,1,2],[0,2,0],[4,2,3],[0,1,1],[0,1,1],[0,1,0],[1,0,1],[0,0,0],[0,2,0],[4,4,5],[0,1,0],[2,5,1],[3,2,2],[0,1,0],[0,0,0],[0,1,1],[1,2,2],[0,1,0],[2,2,2],[0,0,0],[0,0,1],[0,1,0],[0,1,0],[0,1,1],[0,0,3],[3,4,6],[3,2,4],[0,1,1],[0,0,1],[0,0,1],[20,28,23],[0,0,1],[4,5,6],[36,30,30],[0,2,2],[1,1,0],[0,1,0],[0,1,2],[0,1,1],[0,1,0],[2,2,2],[0,2,0],[0,0,1],[1,2,1],[1,1,1],[1,2,1],[2,0,3],[6,6,6],[3,4,3],[0,0,1],[0,1,0],[0,1,0],[0,0,0],[5,7,6],[10,5,9],[2,3,3],[0,1,0],[0,0,0],[0,0,1],[0,0,1],[0,2,0],[1,1,2],[0,0,1],[0,1,0],[0,0,1],[1,0,1],[2,2,2],[0,1,0],[1,1,0],[5,5,9],[45,38,29],[0,0,0],[38,30,27],[44,36,30],[9,18,12],[0,0,1],[0,0,1],[2,1,3],[0,1,1],[0,1,0],[0,1,0],[11,13,16],[2,2,2],[0,0,1],[1,1,0]],\"geo\":\"geo\",\"hovertemplate\":\"<b>%{hovertext}</b><br><br>Country=%{location}<br>Gold=%{customdata[0]}<br>Silver=%{customdata[1]}<br>Bronze=%{customdata[2]}<br>Average Medals=%{z}<extra></extra>\",\"hovertext\":[\"Afghanistan\",\"Albania\",\"Algeria\",\"Argentina\",\"Argentina\\u00a0\",\"Armenia\",\"Australasia\",\"Australia\",\"Australia\\u00a0\",\"Austria\",\"Austria\\u00a0\",\"Azerbaijan\",\"Bahamas\",\"Bahrain\",\"Barbados\",\"Belarus\",\"Belgium\",\"Belgium\\u00a0\",\"Bermuda\",\"Bohemia\",\"Botswana\",\"Brazil\",\"British West Indies\",\"Bulgaria\",\"Burkina Faso\",\"Burundi\",\"Cabo Verde\",\"Cameroon\",\"Canada\",\"Canada\\u00a0\",\"Ceylon\",\"Chile\",\"China\",\"Chinese Taipei\",\"Colombia\",\"Costa Rica\",\"Croatia\",\"Cuba\",\"Cyprus\",\"Czech Republic\",\"Czechoslovakia\",\"Czechoslovakia\\u00a0\",\"Denmark\",\"Denmark\\u00a0\",\"Djibouti\",\"Dominica\",\"Dominican Republic\",\"East Germany\",\"Ecuador\",\"Egypt\",\"Eritrea\",\"Estonia\",\"Ethiopia\",\"FR Yugoslavia\",\"Fiji\",\"Finland\",\"Finland\\u00a0\",\"Formosa\",\"France\",\"France\\u00a0\",\"Gabon\",\"Georgia\",\"Germany\",\"Germany\\u00a0\",\"Ghana\",\"Great Britain\",\"Great Britain\\u00a0\",\"Greece\",\"Grenada\",\"Guatemala\",\"Guyana\",\"Haiti\",\"Hong Kong\",\"Hungary\",\"Hungary\\u00a0\",\"Iceland\",\"Independent Olympic Athletes\",\"Independent Olympic Participants\",\"India\",\"India\\u00a0\",\"Indonesia\",\"Iran\",\"Iraq\",\"Ireland\",\"Ireland\\u00a0\",\"Israel\",\"Italy\",\"Italy\\u00a0\",\"Ivory Coast\",\"Jamaica\",\"Japan\",\"Japan\\u00a0\",\"Jordan\",\"Kazakhstan\",\"Kenya\",\"Kosovo\",\"Kuwait\",\"Kyrgyzstan\",\"Latvia\",\"Latvia\\u00a0\",\"Lebanon\",\"Lithuania\",\"Luxembourg\",\"Macedonia\",\"Malaysia\",\"Mauritius\",\"Mexico\",\"Mexico\\u00a0\",\"Mixed team\",\"Moldova\",\"Mongolia\",\"Montenegro\",\"Morocco\",\"Mozambique\",\"Namibia\",\"Netherlands\",\"Netherlands Antilles\",\"Netherlands\\u00a0\",\"New Zealand\",\"New Zealand\\u00a0\",\"Niger\",\"Nigeria\",\"North Korea\",\"North Macedonia\",\"Norway\",\"Pakistan\",\"Panama\",\"Paraguay\",\"Peru\",\"Philippines\",\"Philippines\\u00a0\",\"Poland\",\"Poland\\u00a0\",\"Portugal\",\"Puerto Rico\",\"Qatar\",\"ROC\",\"Refugee Olympic Team\",\"Romania\",\"Russia\",\"Russian Empire\",\"Saint Lucia\",\"Samoa\",\"San Marino\",\"Saudi Arabia\",\"Senegal\",\"Serbia\",\"Serbia and Montenegro\",\"Singapore\",\"Slovakia\",\"Slovenia\",\"South Africa\",\"South Africa\\u00a0\",\"South Korea\",\"Spain\",\"Spain\\u00a0\",\"Sri Lanka\",\"Sudan\",\"Suriname\",\"Sweden\",\"Sweden\\u00a0\",\"Switzerland\",\"Switzerland\\u00a0\",\"Syria\",\"Taiwan\",\"Tajikistan\",\"Tanzania\",\"Thailand\",\"Togo\",\"Tonga\",\"Trinidad and Tobago\",\"Tunisia\",\"Turkey\",\"Turkmenistan\",\"Uganda\",\"Ukraine\",\"Unified Team\",\"United Arab Emirates\",\"United States\",\"United States\\u00a0\",\"United Team of Germany\",\"Uruguay\",\"Uruguay\\u00a0\",\"Uzbekistan\",\"Venezuela\",\"Vietnam\",\"Virgin Islands\",\"West Germany\",\"Yugoslavia\",\"Zambia\",\"Zimbabwe\"],\"locationmode\":\"country names\",\"locations\":[\"Afghanistan\",\"Albania\",\"Algeria\",\"Argentina\",\"Argentina\\u00a0\",\"Armenia\",\"Australasia\",\"Australia\",\"Australia\\u00a0\",\"Austria\",\"Austria\\u00a0\",\"Azerbaijan\",\"Bahamas\",\"Bahrain\",\"Barbados\",\"Belarus\",\"Belgium\",\"Belgium\\u00a0\",\"Bermuda\",\"Bohemia\",\"Botswana\",\"Brazil\",\"British West Indies\",\"Bulgaria\",\"Burkina Faso\",\"Burundi\",\"Cabo Verde\",\"Cameroon\",\"Canada\",\"Canada\\u00a0\",\"Ceylon\",\"Chile\",\"China\",\"Chinese Taipei\",\"Colombia\",\"Costa Rica\",\"Croatia\",\"Cuba\",\"Cyprus\",\"Czech Republic\",\"Czechoslovakia\",\"Czechoslovakia\\u00a0\",\"Denmark\",\"Denmark\\u00a0\",\"Djibouti\",\"Dominica\",\"Dominican Republic\",\"East Germany\",\"Ecuador\",\"Egypt\",\"Eritrea\",\"Estonia\",\"Ethiopia\",\"FR Yugoslavia\",\"Fiji\",\"Finland\",\"Finland\\u00a0\",\"Formosa\",\"France\",\"France\\u00a0\",\"Gabon\",\"Georgia\",\"Germany\",\"Germany\\u00a0\",\"Ghana\",\"Great Britain\",\"Great Britain\\u00a0\",\"Greece\",\"Grenada\",\"Guatemala\",\"Guyana\",\"Haiti\",\"Hong Kong\",\"Hungary\",\"Hungary\\u00a0\",\"Iceland\",\"Independent Olympic Athletes\",\"Independent Olympic Participants\",\"India\",\"India\\u00a0\",\"Indonesia\",\"Iran\",\"Iraq\",\"Ireland\",\"Ireland\\u00a0\",\"Israel\",\"Italy\",\"Italy\\u00a0\",\"Ivory Coast\",\"Jamaica\",\"Japan\",\"Japan\\u00a0\",\"Jordan\",\"Kazakhstan\",\"Kenya\",\"Kosovo\",\"Kuwait\",\"Kyrgyzstan\",\"Latvia\",\"Latvia\\u00a0\",\"Lebanon\",\"Lithuania\",\"Luxembourg\",\"Macedonia\",\"Malaysia\",\"Mauritius\",\"Mexico\",\"Mexico\\u00a0\",\"Mixed team\",\"Moldova\",\"Mongolia\",\"Montenegro\",\"Morocco\",\"Mozambique\",\"Namibia\",\"Netherlands\",\"Netherlands Antilles\",\"Netherlands\\u00a0\",\"New Zealand\",\"New Zealand\\u00a0\",\"Niger\",\"Nigeria\",\"North Korea\",\"North Macedonia\",\"Norway\",\"Pakistan\",\"Panama\",\"Paraguay\",\"Peru\",\"Philippines\",\"Philippines\\u00a0\",\"Poland\",\"Poland\\u00a0\",\"Portugal\",\"Puerto Rico\",\"Qatar\",\"ROC\",\"Refugee Olympic Team\",\"Romania\",\"Russia\",\"Russian Empire\",\"Saint Lucia\",\"Samoa\",\"San Marino\",\"Saudi Arabia\",\"Senegal\",\"Serbia\",\"Serbia and Montenegro\",\"Singapore\",\"Slovakia\",\"Slovenia\",\"South Africa\",\"South Africa\\u00a0\",\"South Korea\",\"Spain\",\"Spain\\u00a0\",\"Sri Lanka\",\"Sudan\",\"Suriname\",\"Sweden\",\"Sweden\\u00a0\",\"Switzerland\",\"Switzerland\\u00a0\",\"Syria\",\"Taiwan\",\"Tajikistan\",\"Tanzania\",\"Thailand\",\"Togo\",\"Tonga\",\"Trinidad and Tobago\",\"Tunisia\",\"Turkey\",\"Turkmenistan\",\"Uganda\",\"Ukraine\",\"Unified Team\",\"United Arab Emirates\",\"United States\",\"United States\\u00a0\",\"United Team of Germany\",\"Uruguay\",\"Uruguay\\u00a0\",\"Uzbekistan\",\"Venezuela\",\"Vietnam\",\"Virgin Islands\",\"West Germany\",\"Yugoslavia\",\"Zambia\",\"Zimbabwe\"],\"name\":\"\",\"z\":[1,2,2,4,4,3,6,22,5,4,5,7,2,2,1,12,6,1,1,2,1,8,2,13,1,1,1,1,13,16,1,2,66,4,3,1,5,14,1,9,9,6,7,8,1,1,2,82,2,3,1,3,4,4,1,11,25,1,27,20,1,6,40,24,1,33,17,6,1,2,1,1,3,19,16,1,2,3,2,1,4,5,1,3,2,2,23,36,1,6,24,18,1,10,9,2,1,3,2,1,1,3,1,1,2,1,4,2,8,2,2,1,2,1,2,13,1,8,7,1,1,3,5,1,7,1,1,1,1,2,3,14,9,2,1,2,71,1,15,96,4,2,1,3,1,1,6,2,1,4,3,5,5,18,9,1,1,1,1,18,24,8,1,1,1,2,2,3,1,1,2,2,6,1,2,19,112,1,95,110,39,1,1,6,2,1,1,41,6,1,3],\"type\":\"choropleth\"}],                        {\"template\":{\"data\":{\"histogram2dcontour\":[{\"type\":\"histogram2dcontour\",\"colorbar\":{\"outlinewidth\":0,\"ticks\":\"\"},\"colorscale\":[[0.0,\"#0d0887\"],[0.1111111111111111,\"#46039f\"],[0.2222222222222222,\"#7201a8\"],[0.3333333333333333,\"#9c179e\"],[0.4444444444444444,\"#bd3786\"],[0.5555555555555556,\"#d8576b\"],[0.6666666666666666,\"#ed7953\"],[0.7777777777777778,\"#fb9f3a\"],[0.8888888888888888,\"#fdca26\"],[1.0,\"#f0f921\"]]}],\"choropleth\":[{\"type\":\"choropleth\",\"colorbar\":{\"outlinewidth\":0,\"ticks\":\"\"}}],\"histogram2d\":[{\"type\":\"histogram2d\",\"colorbar\":{\"outlinewidth\":0,\"ticks\":\"\"},\"colorscale\":[[0.0,\"#0d0887\"],[0.1111111111111111,\"#46039f\"],[0.2222222222222222,\"#7201a8\"],[0.3333333333333333,\"#9c179e\"],[0.4444444444444444,\"#bd3786\"],[0.5555555555555556,\"#d8576b\"],[0.6666666666666666,\"#ed7953\"],[0.7777777777777778,\"#fb9f3a\"],[0.8888888888888888,\"#fdca26\"],[1.0,\"#f0f921\"]]}],\"heatmap\":[{\"type\":\"heatmap\",\"colorbar\":{\"outlinewidth\":0,\"ticks\":\"\"},\"colorscale\":[[0.0,\"#0d0887\"],[0.1111111111111111,\"#46039f\"],[0.2222222222222222,\"#7201a8\"],[0.3333333333333333,\"#9c179e\"],[0.4444444444444444,\"#bd3786\"],[0.5555555555555556,\"#d8576b\"],[0.6666666666666666,\"#ed7953\"],[0.7777777777777778,\"#fb9f3a\"],[0.8888888888888888,\"#fdca26\"],[1.0,\"#f0f921\"]]}],\"heatmapgl\":[{\"type\":\"heatmapgl\",\"colorbar\":{\"outlinewidth\":0,\"ticks\":\"\"},\"colorscale\":[[0.0,\"#0d0887\"],[0.1111111111111111,\"#46039f\"],[0.2222222222222222,\"#7201a8\"],[0.3333333333333333,\"#9c179e\"],[0.4444444444444444,\"#bd3786\"],[0.5555555555555556,\"#d8576b\"],[0.6666666666666666,\"#ed7953\"],[0.7777777777777778,\"#fb9f3a\"],[0.8888888888888888,\"#fdca26\"],[1.0,\"#f0f921\"]]}],\"contourcarpet\":[{\"type\":\"contourcarpet\",\"colorbar\":{\"outlinewidth\":0,\"ticks\":\"\"}}],\"contour\":[{\"type\":\"contour\",\"colorbar\":{\"outlinewidth\":0,\"ticks\":\"\"},\"colorscale\":[[0.0,\"#0d0887\"],[0.1111111111111111,\"#46039f\"],[0.2222222222222222,\"#7201a8\"],[0.3333333333333333,\"#9c179e\"],[0.4444444444444444,\"#bd3786\"],[0.5555555555555556,\"#d8576b\"],[0.6666666666666666,\"#ed7953\"],[0.7777777777777778,\"#fb9f3a\"],[0.8888888888888888,\"#fdca26\"],[1.0,\"#f0f921\"]]}],\"surface\":[{\"type\":\"surface\",\"colorbar\":{\"outlinewidth\":0,\"ticks\":\"\"},\"colorscale\":[[0.0,\"#0d0887\"],[0.1111111111111111,\"#46039f\"],[0.2222222222222222,\"#7201a8\"],[0.3333333333333333,\"#9c179e\"],[0.4444444444444444,\"#bd3786\"],[0.5555555555555556,\"#d8576b\"],[0.6666666666666666,\"#ed7953\"],[0.7777777777777778,\"#fb9f3a\"],[0.8888888888888888,\"#fdca26\"],[1.0,\"#f0f921\"]]}],\"mesh3d\":[{\"type\":\"mesh3d\",\"colorbar\":{\"outlinewidth\":0,\"ticks\":\"\"}}],\"scatter\":[{\"marker\":{\"line\":{\"color\":\"#283442\"}},\"type\":\"scatter\"}],\"parcoords\":[{\"type\":\"parcoords\",\"line\":{\"colorbar\":{\"outlinewidth\":0,\"ticks\":\"\"}}}],\"scatterpolargl\":[{\"type\":\"scatterpolargl\",\"marker\":{\"colorbar\":{\"outlinewidth\":0,\"ticks\":\"\"}}}],\"bar\":[{\"error_x\":{\"color\":\"#f2f5fa\"},\"error_y\":{\"color\":\"#f2f5fa\"},\"marker\":{\"line\":{\"color\":\"rgb(17,17,17)\",\"width\":0.5},\"pattern\":{\"fillmode\":\"overlay\",\"size\":10,\"solidity\":0.2}},\"type\":\"bar\"}],\"scattergeo\":[{\"type\":\"scattergeo\",\"marker\":{\"colorbar\":{\"outlinewidth\":0,\"ticks\":\"\"}}}],\"scatterpolar\":[{\"type\":\"scatterpolar\",\"marker\":{\"colorbar\":{\"outlinewidth\":0,\"ticks\":\"\"}}}],\"histogram\":[{\"marker\":{\"pattern\":{\"fillmode\":\"overlay\",\"size\":10,\"solidity\":0.2}},\"type\":\"histogram\"}],\"scattergl\":[{\"marker\":{\"line\":{\"color\":\"#283442\"}},\"type\":\"scattergl\"}],\"scatter3d\":[{\"type\":\"scatter3d\",\"line\":{\"colorbar\":{\"outlinewidth\":0,\"ticks\":\"\"}},\"marker\":{\"colorbar\":{\"outlinewidth\":0,\"ticks\":\"\"}}}],\"scattermapbox\":[{\"type\":\"scattermapbox\",\"marker\":{\"colorbar\":{\"outlinewidth\":0,\"ticks\":\"\"}}}],\"scatterternary\":[{\"type\":\"scatterternary\",\"marker\":{\"colorbar\":{\"outlinewidth\":0,\"ticks\":\"\"}}}],\"scattercarpet\":[{\"type\":\"scattercarpet\",\"marker\":{\"colorbar\":{\"outlinewidth\":0,\"ticks\":\"\"}}}],\"carpet\":[{\"aaxis\":{\"endlinecolor\":\"#A2B1C6\",\"gridcolor\":\"#506784\",\"linecolor\":\"#506784\",\"minorgridcolor\":\"#506784\",\"startlinecolor\":\"#A2B1C6\"},\"baxis\":{\"endlinecolor\":\"#A2B1C6\",\"gridcolor\":\"#506784\",\"linecolor\":\"#506784\",\"minorgridcolor\":\"#506784\",\"startlinecolor\":\"#A2B1C6\"},\"type\":\"carpet\"}],\"table\":[{\"cells\":{\"fill\":{\"color\":\"#506784\"},\"line\":{\"color\":\"rgb(17,17,17)\"}},\"header\":{\"fill\":{\"color\":\"#2a3f5f\"},\"line\":{\"color\":\"rgb(17,17,17)\"}},\"type\":\"table\"}],\"barpolar\":[{\"marker\":{\"line\":{\"color\":\"rgb(17,17,17)\",\"width\":0.5},\"pattern\":{\"fillmode\":\"overlay\",\"size\":10,\"solidity\":0.2}},\"type\":\"barpolar\"}],\"pie\":[{\"automargin\":true,\"type\":\"pie\"}]},\"layout\":{\"autotypenumbers\":\"strict\",\"colorway\":[\"#636efa\",\"#EF553B\",\"#00cc96\",\"#ab63fa\",\"#FFA15A\",\"#19d3f3\",\"#FF6692\",\"#B6E880\",\"#FF97FF\",\"#FECB52\"],\"font\":{\"color\":\"#f2f5fa\"},\"hovermode\":\"closest\",\"hoverlabel\":{\"align\":\"left\"},\"paper_bgcolor\":\"rgb(17,17,17)\",\"plot_bgcolor\":\"rgb(17,17,17)\",\"polar\":{\"bgcolor\":\"rgb(17,17,17)\",\"angularaxis\":{\"gridcolor\":\"#506784\",\"linecolor\":\"#506784\",\"ticks\":\"\"},\"radialaxis\":{\"gridcolor\":\"#506784\",\"linecolor\":\"#506784\",\"ticks\":\"\"}},\"ternary\":{\"bgcolor\":\"rgb(17,17,17)\",\"aaxis\":{\"gridcolor\":\"#506784\",\"linecolor\":\"#506784\",\"ticks\":\"\"},\"baxis\":{\"gridcolor\":\"#506784\",\"linecolor\":\"#506784\",\"ticks\":\"\"},\"caxis\":{\"gridcolor\":\"#506784\",\"linecolor\":\"#506784\",\"ticks\":\"\"}},\"coloraxis\":{\"colorbar\":{\"outlinewidth\":0,\"ticks\":\"\"}},\"colorscale\":{\"sequential\":[[0.0,\"#0d0887\"],[0.1111111111111111,\"#46039f\"],[0.2222222222222222,\"#7201a8\"],[0.3333333333333333,\"#9c179e\"],[0.4444444444444444,\"#bd3786\"],[0.5555555555555556,\"#d8576b\"],[0.6666666666666666,\"#ed7953\"],[0.7777777777777778,\"#fb9f3a\"],[0.8888888888888888,\"#fdca26\"],[1.0,\"#f0f921\"]],\"sequentialminus\":[[0.0,\"#0d0887\"],[0.1111111111111111,\"#46039f\"],[0.2222222222222222,\"#7201a8\"],[0.3333333333333333,\"#9c179e\"],[0.4444444444444444,\"#bd3786\"],[0.5555555555555556,\"#d8576b\"],[0.6666666666666666,\"#ed7953\"],[0.7777777777777778,\"#fb9f3a\"],[0.8888888888888888,\"#fdca26\"],[1.0,\"#f0f921\"]],\"diverging\":[[0,\"#8e0152\"],[0.1,\"#c51b7d\"],[0.2,\"#de77ae\"],[0.3,\"#f1b6da\"],[0.4,\"#fde0ef\"],[0.5,\"#f7f7f7\"],[0.6,\"#e6f5d0\"],[0.7,\"#b8e186\"],[0.8,\"#7fbc41\"],[0.9,\"#4d9221\"],[1,\"#276419\"]]},\"xaxis\":{\"gridcolor\":\"#283442\",\"linecolor\":\"#506784\",\"ticks\":\"\",\"title\":{\"standoff\":15},\"zerolinecolor\":\"#283442\",\"automargin\":true,\"zerolinewidth\":2},\"yaxis\":{\"gridcolor\":\"#283442\",\"linecolor\":\"#506784\",\"ticks\":\"\",\"title\":{\"standoff\":15},\"zerolinecolor\":\"#283442\",\"automargin\":true,\"zerolinewidth\":2},\"scene\":{\"xaxis\":{\"backgroundcolor\":\"rgb(17,17,17)\",\"gridcolor\":\"#506784\",\"linecolor\":\"#506784\",\"showbackground\":true,\"ticks\":\"\",\"zerolinecolor\":\"#C8D4E3\",\"gridwidth\":2},\"yaxis\":{\"backgroundcolor\":\"rgb(17,17,17)\",\"gridcolor\":\"#506784\",\"linecolor\":\"#506784\",\"showbackground\":true,\"ticks\":\"\",\"zerolinecolor\":\"#C8D4E3\",\"gridwidth\":2},\"zaxis\":{\"backgroundcolor\":\"rgb(17,17,17)\",\"gridcolor\":\"#506784\",\"linecolor\":\"#506784\",\"showbackground\":true,\"ticks\":\"\",\"zerolinecolor\":\"#C8D4E3\",\"gridwidth\":2}},\"shapedefaults\":{\"line\":{\"color\":\"#f2f5fa\"}},\"annotationdefaults\":{\"arrowcolor\":\"#f2f5fa\",\"arrowhead\":0,\"arrowwidth\":1},\"geo\":{\"bgcolor\":\"rgb(17,17,17)\",\"landcolor\":\"rgb(17,17,17)\",\"subunitcolor\":\"#506784\",\"showland\":true,\"showlakes\":true,\"lakecolor\":\"rgb(17,17,17)\"},\"title\":{\"x\":0.05},\"updatemenudefaults\":{\"bgcolor\":\"#506784\",\"borderwidth\":0},\"sliderdefaults\":{\"bgcolor\":\"#C8D4E3\",\"borderwidth\":1,\"bordercolor\":\"rgb(17,17,17)\",\"tickwidth\":0},\"mapbox\":{\"style\":\"dark\"}}},\"geo\":{\"domain\":{\"x\":[0.0,1.0],\"y\":[0.0,1.0]},\"center\":{},\"projection\":{\"type\":\"natural earth\",\"rotation\":{\"lon\":40}},\"showframe\":false,\"showcoastlines\":false,\"bgcolor\":\"rgba(255,255,255,0)\",\"showcountries\":true,\"countrywidth\":2,\"landcolor\":\"white\"},\"coloraxis\":{\"colorbar\":{\"title\":{\"text\":\"Average Medals\",\"font\":{\"color\":\"#444444\"}},\"tickfont\":{\"color\":\"#666666\"},\"thickness\":15,\"len\":0.6,\"yanchor\":\"middle\",\"y\":0.5,\"x\":0.9},\"colorscale\":[[0.0,\"rgb(0, 147, 146)\"],[0.16666666666666666,\"rgb(114, 170, 161)\"],[0.3333333333333333,\"rgb(177, 199, 179)\"],[0.5,\"rgb(241, 234, 200)\"],[0.6666666666666666,\"rgb(229, 185, 173)\"],[0.8333333333333334,\"rgb(217, 137, 148)\"],[1.0,\"rgb(208, 88, 126)\"]]},\"legend\":{\"tracegroupgap\":0},\"margin\":{\"t\":60,\"r\":0,\"l\":0,\"b\":0},\"font\":{\"family\":\"Time\",\"size\":16,\"color\":\"#555555\"},\"paper_bgcolor\":\"rgba(0,0,0,0)\",\"plot_bgcolor\":\"rgba(0,0,0,0)\"},                        {\"responsive\": true}                    ).then(function(){\n                            \nvar gd = document.getElementById('70a9b998-3d92-4a67-98e9-81f9838e57d1');\nvar x = new MutationObserver(function (mutations, observer) {{\n        var display = window.getComputedStyle(gd).display;\n        if (!display || display === 'none') {{\n            console.log([gd, 'removed!']);\n            Plotly.purge(gd);\n            observer.disconnect();\n        }}\n}});\n\n// Listen for the removal of the full notebook cells\nvar notebookContainer = gd.closest('#notebook-container');\nif (notebookContainer) {{\n    x.observe(notebookContainer, {childList: true});\n}}\n\n// Listen for the clearing of the current output cell\nvar outputEl = gd.closest('.output');\nif (outputEl) {{\n    x.observe(outputEl, {childList: true});\n}}\n\n                        })                };                });            </script>        </div>"
     },
     "metadata": {},
     "output_type": "display_data"
    }
   ],
   "source": [
    "import plotly.express as px\n",
    "import country_converter as coco\n",
    "\n",
    "# 标准化国家名称（处理简称/别称）\n",
    "# 标准化国家名称（确保与地图数据库匹配）\n",
    "# 选择以下任一颜色主题\n",
    "color_scale = \"Tealrose\"     # 蓝绿色渐变（推荐）\n",
    "# color_scale = \"Mint\"       # 薄荷绿\n",
    "# color_scale = \"Peach\"      # 淡橙粉\n",
    "# color_scale = \"Pastel\"     # 通用淡彩色\n",
    "# color_scale = \"Ice\"        # 冰蓝色系\n",
    "\n",
    "# 或自定义淡雅渐变色（HSL格式控制饱和度/亮度）\n",
    "custom_colors = [\n",
    "    [0.0, \"hsl(180, 20%, 95%)\"],   # 极淡蓝\n",
    "    [0.2, \"hsl(200, 30%, 85%)\"],  \n",
    "    [0.4, \"hsl(220, 40%, 75%)\"],\n",
    "    [0.6, \"hsl(240, 50%, 65%)\"],\n",
    "    [1.0, \"hsl(260, 60%, 55%)\"]\n",
    "]\n",
    "# 步骤2: 绘制地图（使用淡雅配色）\n",
    "fig = px.choropleth(\n",
    "    averages,\n",
    "    locations=\"Country\",\n",
    "    locationmode=\"country names\",\n",
    "    color=\"Total\",\n",
    "    hover_name=\"Country\",\n",
    "    hover_data=[\"Gold\", \"Silver\", \"Bronze\"],\n",
    "    color_continuous_scale=\"Tealrose\",  # 改用淡雅配色\n",
    "    #title=\"Average Total Medals by Country (2000-2020)\",\n",
    "    labels={\"Total\": \"Average Medals\"},\n",
    "    #range_color=[0, averages[\"Total\"].quantile(0.9)],  # 聚焦非极端值范围\n",
    ")\n",
    "\n",
    "\"\"\"fig.add_trace(\n",
    "    px.scatter_geo(\n",
    "        top5,\n",
    "        locations=\"Country\",\n",
    "        locationmode=\"country names\",\n",
    "        text=\"Label\",\n",
    "        size=[10]*5  # 控制文本背景点的大小（隐藏用）\n",
    "    ).update_traces(\n",
    "        textposition=\"middle center\",\n",
    "        textfont=dict(color=\"black\", size=12, family=\"Arial Bold\"),\n",
    "        marker=dict(color=\"rgba(255,255,255,0)\", size=0),  # 隐藏散点\n",
    "        hoverinfo=\"skip\"\n",
    "    ).data[0]\n",
    ")\n",
    "\"\"\"\n",
    "\n",
    "\n",
    "# 步骤3: 高级美学调整\n",
    "fig.update_layout(\n",
    "    # 颜色条样式\n",
    "    coloraxis_colorbar=dict(\n",
    "        title=\"Average Medals\",\n",
    "        thickness=15,\n",
    "        len=0.6,\n",
    "        yanchor=\"middle\",\n",
    "        y=0.5,\n",
    "        x=0.9,\n",
    "        tickfont=dict(color=\"#666666\"),  # 灰色刻度文字\n",
    "        titlefont=dict(color=\"#444444\")  # 灰色标题\n",
    "    ),\n",
    "    \n",
    "    # 全局布局\n",
    "    margin={\"r\":0, \"t\":60, \"l\":0, \"b\":0},\n",
    "    paper_bgcolor=\"rgba(0,0,0,0)\",       # 透明背景\n",
    "    plot_bgcolor=\"rgba(0,0,0,0)\",\n",
    "    font=dict(family=\"Time\", size=16, color=\"#555555\"),  # 统一字体颜色\n",
    "    \n",
    "    # 地图投影\n",
    "    geo=dict(\n",
    "        showframe=False,\n",
    "        showcoastlines=False,\n",
    "        projection_type=\"natural earth\",\n",
    "        #landcolor=\"rgba(240,240,240,0.8)\",  # 陆地淡灰色\n",
    "        bgcolor=\"rgba(255,255,255,0.5)\"     # 背景微透明\n",
    "    )\n",
    ")\n",
    "\n",
    "# 国家边框美化\n",
    "fig.update_geos(\n",
    "    showcountries=True,\n",
    "    #countrycolor=\"rgba(200,200,200,0.5)\",  # 半透明浅灰色边框\n",
    "    countrywidth=2,\n",
    "    projection_rotation=dict(lon=40),\n",
    "    landcolor=\"white\",       # 陆地填充色设为白色\n",
    "    bgcolor=\"rgba(255,255,255,0)\"  # 背景透明\n",
    ")\n",
    "\n",
    "# 保存为透明背景的PNG（适合嵌入PPT/海报）\n",
    "fig.write_image(\"soft_medal_map.pdf\", engine=\"orca\", width=1400, height=800, scale=5)\n",
    "\n",
    "# 显示图表\n",
    "fig.show()"
   ],
   "metadata": {
    "collapsed": false,
    "ExecuteTime": {
     "end_time": "2025-01-25T08:47:11.348817Z",
     "start_time": "2025-01-25T08:47:10.566766500Z"
    }
   },
   "id": "ea7f2d90a477b607"
  },
  {
   "cell_type": "markdown",
   "source": [
    "## **2024年的地图**"
   ],
   "metadata": {
    "collapsed": false
   },
   "id": "3bbb5d3683e1afbc"
  },
  {
   "cell_type": "code",
   "execution_count": 19,
   "outputs": [
    {
     "name": "stdout",
     "output_type": "stream",
     "text": [
      "         NOC  Gold  Silver  Bronze  Total    Country\n",
      "0    Albania     0       0       2      2    Albania\n",
      "1    Algeria     2       0       1      3    Algeria\n",
      "2  Argentina     1       1       1      3  Argentina\n",
      "3    Armenia     0       3       1      4    Armenia\n",
      "4  Australia    18      19      16     53  Australia\n"
     ]
    }
   ],
   "source": [
    "data_2024 = data1[data1[\"Year\"]==2024]\n",
    "data_2024_average = data_2024.groupby('NOC')[['Gold', 'Silver', 'Bronze', 'Total']].mean().round(0).astype(int).reset_index()\n",
    "\n",
    "data_2024_average[\"Country\"] = data_2024_average[\"NOC\"]\n",
    "print(data_2024_average.head())"
   ],
   "metadata": {
    "collapsed": false,
    "ExecuteTime": {
     "end_time": "2025-01-25T08:41:02.933275400Z",
     "start_time": "2025-01-25T08:41:02.918306100Z"
    }
   },
   "id": "c2e0e8f79d19e55d"
  },
  {
   "cell_type": "code",
   "execution_count": 40,
   "outputs": [
    {
     "data": {
      "application/vnd.plotly.v1+json": {
       "data": [
        {
         "coloraxis": "coloraxis",
         "customdata": [
          [
           0,
           0,
           2
          ],
          [
           2,
           0,
           1
          ],
          [
           1,
           1,
           1
          ],
          [
           0,
           3,
           1
          ],
          [
           18,
           19,
           16
          ],
          [
           2,
           0,
           3
          ],
          [
           2,
           2,
           3
          ],
          [
           2,
           1,
           1
          ],
          [
           3,
           1,
           6
          ],
          [
           1,
           1,
           0
          ],
          [
           3,
           7,
           10
          ],
          [
           3,
           1,
           3
          ],
          [
           0,
           0,
           1
          ],
          [
           9,
           7,
           11
          ],
          [
           1,
           1,
           0
          ],
          [
           40,
           27,
           24
          ],
          [
           2,
           0,
           5
          ],
          [
           0,
           3,
           1
          ],
          [
           2,
           2,
           3
          ],
          [
           2,
           1,
           6
          ],
          [
           0,
           1,
           0
          ],
          [
           3,
           0,
           2
          ],
          [
           2,
           2,
           5
          ],
          [
           1,
           0,
           0
          ],
          [
           1,
           0,
           2
          ],
          [
           1,
           2,
           2
          ],
          [
           1,
           1,
           1
          ],
          [
           1,
           3,
           0
          ],
          [
           0,
           1,
           0
          ],
          [
           16,
           26,
           22
          ],
          [
           3,
           3,
           1
          ],
          [
           12,
           13,
           8
          ],
          [
           14,
           22,
           29
          ],
          [
           1,
           1,
           6
          ],
          [
           0,
           0,
           2
          ],
          [
           1,
           0,
           1
          ],
          [
           2,
           0,
           2
          ],
          [
           6,
           7,
           6
          ],
          [
           0,
           1,
           5
          ],
          [
           2,
           0,
           1
          ],
          [
           3,
           6,
           3
          ],
          [
           4,
           0,
           3
          ],
          [
           1,
           5,
           1
          ],
          [
           12,
           13,
           15
          ],
          [
           0,
           0,
           1
          ],
          [
           1,
           3,
           2
          ],
          [
           20,
           12,
           13
          ],
          [
           0,
           1,
           0
          ],
          [
           1,
           3,
           3
          ],
          [
           4,
           2,
           5
          ],
          [
           0,
           1,
           1
          ],
          [
           0,
           2,
           4
          ],
          [
           0,
           2,
           2
          ],
          [
           0,
           0,
           2
          ],
          [
           0,
           3,
           2
          ],
          [
           0,
           1,
           3
          ],
          [
           0,
           1,
           0
          ],
          [
           1,
           0,
           1
          ],
          [
           15,
           7,
           12
          ],
          [
           10,
           7,
           3
          ],
          [
           0,
           2,
           4
          ],
          [
           4,
           1,
           3
          ],
          [
           1,
           0,
           0
          ],
          [
           0,
           1,
           0
          ],
          [
           0,
           0,
           1
          ],
          [
           2,
           0,
           2
          ],
          [
           1,
           4,
           5
          ],
          [
           1,
           2,
           1
          ],
          [
           0,
           0,
           2
          ],
          [
           0,
           0,
           1
          ],
          [
           0,
           0,
           1
          ],
          [
           3,
           4,
           2
          ],
          [
           1,
           1,
           0
          ],
          [
           3,
           1,
           1
          ],
          [
           0,
           0,
           1
          ],
          [
           0,
           0,
           1
          ],
          [
           2,
           1,
           0
          ],
          [
           1,
           3,
           2
          ],
          [
           13,
           9,
           10
          ],
          [
           5,
           4,
           9
          ],
          [
           4,
           4,
           3
          ],
          [
           1,
           2,
           5
          ],
          [
           0,
           0,
           3
          ],
          [
           1,
           3,
           2
          ],
          [
           1,
           1,
           1
          ],
          [
           0,
           3,
           5
          ],
          [
           1,
           1,
           0
          ],
          [
           3,
           5,
           4
          ],
          [
           40,
           44,
           42
          ],
          [
           8,
           2,
           3
          ],
          [
           0,
           0,
           1
          ]
         ],
         "geo": "geo",
         "hovertemplate": "<b>%{hovertext}</b><br><br>Country=%{location}<br>Gold=%{customdata[0]}<br>Silver=%{customdata[1]}<br>Bronze=%{customdata[2]}<br>Average Medals=%{z}<extra></extra>",
         "hovertext": [
          "Albania",
          "Algeria",
          "Argentina",
          "Armenia",
          "Australia",
          "Austria",
          "Azerbaijan",
          "Bahrain",
          "Belgium",
          "Botswana",
          "Brazil",
          "Bulgaria",
          "Cabo Verde",
          "Canada",
          "Chile",
          "China",
          "Chinese Taipei",
          "Colombia",
          "Croatia",
          "Cuba",
          "Cyprus",
          "Czech Republic",
          "Denmark",
          "Dominica",
          "Dominican Republic",
          "Ecuador",
          "Egypt",
          "Ethiopia",
          "Fiji",
          "France",
          "Georgia",
          "Germany",
          "Great Britain",
          "Greece",
          "Grenada",
          "Guatemala",
          "Hong Kong",
          "Hungary",
          "India",
          "Indonesia",
          "Iran",
          "Ireland",
          "Israel",
          "Italy",
          "Ivory Coast",
          "Jamaica",
          "Japan",
          "Jordan",
          "Kazakhstan",
          "Kenya",
          "Kosovo",
          "Kyrgyzstan",
          "Lithuania",
          "Malaysia",
          "Mexico",
          "Moldova",
          "Mongolia",
          "Morocco",
          "Netherlands",
          "New Zealand",
          "North Korea",
          "Norway",
          "Pakistan",
          "Panama",
          "Peru",
          "Philippines",
          "Poland",
          "Portugal",
          "Puerto Rico",
          "Qatar",
          "Refugee Olympic Team",
          "Romania",
          "Saint Lucia",
          "Serbia",
          "Singapore",
          "Slovakia",
          "Slovenia",
          "South Africa",
          "South Korea",
          "Spain",
          "Sweden",
          "Switzerland",
          "Tajikistan",
          "Thailand",
          "Tunisia",
          "Turkey",
          "Uganda",
          "Ukraine",
          "United States",
          "Uzbekistan",
          "Zambia"
         ],
         "locationmode": "country names",
         "locations": [
          "Albania",
          "Algeria",
          "Argentina",
          "Armenia",
          "Australia",
          "Austria",
          "Azerbaijan",
          "Bahrain",
          "Belgium",
          "Botswana",
          "Brazil",
          "Bulgaria",
          "Cabo Verde",
          "Canada",
          "Chile",
          "China",
          "Chinese Taipei",
          "Colombia",
          "Croatia",
          "Cuba",
          "Cyprus",
          "Czech Republic",
          "Denmark",
          "Dominica",
          "Dominican Republic",
          "Ecuador",
          "Egypt",
          "Ethiopia",
          "Fiji",
          "France",
          "Georgia",
          "Germany",
          "Great Britain",
          "Greece",
          "Grenada",
          "Guatemala",
          "Hong Kong",
          "Hungary",
          "India",
          "Indonesia",
          "Iran",
          "Ireland",
          "Israel",
          "Italy",
          "Ivory Coast",
          "Jamaica",
          "Japan",
          "Jordan",
          "Kazakhstan",
          "Kenya",
          "Kosovo",
          "Kyrgyzstan",
          "Lithuania",
          "Malaysia",
          "Mexico",
          "Moldova",
          "Mongolia",
          "Morocco",
          "Netherlands",
          "New Zealand",
          "North Korea",
          "Norway",
          "Pakistan",
          "Panama",
          "Peru",
          "Philippines",
          "Poland",
          "Portugal",
          "Puerto Rico",
          "Qatar",
          "Refugee Olympic Team",
          "Romania",
          "Saint Lucia",
          "Serbia",
          "Singapore",
          "Slovakia",
          "Slovenia",
          "South Africa",
          "South Korea",
          "Spain",
          "Sweden",
          "Switzerland",
          "Tajikistan",
          "Thailand",
          "Tunisia",
          "Turkey",
          "Uganda",
          "Ukraine",
          "United States",
          "Uzbekistan",
          "Zambia"
         ],
         "name": "",
         "z": [
          2,
          3,
          3,
          4,
          53,
          5,
          7,
          4,
          10,
          2,
          20,
          7,
          1,
          27,
          2,
          91,
          7,
          4,
          7,
          9,
          1,
          5,
          9,
          1,
          3,
          5,
          3,
          4,
          1,
          64,
          7,
          33,
          65,
          8,
          2,
          2,
          4,
          19,
          6,
          3,
          12,
          7,
          7,
          40,
          1,
          6,
          45,
          1,
          7,
          11,
          2,
          6,
          4,
          2,
          5,
          4,
          1,
          2,
          34,
          20,
          6,
          8,
          1,
          1,
          1,
          4,
          10,
          4,
          2,
          1,
          1,
          9,
          2,
          5,
          1,
          1,
          3,
          6,
          32,
          18,
          11,
          8,
          3,
          6,
          3,
          8,
          2,
          12,
          126,
          13,
          1
         ],
         "type": "choropleth"
        }
       ],
       "layout": {
        "template": {
         "data": {
          "histogram2dcontour": [
           {
            "type": "histogram2dcontour",
            "colorbar": {
             "outlinewidth": 0,
             "ticks": ""
            },
            "colorscale": [
             [
              0.0,
              "#0d0887"
             ],
             [
              0.1111111111111111,
              "#46039f"
             ],
             [
              0.2222222222222222,
              "#7201a8"
             ],
             [
              0.3333333333333333,
              "#9c179e"
             ],
             [
              0.4444444444444444,
              "#bd3786"
             ],
             [
              0.5555555555555556,
              "#d8576b"
             ],
             [
              0.6666666666666666,
              "#ed7953"
             ],
             [
              0.7777777777777778,
              "#fb9f3a"
             ],
             [
              0.8888888888888888,
              "#fdca26"
             ],
             [
              1.0,
              "#f0f921"
             ]
            ]
           }
          ],
          "choropleth": [
           {
            "type": "choropleth",
            "colorbar": {
             "outlinewidth": 0,
             "ticks": ""
            }
           }
          ],
          "histogram2d": [
           {
            "type": "histogram2d",
            "colorbar": {
             "outlinewidth": 0,
             "ticks": ""
            },
            "colorscale": [
             [
              0.0,
              "#0d0887"
             ],
             [
              0.1111111111111111,
              "#46039f"
             ],
             [
              0.2222222222222222,
              "#7201a8"
             ],
             [
              0.3333333333333333,
              "#9c179e"
             ],
             [
              0.4444444444444444,
              "#bd3786"
             ],
             [
              0.5555555555555556,
              "#d8576b"
             ],
             [
              0.6666666666666666,
              "#ed7953"
             ],
             [
              0.7777777777777778,
              "#fb9f3a"
             ],
             [
              0.8888888888888888,
              "#fdca26"
             ],
             [
              1.0,
              "#f0f921"
             ]
            ]
           }
          ],
          "heatmap": [
           {
            "type": "heatmap",
            "colorbar": {
             "outlinewidth": 0,
             "ticks": ""
            },
            "colorscale": [
             [
              0.0,
              "#0d0887"
             ],
             [
              0.1111111111111111,
              "#46039f"
             ],
             [
              0.2222222222222222,
              "#7201a8"
             ],
             [
              0.3333333333333333,
              "#9c179e"
             ],
             [
              0.4444444444444444,
              "#bd3786"
             ],
             [
              0.5555555555555556,
              "#d8576b"
             ],
             [
              0.6666666666666666,
              "#ed7953"
             ],
             [
              0.7777777777777778,
              "#fb9f3a"
             ],
             [
              0.8888888888888888,
              "#fdca26"
             ],
             [
              1.0,
              "#f0f921"
             ]
            ]
           }
          ],
          "heatmapgl": [
           {
            "type": "heatmapgl",
            "colorbar": {
             "outlinewidth": 0,
             "ticks": ""
            },
            "colorscale": [
             [
              0.0,
              "#0d0887"
             ],
             [
              0.1111111111111111,
              "#46039f"
             ],
             [
              0.2222222222222222,
              "#7201a8"
             ],
             [
              0.3333333333333333,
              "#9c179e"
             ],
             [
              0.4444444444444444,
              "#bd3786"
             ],
             [
              0.5555555555555556,
              "#d8576b"
             ],
             [
              0.6666666666666666,
              "#ed7953"
             ],
             [
              0.7777777777777778,
              "#fb9f3a"
             ],
             [
              0.8888888888888888,
              "#fdca26"
             ],
             [
              1.0,
              "#f0f921"
             ]
            ]
           }
          ],
          "contourcarpet": [
           {
            "type": "contourcarpet",
            "colorbar": {
             "outlinewidth": 0,
             "ticks": ""
            }
           }
          ],
          "contour": [
           {
            "type": "contour",
            "colorbar": {
             "outlinewidth": 0,
             "ticks": ""
            },
            "colorscale": [
             [
              0.0,
              "#0d0887"
             ],
             [
              0.1111111111111111,
              "#46039f"
             ],
             [
              0.2222222222222222,
              "#7201a8"
             ],
             [
              0.3333333333333333,
              "#9c179e"
             ],
             [
              0.4444444444444444,
              "#bd3786"
             ],
             [
              0.5555555555555556,
              "#d8576b"
             ],
             [
              0.6666666666666666,
              "#ed7953"
             ],
             [
              0.7777777777777778,
              "#fb9f3a"
             ],
             [
              0.8888888888888888,
              "#fdca26"
             ],
             [
              1.0,
              "#f0f921"
             ]
            ]
           }
          ],
          "surface": [
           {
            "type": "surface",
            "colorbar": {
             "outlinewidth": 0,
             "ticks": ""
            },
            "colorscale": [
             [
              0.0,
              "#0d0887"
             ],
             [
              0.1111111111111111,
              "#46039f"
             ],
             [
              0.2222222222222222,
              "#7201a8"
             ],
             [
              0.3333333333333333,
              "#9c179e"
             ],
             [
              0.4444444444444444,
              "#bd3786"
             ],
             [
              0.5555555555555556,
              "#d8576b"
             ],
             [
              0.6666666666666666,
              "#ed7953"
             ],
             [
              0.7777777777777778,
              "#fb9f3a"
             ],
             [
              0.8888888888888888,
              "#fdca26"
             ],
             [
              1.0,
              "#f0f921"
             ]
            ]
           }
          ],
          "mesh3d": [
           {
            "type": "mesh3d",
            "colorbar": {
             "outlinewidth": 0,
             "ticks": ""
            }
           }
          ],
          "scatter": [
           {
            "marker": {
             "line": {
              "color": "#283442"
             }
            },
            "type": "scatter"
           }
          ],
          "parcoords": [
           {
            "type": "parcoords",
            "line": {
             "colorbar": {
              "outlinewidth": 0,
              "ticks": ""
             }
            }
           }
          ],
          "scatterpolargl": [
           {
            "type": "scatterpolargl",
            "marker": {
             "colorbar": {
              "outlinewidth": 0,
              "ticks": ""
             }
            }
           }
          ],
          "bar": [
           {
            "error_x": {
             "color": "#f2f5fa"
            },
            "error_y": {
             "color": "#f2f5fa"
            },
            "marker": {
             "line": {
              "color": "rgb(17,17,17)",
              "width": 0.5
             },
             "pattern": {
              "fillmode": "overlay",
              "size": 10,
              "solidity": 0.2
             }
            },
            "type": "bar"
           }
          ],
          "scattergeo": [
           {
            "type": "scattergeo",
            "marker": {
             "colorbar": {
              "outlinewidth": 0,
              "ticks": ""
             }
            }
           }
          ],
          "scatterpolar": [
           {
            "type": "scatterpolar",
            "marker": {
             "colorbar": {
              "outlinewidth": 0,
              "ticks": ""
             }
            }
           }
          ],
          "histogram": [
           {
            "marker": {
             "pattern": {
              "fillmode": "overlay",
              "size": 10,
              "solidity": 0.2
             }
            },
            "type": "histogram"
           }
          ],
          "scattergl": [
           {
            "marker": {
             "line": {
              "color": "#283442"
             }
            },
            "type": "scattergl"
           }
          ],
          "scatter3d": [
           {
            "type": "scatter3d",
            "line": {
             "colorbar": {
              "outlinewidth": 0,
              "ticks": ""
             }
            },
            "marker": {
             "colorbar": {
              "outlinewidth": 0,
              "ticks": ""
             }
            }
           }
          ],
          "scattermapbox": [
           {
            "type": "scattermapbox",
            "marker": {
             "colorbar": {
              "outlinewidth": 0,
              "ticks": ""
             }
            }
           }
          ],
          "scatterternary": [
           {
            "type": "scatterternary",
            "marker": {
             "colorbar": {
              "outlinewidth": 0,
              "ticks": ""
             }
            }
           }
          ],
          "scattercarpet": [
           {
            "type": "scattercarpet",
            "marker": {
             "colorbar": {
              "outlinewidth": 0,
              "ticks": ""
             }
            }
           }
          ],
          "carpet": [
           {
            "aaxis": {
             "endlinecolor": "#A2B1C6",
             "gridcolor": "#506784",
             "linecolor": "#506784",
             "minorgridcolor": "#506784",
             "startlinecolor": "#A2B1C6"
            },
            "baxis": {
             "endlinecolor": "#A2B1C6",
             "gridcolor": "#506784",
             "linecolor": "#506784",
             "minorgridcolor": "#506784",
             "startlinecolor": "#A2B1C6"
            },
            "type": "carpet"
           }
          ],
          "table": [
           {
            "cells": {
             "fill": {
              "color": "#506784"
             },
             "line": {
              "color": "rgb(17,17,17)"
             }
            },
            "header": {
             "fill": {
              "color": "#2a3f5f"
             },
             "line": {
              "color": "rgb(17,17,17)"
             }
            },
            "type": "table"
           }
          ],
          "barpolar": [
           {
            "marker": {
             "line": {
              "color": "rgb(17,17,17)",
              "width": 0.5
             },
             "pattern": {
              "fillmode": "overlay",
              "size": 10,
              "solidity": 0.2
             }
            },
            "type": "barpolar"
           }
          ],
          "pie": [
           {
            "automargin": true,
            "type": "pie"
           }
          ]
         },
         "layout": {
          "autotypenumbers": "strict",
          "colorway": [
           "#636efa",
           "#EF553B",
           "#00cc96",
           "#ab63fa",
           "#FFA15A",
           "#19d3f3",
           "#FF6692",
           "#B6E880",
           "#FF97FF",
           "#FECB52"
          ],
          "font": {
           "color": "#f2f5fa"
          },
          "hovermode": "closest",
          "hoverlabel": {
           "align": "left"
          },
          "paper_bgcolor": "rgb(17,17,17)",
          "plot_bgcolor": "rgb(17,17,17)",
          "polar": {
           "bgcolor": "rgb(17,17,17)",
           "angularaxis": {
            "gridcolor": "#506784",
            "linecolor": "#506784",
            "ticks": ""
           },
           "radialaxis": {
            "gridcolor": "#506784",
            "linecolor": "#506784",
            "ticks": ""
           }
          },
          "ternary": {
           "bgcolor": "rgb(17,17,17)",
           "aaxis": {
            "gridcolor": "#506784",
            "linecolor": "#506784",
            "ticks": ""
           },
           "baxis": {
            "gridcolor": "#506784",
            "linecolor": "#506784",
            "ticks": ""
           },
           "caxis": {
            "gridcolor": "#506784",
            "linecolor": "#506784",
            "ticks": ""
           }
          },
          "coloraxis": {
           "colorbar": {
            "outlinewidth": 0,
            "ticks": ""
           }
          },
          "colorscale": {
           "sequential": [
            [
             0.0,
             "#0d0887"
            ],
            [
             0.1111111111111111,
             "#46039f"
            ],
            [
             0.2222222222222222,
             "#7201a8"
            ],
            [
             0.3333333333333333,
             "#9c179e"
            ],
            [
             0.4444444444444444,
             "#bd3786"
            ],
            [
             0.5555555555555556,
             "#d8576b"
            ],
            [
             0.6666666666666666,
             "#ed7953"
            ],
            [
             0.7777777777777778,
             "#fb9f3a"
            ],
            [
             0.8888888888888888,
             "#fdca26"
            ],
            [
             1.0,
             "#f0f921"
            ]
           ],
           "sequentialminus": [
            [
             0.0,
             "#0d0887"
            ],
            [
             0.1111111111111111,
             "#46039f"
            ],
            [
             0.2222222222222222,
             "#7201a8"
            ],
            [
             0.3333333333333333,
             "#9c179e"
            ],
            [
             0.4444444444444444,
             "#bd3786"
            ],
            [
             0.5555555555555556,
             "#d8576b"
            ],
            [
             0.6666666666666666,
             "#ed7953"
            ],
            [
             0.7777777777777778,
             "#fb9f3a"
            ],
            [
             0.8888888888888888,
             "#fdca26"
            ],
            [
             1.0,
             "#f0f921"
            ]
           ],
           "diverging": [
            [
             0,
             "#8e0152"
            ],
            [
             0.1,
             "#c51b7d"
            ],
            [
             0.2,
             "#de77ae"
            ],
            [
             0.3,
             "#f1b6da"
            ],
            [
             0.4,
             "#fde0ef"
            ],
            [
             0.5,
             "#f7f7f7"
            ],
            [
             0.6,
             "#e6f5d0"
            ],
            [
             0.7,
             "#b8e186"
            ],
            [
             0.8,
             "#7fbc41"
            ],
            [
             0.9,
             "#4d9221"
            ],
            [
             1,
             "#276419"
            ]
           ]
          },
          "xaxis": {
           "gridcolor": "#283442",
           "linecolor": "#506784",
           "ticks": "",
           "title": {
            "standoff": 15
           },
           "zerolinecolor": "#283442",
           "automargin": true,
           "zerolinewidth": 2
          },
          "yaxis": {
           "gridcolor": "#283442",
           "linecolor": "#506784",
           "ticks": "",
           "title": {
            "standoff": 15
           },
           "zerolinecolor": "#283442",
           "automargin": true,
           "zerolinewidth": 2
          },
          "scene": {
           "xaxis": {
            "backgroundcolor": "rgb(17,17,17)",
            "gridcolor": "#506784",
            "linecolor": "#506784",
            "showbackground": true,
            "ticks": "",
            "zerolinecolor": "#C8D4E3",
            "gridwidth": 2
           },
           "yaxis": {
            "backgroundcolor": "rgb(17,17,17)",
            "gridcolor": "#506784",
            "linecolor": "#506784",
            "showbackground": true,
            "ticks": "",
            "zerolinecolor": "#C8D4E3",
            "gridwidth": 2
           },
           "zaxis": {
            "backgroundcolor": "rgb(17,17,17)",
            "gridcolor": "#506784",
            "linecolor": "#506784",
            "showbackground": true,
            "ticks": "",
            "zerolinecolor": "#C8D4E3",
            "gridwidth": 2
           }
          },
          "shapedefaults": {
           "line": {
            "color": "#f2f5fa"
           }
          },
          "annotationdefaults": {
           "arrowcolor": "#f2f5fa",
           "arrowhead": 0,
           "arrowwidth": 1
          },
          "geo": {
           "bgcolor": "rgb(17,17,17)",
           "landcolor": "rgb(17,17,17)",
           "subunitcolor": "#506784",
           "showland": true,
           "showlakes": true,
           "lakecolor": "rgb(17,17,17)"
          },
          "title": {
           "x": 0.05
          },
          "updatemenudefaults": {
           "bgcolor": "#506784",
           "borderwidth": 0
          },
          "sliderdefaults": {
           "bgcolor": "#C8D4E3",
           "borderwidth": 1,
           "bordercolor": "rgb(17,17,17)",
           "tickwidth": 0
          },
          "mapbox": {
           "style": "dark"
          }
         }
        },
        "geo": {
         "domain": {
          "x": [
           0.0,
           1.0
          ],
          "y": [
           0.0,
           1.0
          ]
         },
         "center": {},
         "projection": {
          "type": "natural earth",
          "rotation": {
           "lon": 40
          }
         },
         "showframe": false,
         "showcoastlines": false,
         "bgcolor": "white",
         "showcountries": true,
         "countrywidth": 2,
         "landcolor": "hsl(180, 20%, 95%)",
         "oceancolor": "white",
         "showocean": true
        },
        "coloraxis": {
         "colorbar": {
          "title": {
           "text": "Average Medals",
           "font": {
            "color": "#444444"
           }
          },
          "tickfont": {
           "color": "#666666"
          },
          "thickness": 15,
          "len": 0.6,
          "yanchor": "middle",
          "y": 0.5,
          "x": 0.9
         },
         "colorscale": [
          [
           0.0,
           "rgb(0, 147, 146)"
          ],
          [
           0.16666666666666666,
           "rgb(114, 170, 161)"
          ],
          [
           0.3333333333333333,
           "rgb(177, 199, 179)"
          ],
          [
           0.5,
           "rgb(241, 234, 200)"
          ],
          [
           0.6666666666666666,
           "rgb(229, 185, 173)"
          ],
          [
           0.8333333333333334,
           "rgb(217, 137, 148)"
          ],
          [
           1.0,
           "rgb(208, 88, 126)"
          ]
         ]
        },
        "legend": {
         "tracegroupgap": 0
        },
        "margin": {
         "t": 60,
         "r": 0,
         "l": 0,
         "b": 0
        },
        "font": {
         "family": "Time",
         "size": 16,
         "color": "#555555"
        },
        "paper_bgcolor": "rgba(0,0,0,0)",
        "plot_bgcolor": "rgba(0,0,0,0)"
       },
       "config": {
        "plotlyServerURL": "https://plot.ly"
       }
      },
      "text/html": "<div>                            <div id=\"8be774fb-2aaf-4265-8b84-895405d99647\" class=\"plotly-graph-div\" style=\"height:525px; width:100%;\"></div>            <script type=\"text/javascript\">                require([\"plotly\"], function(Plotly) {                    window.PLOTLYENV=window.PLOTLYENV || {};                                    if (document.getElementById(\"8be774fb-2aaf-4265-8b84-895405d99647\")) {                    Plotly.newPlot(                        \"8be774fb-2aaf-4265-8b84-895405d99647\",                        [{\"coloraxis\":\"coloraxis\",\"customdata\":[[0,0,2],[2,0,1],[1,1,1],[0,3,1],[18,19,16],[2,0,3],[2,2,3],[2,1,1],[3,1,6],[1,1,0],[3,7,10],[3,1,3],[0,0,1],[9,7,11],[1,1,0],[40,27,24],[2,0,5],[0,3,1],[2,2,3],[2,1,6],[0,1,0],[3,0,2],[2,2,5],[1,0,0],[1,0,2],[1,2,2],[1,1,1],[1,3,0],[0,1,0],[16,26,22],[3,3,1],[12,13,8],[14,22,29],[1,1,6],[0,0,2],[1,0,1],[2,0,2],[6,7,6],[0,1,5],[2,0,1],[3,6,3],[4,0,3],[1,5,1],[12,13,15],[0,0,1],[1,3,2],[20,12,13],[0,1,0],[1,3,3],[4,2,5],[0,1,1],[0,2,4],[0,2,2],[0,0,2],[0,3,2],[0,1,3],[0,1,0],[1,0,1],[15,7,12],[10,7,3],[0,2,4],[4,1,3],[1,0,0],[0,1,0],[0,0,1],[2,0,2],[1,4,5],[1,2,1],[0,0,2],[0,0,1],[0,0,1],[3,4,2],[1,1,0],[3,1,1],[0,0,1],[0,0,1],[2,1,0],[1,3,2],[13,9,10],[5,4,9],[4,4,3],[1,2,5],[0,0,3],[1,3,2],[1,1,1],[0,3,5],[1,1,0],[3,5,4],[40,44,42],[8,2,3],[0,0,1]],\"geo\":\"geo\",\"hovertemplate\":\"<b>%{hovertext}</b><br><br>Country=%{location}<br>Gold=%{customdata[0]}<br>Silver=%{customdata[1]}<br>Bronze=%{customdata[2]}<br>Average Medals=%{z}<extra></extra>\",\"hovertext\":[\"Albania\",\"Algeria\",\"Argentina\",\"Armenia\",\"Australia\",\"Austria\",\"Azerbaijan\",\"Bahrain\",\"Belgium\",\"Botswana\",\"Brazil\",\"Bulgaria\",\"Cabo Verde\",\"Canada\",\"Chile\",\"China\",\"Chinese Taipei\",\"Colombia\",\"Croatia\",\"Cuba\",\"Cyprus\",\"Czech Republic\",\"Denmark\",\"Dominica\",\"Dominican Republic\",\"Ecuador\",\"Egypt\",\"Ethiopia\",\"Fiji\",\"France\",\"Georgia\",\"Germany\",\"Great Britain\",\"Greece\",\"Grenada\",\"Guatemala\",\"Hong Kong\",\"Hungary\",\"India\",\"Indonesia\",\"Iran\",\"Ireland\",\"Israel\",\"Italy\",\"Ivory Coast\",\"Jamaica\",\"Japan\",\"Jordan\",\"Kazakhstan\",\"Kenya\",\"Kosovo\",\"Kyrgyzstan\",\"Lithuania\",\"Malaysia\",\"Mexico\",\"Moldova\",\"Mongolia\",\"Morocco\",\"Netherlands\",\"New Zealand\",\"North Korea\",\"Norway\",\"Pakistan\",\"Panama\",\"Peru\",\"Philippines\",\"Poland\",\"Portugal\",\"Puerto Rico\",\"Qatar\",\"Refugee Olympic Team\",\"Romania\",\"Saint Lucia\",\"Serbia\",\"Singapore\",\"Slovakia\",\"Slovenia\",\"South Africa\",\"South Korea\",\"Spain\",\"Sweden\",\"Switzerland\",\"Tajikistan\",\"Thailand\",\"Tunisia\",\"Turkey\",\"Uganda\",\"Ukraine\",\"United States\",\"Uzbekistan\",\"Zambia\"],\"locationmode\":\"country names\",\"locations\":[\"Albania\",\"Algeria\",\"Argentina\",\"Armenia\",\"Australia\",\"Austria\",\"Azerbaijan\",\"Bahrain\",\"Belgium\",\"Botswana\",\"Brazil\",\"Bulgaria\",\"Cabo Verde\",\"Canada\",\"Chile\",\"China\",\"Chinese Taipei\",\"Colombia\",\"Croatia\",\"Cuba\",\"Cyprus\",\"Czech Republic\",\"Denmark\",\"Dominica\",\"Dominican Republic\",\"Ecuador\",\"Egypt\",\"Ethiopia\",\"Fiji\",\"France\",\"Georgia\",\"Germany\",\"Great Britain\",\"Greece\",\"Grenada\",\"Guatemala\",\"Hong Kong\",\"Hungary\",\"India\",\"Indonesia\",\"Iran\",\"Ireland\",\"Israel\",\"Italy\",\"Ivory Coast\",\"Jamaica\",\"Japan\",\"Jordan\",\"Kazakhstan\",\"Kenya\",\"Kosovo\",\"Kyrgyzstan\",\"Lithuania\",\"Malaysia\",\"Mexico\",\"Moldova\",\"Mongolia\",\"Morocco\",\"Netherlands\",\"New Zealand\",\"North Korea\",\"Norway\",\"Pakistan\",\"Panama\",\"Peru\",\"Philippines\",\"Poland\",\"Portugal\",\"Puerto Rico\",\"Qatar\",\"Refugee Olympic Team\",\"Romania\",\"Saint Lucia\",\"Serbia\",\"Singapore\",\"Slovakia\",\"Slovenia\",\"South Africa\",\"South Korea\",\"Spain\",\"Sweden\",\"Switzerland\",\"Tajikistan\",\"Thailand\",\"Tunisia\",\"Turkey\",\"Uganda\",\"Ukraine\",\"United States\",\"Uzbekistan\",\"Zambia\"],\"name\":\"\",\"z\":[2,3,3,4,53,5,7,4,10,2,20,7,1,27,2,91,7,4,7,9,1,5,9,1,3,5,3,4,1,64,7,33,65,8,2,2,4,19,6,3,12,7,7,40,1,6,45,1,7,11,2,6,4,2,5,4,1,2,34,20,6,8,1,1,1,4,10,4,2,1,1,9,2,5,1,1,3,6,32,18,11,8,3,6,3,8,2,12,126,13,1],\"type\":\"choropleth\"}],                        {\"template\":{\"data\":{\"histogram2dcontour\":[{\"type\":\"histogram2dcontour\",\"colorbar\":{\"outlinewidth\":0,\"ticks\":\"\"},\"colorscale\":[[0.0,\"#0d0887\"],[0.1111111111111111,\"#46039f\"],[0.2222222222222222,\"#7201a8\"],[0.3333333333333333,\"#9c179e\"],[0.4444444444444444,\"#bd3786\"],[0.5555555555555556,\"#d8576b\"],[0.6666666666666666,\"#ed7953\"],[0.7777777777777778,\"#fb9f3a\"],[0.8888888888888888,\"#fdca26\"],[1.0,\"#f0f921\"]]}],\"choropleth\":[{\"type\":\"choropleth\",\"colorbar\":{\"outlinewidth\":0,\"ticks\":\"\"}}],\"histogram2d\":[{\"type\":\"histogram2d\",\"colorbar\":{\"outlinewidth\":0,\"ticks\":\"\"},\"colorscale\":[[0.0,\"#0d0887\"],[0.1111111111111111,\"#46039f\"],[0.2222222222222222,\"#7201a8\"],[0.3333333333333333,\"#9c179e\"],[0.4444444444444444,\"#bd3786\"],[0.5555555555555556,\"#d8576b\"],[0.6666666666666666,\"#ed7953\"],[0.7777777777777778,\"#fb9f3a\"],[0.8888888888888888,\"#fdca26\"],[1.0,\"#f0f921\"]]}],\"heatmap\":[{\"type\":\"heatmap\",\"colorbar\":{\"outlinewidth\":0,\"ticks\":\"\"},\"colorscale\":[[0.0,\"#0d0887\"],[0.1111111111111111,\"#46039f\"],[0.2222222222222222,\"#7201a8\"],[0.3333333333333333,\"#9c179e\"],[0.4444444444444444,\"#bd3786\"],[0.5555555555555556,\"#d8576b\"],[0.6666666666666666,\"#ed7953\"],[0.7777777777777778,\"#fb9f3a\"],[0.8888888888888888,\"#fdca26\"],[1.0,\"#f0f921\"]]}],\"heatmapgl\":[{\"type\":\"heatmapgl\",\"colorbar\":{\"outlinewidth\":0,\"ticks\":\"\"},\"colorscale\":[[0.0,\"#0d0887\"],[0.1111111111111111,\"#46039f\"],[0.2222222222222222,\"#7201a8\"],[0.3333333333333333,\"#9c179e\"],[0.4444444444444444,\"#bd3786\"],[0.5555555555555556,\"#d8576b\"],[0.6666666666666666,\"#ed7953\"],[0.7777777777777778,\"#fb9f3a\"],[0.8888888888888888,\"#fdca26\"],[1.0,\"#f0f921\"]]}],\"contourcarpet\":[{\"type\":\"contourcarpet\",\"colorbar\":{\"outlinewidth\":0,\"ticks\":\"\"}}],\"contour\":[{\"type\":\"contour\",\"colorbar\":{\"outlinewidth\":0,\"ticks\":\"\"},\"colorscale\":[[0.0,\"#0d0887\"],[0.1111111111111111,\"#46039f\"],[0.2222222222222222,\"#7201a8\"],[0.3333333333333333,\"#9c179e\"],[0.4444444444444444,\"#bd3786\"],[0.5555555555555556,\"#d8576b\"],[0.6666666666666666,\"#ed7953\"],[0.7777777777777778,\"#fb9f3a\"],[0.8888888888888888,\"#fdca26\"],[1.0,\"#f0f921\"]]}],\"surface\":[{\"type\":\"surface\",\"colorbar\":{\"outlinewidth\":0,\"ticks\":\"\"},\"colorscale\":[[0.0,\"#0d0887\"],[0.1111111111111111,\"#46039f\"],[0.2222222222222222,\"#7201a8\"],[0.3333333333333333,\"#9c179e\"],[0.4444444444444444,\"#bd3786\"],[0.5555555555555556,\"#d8576b\"],[0.6666666666666666,\"#ed7953\"],[0.7777777777777778,\"#fb9f3a\"],[0.8888888888888888,\"#fdca26\"],[1.0,\"#f0f921\"]]}],\"mesh3d\":[{\"type\":\"mesh3d\",\"colorbar\":{\"outlinewidth\":0,\"ticks\":\"\"}}],\"scatter\":[{\"marker\":{\"line\":{\"color\":\"#283442\"}},\"type\":\"scatter\"}],\"parcoords\":[{\"type\":\"parcoords\",\"line\":{\"colorbar\":{\"outlinewidth\":0,\"ticks\":\"\"}}}],\"scatterpolargl\":[{\"type\":\"scatterpolargl\",\"marker\":{\"colorbar\":{\"outlinewidth\":0,\"ticks\":\"\"}}}],\"bar\":[{\"error_x\":{\"color\":\"#f2f5fa\"},\"error_y\":{\"color\":\"#f2f5fa\"},\"marker\":{\"line\":{\"color\":\"rgb(17,17,17)\",\"width\":0.5},\"pattern\":{\"fillmode\":\"overlay\",\"size\":10,\"solidity\":0.2}},\"type\":\"bar\"}],\"scattergeo\":[{\"type\":\"scattergeo\",\"marker\":{\"colorbar\":{\"outlinewidth\":0,\"ticks\":\"\"}}}],\"scatterpolar\":[{\"type\":\"scatterpolar\",\"marker\":{\"colorbar\":{\"outlinewidth\":0,\"ticks\":\"\"}}}],\"histogram\":[{\"marker\":{\"pattern\":{\"fillmode\":\"overlay\",\"size\":10,\"solidity\":0.2}},\"type\":\"histogram\"}],\"scattergl\":[{\"marker\":{\"line\":{\"color\":\"#283442\"}},\"type\":\"scattergl\"}],\"scatter3d\":[{\"type\":\"scatter3d\",\"line\":{\"colorbar\":{\"outlinewidth\":0,\"ticks\":\"\"}},\"marker\":{\"colorbar\":{\"outlinewidth\":0,\"ticks\":\"\"}}}],\"scattermapbox\":[{\"type\":\"scattermapbox\",\"marker\":{\"colorbar\":{\"outlinewidth\":0,\"ticks\":\"\"}}}],\"scatterternary\":[{\"type\":\"scatterternary\",\"marker\":{\"colorbar\":{\"outlinewidth\":0,\"ticks\":\"\"}}}],\"scattercarpet\":[{\"type\":\"scattercarpet\",\"marker\":{\"colorbar\":{\"outlinewidth\":0,\"ticks\":\"\"}}}],\"carpet\":[{\"aaxis\":{\"endlinecolor\":\"#A2B1C6\",\"gridcolor\":\"#506784\",\"linecolor\":\"#506784\",\"minorgridcolor\":\"#506784\",\"startlinecolor\":\"#A2B1C6\"},\"baxis\":{\"endlinecolor\":\"#A2B1C6\",\"gridcolor\":\"#506784\",\"linecolor\":\"#506784\",\"minorgridcolor\":\"#506784\",\"startlinecolor\":\"#A2B1C6\"},\"type\":\"carpet\"}],\"table\":[{\"cells\":{\"fill\":{\"color\":\"#506784\"},\"line\":{\"color\":\"rgb(17,17,17)\"}},\"header\":{\"fill\":{\"color\":\"#2a3f5f\"},\"line\":{\"color\":\"rgb(17,17,17)\"}},\"type\":\"table\"}],\"barpolar\":[{\"marker\":{\"line\":{\"color\":\"rgb(17,17,17)\",\"width\":0.5},\"pattern\":{\"fillmode\":\"overlay\",\"size\":10,\"solidity\":0.2}},\"type\":\"barpolar\"}],\"pie\":[{\"automargin\":true,\"type\":\"pie\"}]},\"layout\":{\"autotypenumbers\":\"strict\",\"colorway\":[\"#636efa\",\"#EF553B\",\"#00cc96\",\"#ab63fa\",\"#FFA15A\",\"#19d3f3\",\"#FF6692\",\"#B6E880\",\"#FF97FF\",\"#FECB52\"],\"font\":{\"color\":\"#f2f5fa\"},\"hovermode\":\"closest\",\"hoverlabel\":{\"align\":\"left\"},\"paper_bgcolor\":\"rgb(17,17,17)\",\"plot_bgcolor\":\"rgb(17,17,17)\",\"polar\":{\"bgcolor\":\"rgb(17,17,17)\",\"angularaxis\":{\"gridcolor\":\"#506784\",\"linecolor\":\"#506784\",\"ticks\":\"\"},\"radialaxis\":{\"gridcolor\":\"#506784\",\"linecolor\":\"#506784\",\"ticks\":\"\"}},\"ternary\":{\"bgcolor\":\"rgb(17,17,17)\",\"aaxis\":{\"gridcolor\":\"#506784\",\"linecolor\":\"#506784\",\"ticks\":\"\"},\"baxis\":{\"gridcolor\":\"#506784\",\"linecolor\":\"#506784\",\"ticks\":\"\"},\"caxis\":{\"gridcolor\":\"#506784\",\"linecolor\":\"#506784\",\"ticks\":\"\"}},\"coloraxis\":{\"colorbar\":{\"outlinewidth\":0,\"ticks\":\"\"}},\"colorscale\":{\"sequential\":[[0.0,\"#0d0887\"],[0.1111111111111111,\"#46039f\"],[0.2222222222222222,\"#7201a8\"],[0.3333333333333333,\"#9c179e\"],[0.4444444444444444,\"#bd3786\"],[0.5555555555555556,\"#d8576b\"],[0.6666666666666666,\"#ed7953\"],[0.7777777777777778,\"#fb9f3a\"],[0.8888888888888888,\"#fdca26\"],[1.0,\"#f0f921\"]],\"sequentialminus\":[[0.0,\"#0d0887\"],[0.1111111111111111,\"#46039f\"],[0.2222222222222222,\"#7201a8\"],[0.3333333333333333,\"#9c179e\"],[0.4444444444444444,\"#bd3786\"],[0.5555555555555556,\"#d8576b\"],[0.6666666666666666,\"#ed7953\"],[0.7777777777777778,\"#fb9f3a\"],[0.8888888888888888,\"#fdca26\"],[1.0,\"#f0f921\"]],\"diverging\":[[0,\"#8e0152\"],[0.1,\"#c51b7d\"],[0.2,\"#de77ae\"],[0.3,\"#f1b6da\"],[0.4,\"#fde0ef\"],[0.5,\"#f7f7f7\"],[0.6,\"#e6f5d0\"],[0.7,\"#b8e186\"],[0.8,\"#7fbc41\"],[0.9,\"#4d9221\"],[1,\"#276419\"]]},\"xaxis\":{\"gridcolor\":\"#283442\",\"linecolor\":\"#506784\",\"ticks\":\"\",\"title\":{\"standoff\":15},\"zerolinecolor\":\"#283442\",\"automargin\":true,\"zerolinewidth\":2},\"yaxis\":{\"gridcolor\":\"#283442\",\"linecolor\":\"#506784\",\"ticks\":\"\",\"title\":{\"standoff\":15},\"zerolinecolor\":\"#283442\",\"automargin\":true,\"zerolinewidth\":2},\"scene\":{\"xaxis\":{\"backgroundcolor\":\"rgb(17,17,17)\",\"gridcolor\":\"#506784\",\"linecolor\":\"#506784\",\"showbackground\":true,\"ticks\":\"\",\"zerolinecolor\":\"#C8D4E3\",\"gridwidth\":2},\"yaxis\":{\"backgroundcolor\":\"rgb(17,17,17)\",\"gridcolor\":\"#506784\",\"linecolor\":\"#506784\",\"showbackground\":true,\"ticks\":\"\",\"zerolinecolor\":\"#C8D4E3\",\"gridwidth\":2},\"zaxis\":{\"backgroundcolor\":\"rgb(17,17,17)\",\"gridcolor\":\"#506784\",\"linecolor\":\"#506784\",\"showbackground\":true,\"ticks\":\"\",\"zerolinecolor\":\"#C8D4E3\",\"gridwidth\":2}},\"shapedefaults\":{\"line\":{\"color\":\"#f2f5fa\"}},\"annotationdefaults\":{\"arrowcolor\":\"#f2f5fa\",\"arrowhead\":0,\"arrowwidth\":1},\"geo\":{\"bgcolor\":\"rgb(17,17,17)\",\"landcolor\":\"rgb(17,17,17)\",\"subunitcolor\":\"#506784\",\"showland\":true,\"showlakes\":true,\"lakecolor\":\"rgb(17,17,17)\"},\"title\":{\"x\":0.05},\"updatemenudefaults\":{\"bgcolor\":\"#506784\",\"borderwidth\":0},\"sliderdefaults\":{\"bgcolor\":\"#C8D4E3\",\"borderwidth\":1,\"bordercolor\":\"rgb(17,17,17)\",\"tickwidth\":0},\"mapbox\":{\"style\":\"dark\"}}},\"geo\":{\"domain\":{\"x\":[0.0,1.0],\"y\":[0.0,1.0]},\"center\":{},\"projection\":{\"type\":\"natural earth\",\"rotation\":{\"lon\":40}},\"showframe\":false,\"showcoastlines\":false,\"bgcolor\":\"white\",\"showcountries\":true,\"countrywidth\":2,\"landcolor\":\"hsl(180, 20%, 95%)\",\"oceancolor\":\"white\",\"showocean\":true},\"coloraxis\":{\"colorbar\":{\"title\":{\"text\":\"Average Medals\",\"font\":{\"color\":\"#444444\"}},\"tickfont\":{\"color\":\"#666666\"},\"thickness\":15,\"len\":0.6,\"yanchor\":\"middle\",\"y\":0.5,\"x\":0.9},\"colorscale\":[[0.0,\"rgb(0, 147, 146)\"],[0.16666666666666666,\"rgb(114, 170, 161)\"],[0.3333333333333333,\"rgb(177, 199, 179)\"],[0.5,\"rgb(241, 234, 200)\"],[0.6666666666666666,\"rgb(229, 185, 173)\"],[0.8333333333333334,\"rgb(217, 137, 148)\"],[1.0,\"rgb(208, 88, 126)\"]]},\"legend\":{\"tracegroupgap\":0},\"margin\":{\"t\":60,\"r\":0,\"l\":0,\"b\":0},\"font\":{\"family\":\"Time\",\"size\":16,\"color\":\"#555555\"},\"paper_bgcolor\":\"rgba(0,0,0,0)\",\"plot_bgcolor\":\"rgba(0,0,0,0)\"},                        {\"responsive\": true}                    ).then(function(){\n                            \nvar gd = document.getElementById('8be774fb-2aaf-4265-8b84-895405d99647');\nvar x = new MutationObserver(function (mutations, observer) {{\n        var display = window.getComputedStyle(gd).display;\n        if (!display || display === 'none') {{\n            console.log([gd, 'removed!']);\n            Plotly.purge(gd);\n            observer.disconnect();\n        }}\n}});\n\n// Listen for the removal of the full notebook cells\nvar notebookContainer = gd.closest('#notebook-container');\nif (notebookContainer) {{\n    x.observe(notebookContainer, {childList: true});\n}}\n\n// Listen for the clearing of the current output cell\nvar outputEl = gd.closest('.output');\nif (outputEl) {{\n    x.observe(outputEl, {childList: true});\n}}\n\n                        })                };                });            </script>        </div>"
     },
     "metadata": {},
     "output_type": "display_data"
    }
   ],
   "source": [
    "import country_converter as coco\n",
    "import plotly.express as px\n",
    "\n",
    "\n",
    "\n",
    "# 标准化国家名称（确保与地图数据库匹配）\n",
    "# 选择以下任一颜色主题\n",
    "color_scale = \"Tealrose\"     # 蓝绿色渐变（推荐）\n",
    "# color_scale = \"Mint\"       # 薄荷绿\n",
    "# color_scale = \"Peach\"      # 淡橙粉\n",
    "# color_scale = \"Pastel\"     # 通用淡彩色\n",
    "# color_scale = \"Ice\"        # 冰蓝色系\n",
    "\n",
    "# 或自定义淡雅渐变色（HSL格式控制饱和度/亮度）\n",
    "custom_colors = [\n",
    "    [0.0, \"hsl(180, 20%, 95%)\"],   # 极淡蓝\n",
    "    [0.2, \"hsl(200, 30%, 85%)\"],  \n",
    "    [0.4, \"hsl(220, 40%, 75%)\"],\n",
    "    [0.6, \"hsl(240, 50%, 65%)\"],\n",
    "    [1.0, \"hsl(260, 60%, 55%)\"]\n",
    "]\n",
    "\n",
    "# 步骤2: 绘制地图（使用淡雅配色）\n",
    "fig = px.choropleth(\n",
    "    data_2024_average,\n",
    "    locations=\"Country\",\n",
    "    locationmode=\"country names\",\n",
    "    color=\"Total\",\n",
    "    hover_name=\"Country\",\n",
    "    hover_data=[\"Gold\", \"Silver\", \"Bronze\"],\n",
    "    color_continuous_scale=\"Tealrose\",  # 改用淡雅配色\n",
    "    #title=\"Average Total Medals by Country (2000-2020)\",\n",
    "    labels={\"Total\": \"Average Medals\"},\n",
    "    #range_color=[0, averages[\"Total\"].quantile(0.9)],  # 聚焦非极端值范围\n",
    ")\n",
    "\n",
    "\"\"\"fig.add_trace(\n",
    "    px.scatter_geo(\n",
    "        top5,\n",
    "        locations=\"Country\",\n",
    "        locationmode=\"country names\",\n",
    "        text=\"Label\",\n",
    "        size=[10]*5  # 控制文本背景点的大小（隐藏用）\n",
    "    ).update_traces(\n",
    "        textposition=\"middle center\",\n",
    "        textfont=dict(color=\"black\", size=12, family=\"Arial Bold\"),\n",
    "        marker=dict(color=\"rgba(255,255,255,0)\", size=0),  # 隐藏散点\n",
    "        hoverinfo=\"skip\"\n",
    "    ).data[0]\n",
    ")\n",
    "\"\"\"\n",
    "# 步骤3: 高级美学调整\n",
    "fig.update_layout(\n",
    "    # 颜色条样式\n",
    "    coloraxis_colorbar=dict(\n",
    "        title=\"Average Medals\",\n",
    "        thickness=15,\n",
    "        len=0.6,\n",
    "        yanchor=\"middle\",\n",
    "        y=0.5,\n",
    "        x=0.9,\n",
    "        tickfont=dict(color=\"#666666\"),  # 灰色刻度文字\n",
    "        titlefont=dict(color=\"#444444\")  # 灰色标题\n",
    "    ),\n",
    "    \n",
    "    # 全局布局\n",
    "    margin={\"r\":0, \"t\":60, \"l\":0, \"b\":0},\n",
    "    paper_bgcolor=\"rgba(0,0,0,0)\",       # 透明背景\n",
    "    plot_bgcolor=\"rgba(0,0,0,0)\",\n",
    "    font=dict(family=\"Time\", size=16, color=\"#555555\"),  # 统一字体颜色\n",
    "    \n",
    "    # 地图投影\n",
    "    geo=dict(\n",
    "        showframe=False,\n",
    "        showcoastlines=False,\n",
    "        projection_type=\"natural earth\",\n",
    "        #landcolor=\"rgba(240,240,240,0.8)\",  # 陆地淡灰色\n",
    "        bgcolor=\"rgba(255,255,255,0.5)\"     # 背景微透明\n",
    "    )\n",
    ")\n",
    "\n",
    "# 国家边框美化\n",
    "fig.update_geos(\n",
    "    showcountries=True,\n",
    "    #countrycolor=\"rgba(200,200,200,0.5)\",  # 半透明浅灰色边框\n",
    "    countrywidth=2,\n",
    "    projection_rotation=dict(lon=40),\n",
    "    landcolor=\"hsl(180, 20%, 95%)\",  # 陆地填充色\n",
    "    oceancolor=\"white\",              # 海洋颜色\n",
    "    bgcolor=\"white\",                 # 画布背景色\n",
    "    showocean=True                   # 显示海洋\n",
    ")\n",
    "\n",
    "# 保存为透明背景的PNG（适合嵌入PPT/海报）\n",
    "#fig.write_image(\"2024_soft_medal_map.pdf\", engine=\"orca\", width=1400, height=800, scale=5)\n",
    "\n",
    "# 显示图表\n",
    "fig.show()"
   ],
   "metadata": {
    "collapsed": false,
    "ExecuteTime": {
     "end_time": "2025-01-25T08:52:24.624102600Z",
     "start_time": "2025-01-25T08:52:24.548302200Z"
    }
   },
   "id": "be59263169279ebf"
  },
  {
   "cell_type": "code",
   "execution_count": 21,
   "outputs": [
    {
     "data": {
      "text/plain": "           Country MedalType  Count\n0          Albania      Gold      0\n1          Algeria      Gold      2\n2        Argentina      Gold      1\n3          Armenia      Gold      0\n4        Australia      Gold     18\n..             ...       ...    ...\n268         Uganda    Bronze      0\n269        Ukraine    Bronze      4\n270  United States    Bronze     42\n271     Uzbekistan    Bronze      3\n272         Zambia    Bronze      1\n\n[273 rows x 3 columns]",
      "text/html": "<div>\n<style scoped>\n    .dataframe tbody tr th:only-of-type {\n        vertical-align: middle;\n    }\n\n    .dataframe tbody tr th {\n        vertical-align: top;\n    }\n\n    .dataframe thead th {\n        text-align: right;\n    }\n</style>\n<table border=\"1\" class=\"dataframe\">\n  <thead>\n    <tr style=\"text-align: right;\">\n      <th></th>\n      <th>Country</th>\n      <th>MedalType</th>\n      <th>Count</th>\n    </tr>\n  </thead>\n  <tbody>\n    <tr>\n      <th>0</th>\n      <td>Albania</td>\n      <td>Gold</td>\n      <td>0</td>\n    </tr>\n    <tr>\n      <th>1</th>\n      <td>Algeria</td>\n      <td>Gold</td>\n      <td>2</td>\n    </tr>\n    <tr>\n      <th>2</th>\n      <td>Argentina</td>\n      <td>Gold</td>\n      <td>1</td>\n    </tr>\n    <tr>\n      <th>3</th>\n      <td>Armenia</td>\n      <td>Gold</td>\n      <td>0</td>\n    </tr>\n    <tr>\n      <th>4</th>\n      <td>Australia</td>\n      <td>Gold</td>\n      <td>18</td>\n    </tr>\n    <tr>\n      <th>...</th>\n      <td>...</td>\n      <td>...</td>\n      <td>...</td>\n    </tr>\n    <tr>\n      <th>268</th>\n      <td>Uganda</td>\n      <td>Bronze</td>\n      <td>0</td>\n    </tr>\n    <tr>\n      <th>269</th>\n      <td>Ukraine</td>\n      <td>Bronze</td>\n      <td>4</td>\n    </tr>\n    <tr>\n      <th>270</th>\n      <td>United States</td>\n      <td>Bronze</td>\n      <td>42</td>\n    </tr>\n    <tr>\n      <th>271</th>\n      <td>Uzbekistan</td>\n      <td>Bronze</td>\n      <td>3</td>\n    </tr>\n    <tr>\n      <th>272</th>\n      <td>Zambia</td>\n      <td>Bronze</td>\n      <td>1</td>\n    </tr>\n  </tbody>\n</table>\n<p>273 rows × 3 columns</p>\n</div>"
     },
     "execution_count": 21,
     "metadata": {},
     "output_type": "execute_result"
    }
   ],
   "source": [
    "# 转换数据为长格式\n",
    "df_melted = data_2024_average.melt(\n",
    "    id_vars='Country',\n",
    "    value_vars=['Gold', 'Silver', 'Bronze'],\n",
    "    var_name='MedalType',\n",
    "    value_name='Count'\n",
    ")\n",
    "df_melted"
   ],
   "metadata": {
    "collapsed": false,
    "ExecuteTime": {
     "end_time": "2025-01-25T08:41:11.661070200Z",
     "start_time": "2025-01-25T08:41:11.620010Z"
    }
   },
   "id": "97415602fd6e190b"
  },
  {
   "cell_type": "code",
   "execution_count": 22,
   "outputs": [
    {
     "data": {
      "text/plain": "<Figure size 1200x800 with 1 Axes>",
      "image/png": "[encoded data removed]"
     },
     "metadata": {},
     "output_type": "display_data"
    }
   ],
   "source": [
    "# 按金牌数排序并取前20个国家\n",
    "import matplotlib.pyplot as plt\n",
    "import seaborn as sns\n",
    "top20_data = data_2024_average.sort_values('Gold', ascending=False).head(20)\n",
    "\n",
    "# 转换数据为长格式 (只处理前20个国家)\n",
    "df_melted = top20_data.melt(\n",
    "    id_vars='Country',\n",
    "    value_vars=['Gold', 'Silver', 'Bronze'],\n",
    "    var_name='MedalType',\n",
    "    value_name='Count'\n",
    ")\n",
    "\n",
    "# 创建排序索引 (基于原始排序结果)\n",
    "sorted_countries = top20_data['Country']\n",
    "df_melted['Country'] = pd.Categorical(\n",
    "    df_melted['Country'], \n",
    "    categories=sorted_countries, \n",
    "    ordered=True\n",
    ")\n",
    "df_melted = df_melted.sort_values('Country')\n",
    "\n",
    "# 可视化设置保持不变... (后续代码与原始相同)\n",
    "plt.figure(figsize=(12, 8))\n",
    "sns.set_theme(style=\"whitegrid\")\n",
    "palette = {'Gold': 'gold', 'Silver': 'silver', 'Bronze': '#cd7f32'}\n",
    "\n",
    "sns.barplot(\n",
    "    data=df_melted,\n",
    "    x='Count',\n",
    "    y='Country',\n",
    "    hue='MedalType',\n",
    "    palette=palette,\n",
    "    orient='h'\n",
    ")\n",
    "\n",
    "plt.xlabel('Medal Count', fontsize=12)\n",
    "plt.ylabel('Country', fontsize=12)\n",
    "plt.title('2024 Medal Distribution by Country (Top 20 by Gold)', fontsize=16, pad=20)  # 修改标题\n",
    "plt.legend(title='Medal Type', title_fontsize='13', fontsize='11')\n",
    "plt.tight_layout()\n",
    "plt.show()"
   ],
   "metadata": {
    "collapsed": false,
    "ExecuteTime": {
     "end_time": "2025-01-25T08:41:14.755066600Z",
     "start_time": "2025-01-25T08:41:14.150272100Z"
    }
   },
   "id": "4c3035343b3547e7"
  },
  {
   "cell_type": "code",
   "execution_count": 23,
   "outputs": [
    {
     "data": {
      "text/plain": "<Figure size 1250x600 with 1 Axes>",
      "image/png": "[encoded data removed]"
     },
     "metadata": {},
     "output_type": "display_data"
    }
   ],
   "source": [
    "import matplotlib.pyplot as plt\n",
    "import seaborn as sns\n",
    "\n",
    "# 数据准备 ------------------------------------------------------------\n",
    "top20_sorted = data_2024_average.sort_values('Total', ascending=True).tail(20)\n",
    "top20_sorted = top20_sorted.sort_values('Total', ascending=False)  # 总奖牌最少在上\n",
    "\n",
    "# 样式设置 ------------------------------------------------------------\n",
    "plt.style.use('default')\n",
    "sns.set_theme(style=\"white\")\n",
    "\"\"\"plt.rcParams.update({\n",
    "    'font.family': 'DejaVu Sans',\n",
    "    'axes.edgecolor': '#333333',  # 统一边框颜色\n",
    "    'axes.linewidth': 1.2,        # 加粗边框\n",
    "    'axes.labelcolor': '#333333',\n",
    "    'text.color': '#333333'\n",
    "})\"\"\"\n",
    "\n",
    "# 创建图形 ------------------------------------------------------------\n",
    "fig, ax = plt.subplots(figsize=(12.5, 6), facecolor='white')  # 明确设置背景色\n",
    "#fig.patch.set_linewidth(1.2)  # 图形外边框粗细\n",
    "#fig.patch.set_edgecolor('#333333')  # 图形外边框颜色\"\"\n",
    "\n",
    "# 配置堆叠顺序和颜色 --------------------------------------------------\n",
    "medal_cols = ['Gold', 'Silver', 'Bronze']\n",
    "colors = ['#FFD700', '#C0C0C0', '#CD7F32']\n",
    "\n",
    "# 绘制水平堆叠条形图 --------------------------------------------------\n",
    "top20_sorted.set_index('Country')[medal_cols].plot(\n",
    "    kind='barh',\n",
    "    stacked=True,\n",
    "    color=colors,\n",
    "    ax=ax,\n",
    "    width=0.85,\n",
    "    edgecolor='white'\n",
    ")\n",
    "\n",
    "# 动态坐标范围调整 ----------------------------------------------------\n",
    "max_total = top20_sorted['Total'].max()\n",
    "ax.set_xlim(0, max_total*1.15)\n",
    "\n",
    "\"\"\"# 边框设置 ------------------------------------------------------------\n",
    "# 显示所有坐标轴边框\n",
    "for spine in ['top', 'bottom', 'left', 'right']:\n",
    "    ax.spines[spine].set_visible(True)\n",
    "    ax.spines[spine].set_color('#333333')  # 深灰色边框\n",
    "    ax.spines[spine].set_linewidth(1.2)    # 加粗边框\"\"\"\n",
    "\n",
    "# 标签美化 ------------------------------------------------------------\n",
    "ax.set_xlabel('Total Medal Count', \n",
    "             fontsize=12, \n",
    "             labelpad=10,\n",
    "             fontweight='semibold')\n",
    "ax.set_ylabel('Country', \n",
    "             fontsize=12, \n",
    "             labelpad=10,\n",
    "             fontweight='semibold')\n",
    "#ax.set_title('2024 Olympic Medal Distribution (Total Ascending Order)',\n",
    "#            fontsize=16,\n",
    "#            pad=20,\n",
    "#            fontweight='bold')\n",
    "\n",
    "# 图例优化 ------------------------------------------------------------\n",
    "legend = ax.legend(\n",
    "    title='Medal Type',\n",
    "    labels=['Gold', 'Silver', 'Bronze'],\n",
    "    frameon=True,\n",
    "    facecolor='white',\n",
    "    edgecolor='#333333',  # 深灰色边框\n",
    "    title_fontproperties={'weight':'bold'}\n",
    ")\n",
    "\n",
    "# 坐标轴美化 ----------------------------------------------------------\n",
    "plt.yticks(fontsize=11, fontstyle='italic')\n",
    "plt.xticks(fontsize=10)\n",
    "\n",
    "# 布局优化 -----------------------------------------------------------\n",
    "plt.tight_layout(rect=[0, 0, 0.85, 1])\n",
    "#plt.savefig('2024 Olympic Medal Distribution.pdf', \n",
    "#           bbox_inches='tight')  # 保存时保留外边框\n",
    "plt.show()"
   ],
   "metadata": {
    "collapsed": false,
    "ExecuteTime": {
     "end_time": "2025-01-25T08:41:22.915337100Z",
     "start_time": "2025-01-25T08:41:22.659514700Z"
    }
   },
   "id": "77afe35c5ad47057"
  },
  {
   "cell_type": "markdown",
   "source": [
    "## **下面是东道主国家的热力图**"
   ],
   "metadata": {
    "collapsed": false
   },
   "id": "7eb4e56777cbe9b"
  },
  {
   "cell_type": "code",
   "execution_count": 24,
   "outputs": [
    {
     "ename": "FileNotFoundError",
     "evalue": "[Errno 2] No such file or directory: 'raw_dataset/summerOly_hosts.csv'",
     "output_type": "error",
     "traceback": [
      "\u001B[1;31m---------------------------------------------------------------------------\u001B[0m",
      "\u001B[1;31mFileNotFoundError\u001B[0m                         Traceback (most recent call last)",
      "Cell \u001B[1;32mIn[24], line 1\u001B[0m\n\u001B[1;32m----> 1\u001B[0m data2 \u001B[38;5;241m=\u001B[39m pd\u001B[38;5;241m.\u001B[39mread_csv(\u001B[38;5;124m\"\u001B[39m\u001B[38;5;124mraw_dataset/summerOly_hosts.csv\u001B[39m\u001B[38;5;124m\"\u001B[39m)\n\u001B[0;32m      2\u001B[0m data3 \u001B[38;5;241m=\u001B[39m pd\u001B[38;5;241m.\u001B[39mread_csv(\u001B[38;5;124m\"\u001B[39m\u001B[38;5;124mraw_dataset/summerOly_medal_counts.csv\u001B[39m\u001B[38;5;124m\"\u001B[39m)\n\u001B[0;32m      3\u001B[0m data3[\u001B[38;5;124m'\u001B[39m\u001B[38;5;124mNOC\u001B[39m\u001B[38;5;124m'\u001B[39m] \u001B[38;5;241m=\u001B[39m data3[\u001B[38;5;124m'\u001B[39m\u001B[38;5;124mNOC\u001B[39m\u001B[38;5;124m'\u001B[39m]\u001B[38;5;241m.\u001B[39mreplace({\u001B[38;5;124m'\u001B[39m\u001B[38;5;124mSoviet Union\u001B[39m\u001B[38;5;124m'\u001B[39m: \u001B[38;5;124m'\u001B[39m\u001B[38;5;124mRussia\u001B[39m\u001B[38;5;124m'\u001B[39m})\n",
      "File \u001B[1;32mD:\\anaconda\\Lib\\site-packages\\pandas\\io\\parsers\\readers.py:912\u001B[0m, in \u001B[0;36mread_csv\u001B[1;34m(filepath_or_buffer, sep, delimiter, header, names, index_col, usecols, dtype, engine, converters, true_values, false_values, skipinitialspace, skiprows, skipfooter, nrows, na_values, keep_default_na, na_filter, verbose, skip_blank_lines, parse_dates, infer_datetime_format, keep_date_col, date_parser, date_format, dayfirst, cache_dates, iterator, chunksize, compression, thousands, decimal, lineterminator, quotechar, quoting, doublequote, escapechar, comment, encoding, encoding_errors, dialect, on_bad_lines, delim_whitespace, low_memory, memory_map, float_precision, storage_options, dtype_backend)\u001B[0m\n\u001B[0;32m    899\u001B[0m kwds_defaults \u001B[38;5;241m=\u001B[39m _refine_defaults_read(\n\u001B[0;32m    900\u001B[0m     dialect,\n\u001B[0;32m    901\u001B[0m     delimiter,\n\u001B[1;32m   (...)\u001B[0m\n\u001B[0;32m    908\u001B[0m     dtype_backend\u001B[38;5;241m=\u001B[39mdtype_backend,\n\u001B[0;32m    909\u001B[0m )\n\u001B[0;32m    910\u001B[0m kwds\u001B[38;5;241m.\u001B[39mupdate(kwds_defaults)\n\u001B[1;32m--> 912\u001B[0m \u001B[38;5;28;01mreturn\u001B[39;00m _read(filepath_or_buffer, kwds)\n",
      "File \u001B[1;32mD:\\anaconda\\Lib\\site-packages\\pandas\\io\\parsers\\readers.py:577\u001B[0m, in \u001B[0;36m_read\u001B[1;34m(filepath_or_buffer, kwds)\u001B[0m\n\u001B[0;32m    574\u001B[0m _validate_names(kwds\u001B[38;5;241m.\u001B[39mget(\u001B[38;5;124m\"\u001B[39m\u001B[38;5;124mnames\u001B[39m\u001B[38;5;124m\"\u001B[39m, \u001B[38;5;28;01mNone\u001B[39;00m))\n\u001B[0;32m    576\u001B[0m \u001B[38;5;66;03m# Create the parser.\u001B[39;00m\n\u001B[1;32m--> 577\u001B[0m parser \u001B[38;5;241m=\u001B[39m TextFileReader(filepath_or_buffer, \u001B[38;5;241m*\u001B[39m\u001B[38;5;241m*\u001B[39mkwds)\n\u001B[0;32m    579\u001B[0m \u001B[38;5;28;01mif\u001B[39;00m chunksize \u001B[38;5;129;01mor\u001B[39;00m iterator:\n\u001B[0;32m    580\u001B[0m     \u001B[38;5;28;01mreturn\u001B[39;00m parser\n",
      "File \u001B[1;32mD:\\anaconda\\Lib\\site-packages\\pandas\\io\\parsers\\readers.py:1407\u001B[0m, in \u001B[0;36mTextFileReader.__init__\u001B[1;34m(self, f, engine, **kwds)\u001B[0m\n\u001B[0;32m   1404\u001B[0m     \u001B[38;5;28mself\u001B[39m\u001B[38;5;241m.\u001B[39moptions[\u001B[38;5;124m\"\u001B[39m\u001B[38;5;124mhas_index_names\u001B[39m\u001B[38;5;124m\"\u001B[39m] \u001B[38;5;241m=\u001B[39m kwds[\u001B[38;5;124m\"\u001B[39m\u001B[38;5;124mhas_index_names\u001B[39m\u001B[38;5;124m\"\u001B[39m]\n\u001B[0;32m   1406\u001B[0m \u001B[38;5;28mself\u001B[39m\u001B[38;5;241m.\u001B[39mhandles: IOHandles \u001B[38;5;241m|\u001B[39m \u001B[38;5;28;01mNone\u001B[39;00m \u001B[38;5;241m=\u001B[39m \u001B[38;5;28;01mNone\u001B[39;00m\n\u001B[1;32m-> 1407\u001B[0m \u001B[38;5;28mself\u001B[39m\u001B[38;5;241m.\u001B[39m_engine \u001B[38;5;241m=\u001B[39m \u001B[38;5;28mself\u001B[39m\u001B[38;5;241m.\u001B[39m_make_engine(f, \u001B[38;5;28mself\u001B[39m\u001B[38;5;241m.\u001B[39mengine)\n",
      "File \u001B[1;32mD:\\anaconda\\Lib\\site-packages\\pandas\\io\\parsers\\readers.py:1661\u001B[0m, in \u001B[0;36mTextFileReader._make_engine\u001B[1;34m(self, f, engine)\u001B[0m\n\u001B[0;32m   1659\u001B[0m     \u001B[38;5;28;01mif\u001B[39;00m \u001B[38;5;124m\"\u001B[39m\u001B[38;5;124mb\u001B[39m\u001B[38;5;124m\"\u001B[39m \u001B[38;5;129;01mnot\u001B[39;00m \u001B[38;5;129;01min\u001B[39;00m mode:\n\u001B[0;32m   1660\u001B[0m         mode \u001B[38;5;241m+\u001B[39m\u001B[38;5;241m=\u001B[39m \u001B[38;5;124m\"\u001B[39m\u001B[38;5;124mb\u001B[39m\u001B[38;5;124m\"\u001B[39m\n\u001B[1;32m-> 1661\u001B[0m \u001B[38;5;28mself\u001B[39m\u001B[38;5;241m.\u001B[39mhandles \u001B[38;5;241m=\u001B[39m get_handle(\n\u001B[0;32m   1662\u001B[0m     f,\n\u001B[0;32m   1663\u001B[0m     mode,\n\u001B[0;32m   1664\u001B[0m     encoding\u001B[38;5;241m=\u001B[39m\u001B[38;5;28mself\u001B[39m\u001B[38;5;241m.\u001B[39moptions\u001B[38;5;241m.\u001B[39mget(\u001B[38;5;124m\"\u001B[39m\u001B[38;5;124mencoding\u001B[39m\u001B[38;5;124m\"\u001B[39m, \u001B[38;5;28;01mNone\u001B[39;00m),\n\u001B[0;32m   1665\u001B[0m     compression\u001B[38;5;241m=\u001B[39m\u001B[38;5;28mself\u001B[39m\u001B[38;5;241m.\u001B[39moptions\u001B[38;5;241m.\u001B[39mget(\u001B[38;5;124m\"\u001B[39m\u001B[38;5;124mcompression\u001B[39m\u001B[38;5;124m\"\u001B[39m, \u001B[38;5;28;01mNone\u001B[39;00m),\n\u001B[0;32m   1666\u001B[0m     memory_map\u001B[38;5;241m=\u001B[39m\u001B[38;5;28mself\u001B[39m\u001B[38;5;241m.\u001B[39moptions\u001B[38;5;241m.\u001B[39mget(\u001B[38;5;124m\"\u001B[39m\u001B[38;5;124mmemory_map\u001B[39m\u001B[38;5;124m\"\u001B[39m, \u001B[38;5;28;01mFalse\u001B[39;00m),\n\u001B[0;32m   1667\u001B[0m     is_text\u001B[38;5;241m=\u001B[39mis_text,\n\u001B[0;32m   1668\u001B[0m     errors\u001B[38;5;241m=\u001B[39m\u001B[38;5;28mself\u001B[39m\u001B[38;5;241m.\u001B[39moptions\u001B[38;5;241m.\u001B[39mget(\u001B[38;5;124m\"\u001B[39m\u001B[38;5;124mencoding_errors\u001B[39m\u001B[38;5;124m\"\u001B[39m, \u001B[38;5;124m\"\u001B[39m\u001B[38;5;124mstrict\u001B[39m\u001B[38;5;124m\"\u001B[39m),\n\u001B[0;32m   1669\u001B[0m     storage_options\u001B[38;5;241m=\u001B[39m\u001B[38;5;28mself\u001B[39m\u001B[38;5;241m.\u001B[39moptions\u001B[38;5;241m.\u001B[39mget(\u001B[38;5;124m\"\u001B[39m\u001B[38;5;124mstorage_options\u001B[39m\u001B[38;5;124m\"\u001B[39m, \u001B[38;5;28;01mNone\u001B[39;00m),\n\u001B[0;32m   1670\u001B[0m )\n\u001B[0;32m   1671\u001B[0m \u001B[38;5;28;01massert\u001B[39;00m \u001B[38;5;28mself\u001B[39m\u001B[38;5;241m.\u001B[39mhandles \u001B[38;5;129;01mis\u001B[39;00m \u001B[38;5;129;01mnot\u001B[39;00m \u001B[38;5;28;01mNone\u001B[39;00m\n\u001B[0;32m   1672\u001B[0m f \u001B[38;5;241m=\u001B[39m \u001B[38;5;28mself\u001B[39m\u001B[38;5;241m.\u001B[39mhandles\u001B[38;5;241m.\u001B[39mhandle\n",
      "File \u001B[1;32mD:\\anaconda\\Lib\\site-packages\\pandas\\io\\common.py:859\u001B[0m, in \u001B[0;36mget_handle\u001B[1;34m(path_or_buf, mode, encoding, compression, memory_map, is_text, errors, storage_options)\u001B[0m\n\u001B[0;32m    854\u001B[0m \u001B[38;5;28;01melif\u001B[39;00m \u001B[38;5;28misinstance\u001B[39m(handle, \u001B[38;5;28mstr\u001B[39m):\n\u001B[0;32m    855\u001B[0m     \u001B[38;5;66;03m# Check whether the filename is to be opened in binary mode.\u001B[39;00m\n\u001B[0;32m    856\u001B[0m     \u001B[38;5;66;03m# Binary mode does not support 'encoding' and 'newline'.\u001B[39;00m\n\u001B[0;32m    857\u001B[0m     \u001B[38;5;28;01mif\u001B[39;00m ioargs\u001B[38;5;241m.\u001B[39mencoding \u001B[38;5;129;01mand\u001B[39;00m \u001B[38;5;124m\"\u001B[39m\u001B[38;5;124mb\u001B[39m\u001B[38;5;124m\"\u001B[39m \u001B[38;5;129;01mnot\u001B[39;00m \u001B[38;5;129;01min\u001B[39;00m ioargs\u001B[38;5;241m.\u001B[39mmode:\n\u001B[0;32m    858\u001B[0m         \u001B[38;5;66;03m# Encoding\u001B[39;00m\n\u001B[1;32m--> 859\u001B[0m         handle \u001B[38;5;241m=\u001B[39m \u001B[38;5;28mopen\u001B[39m(\n\u001B[0;32m    860\u001B[0m             handle,\n\u001B[0;32m    861\u001B[0m             ioargs\u001B[38;5;241m.\u001B[39mmode,\n\u001B[0;32m    862\u001B[0m             encoding\u001B[38;5;241m=\u001B[39mioargs\u001B[38;5;241m.\u001B[39mencoding,\n\u001B[0;32m    863\u001B[0m             errors\u001B[38;5;241m=\u001B[39merrors,\n\u001B[0;32m    864\u001B[0m             newline\u001B[38;5;241m=\u001B[39m\u001B[38;5;124m\"\u001B[39m\u001B[38;5;124m\"\u001B[39m,\n\u001B[0;32m    865\u001B[0m         )\n\u001B[0;32m    866\u001B[0m     \u001B[38;5;28;01melse\u001B[39;00m:\n\u001B[0;32m    867\u001B[0m         \u001B[38;5;66;03m# Binary mode\u001B[39;00m\n\u001B[0;32m    868\u001B[0m         handle \u001B[38;5;241m=\u001B[39m \u001B[38;5;28mopen\u001B[39m(handle, ioargs\u001B[38;5;241m.\u001B[39mmode)\n",
      "\u001B[1;31mFileNotFoundError\u001B[0m: [Errno 2] No such file or directory: 'raw_dataset/summerOly_hosts.csv'"
     ]
    }
   ],
   "source": [
    "data2 = pd.read_csv(\"raw_dataset/summerOly_hosts.csv\")\n",
    "data3 = pd.read_csv(\"raw_dataset/summerOly_medal_counts.csv\")\n",
    "data3['NOC'] = data3['NOC'].replace({'Soviet Union': 'Russia'})\n",
    "data2[['city', 'country']] = data2['Host'].str.split(r',\\s+', n=1, expand=True)\n",
    "data2['country'] = data2['country'].replace({'Soviet Union': 'Russia'})\n",
    "print(data2.info())\n",
    "print(data3.info())\n",
    "print(data2)"
   ],
   "metadata": {
    "collapsed": false,
    "ExecuteTime": {
     "end_time": "2025-01-25T08:41:26.906694100Z",
     "start_time": "2025-01-25T08:41:26.353835100Z"
    }
   },
   "id": "8401b119f95a0eaa"
  },
  {
   "cell_type": "code",
   "execution_count": 211,
   "outputs": [
    {
     "name": "stdout",
     "output_type": "stream",
     "text": [
      "\n",
      "修改后的数据：\n",
      "    Year         country\n",
      "0   1896          Greece\n",
      "1   1900          France\n",
      "2   1904   United States\n",
      "3   1908  United Kingdom\n",
      "4   1912          Sweden\n",
      "5   1916            None\n",
      "6   1920         Belgium\n",
      "7   1924          France\n",
      "8   1928     Netherlands\n",
      "9   1932   United States\n",
      "10  1936         Germany\n",
      "11  1940            None\n",
      "12  1944            None\n",
      "13  1948  United Kingdom\n",
      "14  1952         Finland\n",
      "15  1956       Australia\n",
      "16  1960           Italy\n",
      "17  1964           Japan\n",
      "18  1968          Mexico\n",
      "19  1972    West Germany\n",
      "20  1976          Canada\n",
      "21  1980          Russia\n",
      "22  1984   United States\n",
      "23  1988     South Korea\n",
      "24  1992           Spain\n",
      "25  1996   United States\n",
      "26  2000       Australia\n",
      "27  2004          Greece\n",
      "28  2008           China\n",
      "29  2012  United Kingdom\n",
      "30  2016          Brazil\n",
      "31  2020           Japan\n",
      "32  2024          France\n",
      "      Rank                   NOC  Gold  Silver  Bronze  Total  Year  \\\n",
      "0        1         United States    11       7       2     20  1896   \n",
      "1        2                Greece    10      18      19     47  1896   \n",
      "2        3               Germany     6       5       2     13  1896   \n",
      "3        4                France     5       4       2     11  1896   \n",
      "4        5         Great Britain     2       3       2      7  1896   \n",
      "...    ...                   ...   ...     ...     ...    ...   ...   \n",
      "1430    84                 Qatar     0       0       1      1  2024   \n",
      "1431    84  Refugee Olympic Team     0       0       1      1  2024   \n",
      "1432    84             Singapore     0       0       1      1  2024   \n",
      "1433    84              Slovakia     0       0       1      1  2024   \n",
      "1434    84                Zambia     0       0       1      1  2024   \n",
      "\n",
      "                   country  \n",
      "0            United States  \n",
      "1                   Greece  \n",
      "2                  Germany  \n",
      "3                   France  \n",
      "4           United Kingdom  \n",
      "...                    ...  \n",
      "1430                 Qatar  \n",
      "1431  Refugee Olympic Team  \n",
      "1432             Singapore  \n",
      "1433              Slovakia  \n",
      "1434                Zambia  \n",
      "\n",
      "[1435 rows x 8 columns]\n"
     ]
    }
   ],
   "source": [
    "data2 = data2[['Year', 'country']]  # 注意列名需精确匹配，如果是'Years'请修改为实际列名\n",
    "\n",
    "# 修改索引31的国家信息\n",
    "try:\n",
    "    data2.loc[31, 'country'] = 'Japan'\n",
    "except KeyError:\n",
    "    print(f\"索引31不存在，请确认DataFrame长度（当前长度：{len(data2)}）\")\n",
    "data2 = data2.iloc[:-2]\n",
    "# 验证结果\n",
    "print(\"\\n修改后的数据：\")\n",
    "print(data2)\n",
    "data3[\"country\"]=data3[\"NOC\"]\n",
    "data3['country'] = data3['country'].replace(\n",
    "    'Great Britain', \n",
    "    'United Kingdom')\n",
    "print(data3)"
   ],
   "metadata": {
    "collapsed": false,
    "ExecuteTime": {
     "end_time": "2025-01-25T07:19:53.544105300Z",
     "start_time": "2025-01-25T07:19:53.517013400Z"
    }
   },
   "id": "76613c253e3b346e"
  },
  {
   "cell_type": "markdown",
   "source": [
    "## 如果同一个东道主举办两次则求和"
   ],
   "metadata": {
    "collapsed": false
   },
   "id": "471ebfc1d3cbd86e"
  },
  {
   "cell_type": "code",
   "execution_count": 212,
   "outputs": [
    {
     "data": {
      "text/plain": "      Rank    NOC  Gold  Silver  Bronze  Total  Year country\n599      4  China    15       8       9     32  1984   China\n653     11  China     5      11      12     28  1988   China\n698      4  China    16      22      16     54  1992   China\n762      4  China    16      22      12     50  1996   China\n840      3  China    28      16      14     58  2000   China\n919      2  China    32      17      14     63  2004   China\n992      1  China    48      22      30    100  2008   China\n1080     2  China    39      31      22     92  2012   China\n1167     3  China    26      18      26     70  2016   China\n1252     2  China    38      32      19     89  2020   China\n1345     2  China    40      27      24     91  2024   China",
      "text/html": "<div>\n<style scoped>\n    .dataframe tbody tr th:only-of-type {\n        vertical-align: middle;\n    }\n\n    .dataframe tbody tr th {\n        vertical-align: top;\n    }\n\n    .dataframe thead th {\n        text-align: right;\n    }\n</style>\n<table border=\"1\" class=\"dataframe\">\n  <thead>\n    <tr style=\"text-align: right;\">\n      <th></th>\n      <th>Rank</th>\n      <th>NOC</th>\n      <th>Gold</th>\n      <th>Silver</th>\n      <th>Bronze</th>\n      <th>Total</th>\n      <th>Year</th>\n      <th>country</th>\n    </tr>\n  </thead>\n  <tbody>\n    <tr>\n      <th>599</th>\n      <td>4</td>\n      <td>China</td>\n      <td>15</td>\n      <td>8</td>\n      <td>9</td>\n      <td>32</td>\n      <td>1984</td>\n      <td>China</td>\n    </tr>\n    <tr>\n      <th>653</th>\n      <td>11</td>\n      <td>China</td>\n      <td>5</td>\n      <td>11</td>\n      <td>12</td>\n      <td>28</td>\n      <td>1988</td>\n      <td>China</td>\n    </tr>\n    <tr>\n      <th>698</th>\n      <td>4</td>\n      <td>China</td>\n      <td>16</td>\n      <td>22</td>\n      <td>16</td>\n      <td>54</td>\n      <td>1992</td>\n      <td>China</td>\n    </tr>\n    <tr>\n      <th>762</th>\n      <td>4</td>\n      <td>China</td>\n      <td>16</td>\n      <td>22</td>\n      <td>12</td>\n      <td>50</td>\n      <td>1996</td>\n      <td>China</td>\n    </tr>\n    <tr>\n      <th>840</th>\n      <td>3</td>\n      <td>China</td>\n      <td>28</td>\n      <td>16</td>\n      <td>14</td>\n      <td>58</td>\n      <td>2000</td>\n      <td>China</td>\n    </tr>\n    <tr>\n      <th>919</th>\n      <td>2</td>\n      <td>China</td>\n      <td>32</td>\n      <td>17</td>\n      <td>14</td>\n      <td>63</td>\n      <td>2004</td>\n      <td>China</td>\n    </tr>\n    <tr>\n      <th>992</th>\n      <td>1</td>\n      <td>China</td>\n      <td>48</td>\n      <td>22</td>\n      <td>30</td>\n      <td>100</td>\n      <td>2008</td>\n      <td>China</td>\n    </tr>\n    <tr>\n      <th>1080</th>\n      <td>2</td>\n      <td>China</td>\n      <td>39</td>\n      <td>31</td>\n      <td>22</td>\n      <td>92</td>\n      <td>2012</td>\n      <td>China</td>\n    </tr>\n    <tr>\n      <th>1167</th>\n      <td>3</td>\n      <td>China</td>\n      <td>26</td>\n      <td>18</td>\n      <td>26</td>\n      <td>70</td>\n      <td>2016</td>\n      <td>China</td>\n    </tr>\n    <tr>\n      <th>1252</th>\n      <td>2</td>\n      <td>China</td>\n      <td>38</td>\n      <td>32</td>\n      <td>19</td>\n      <td>89</td>\n      <td>2020</td>\n      <td>China</td>\n    </tr>\n    <tr>\n      <th>1345</th>\n      <td>2</td>\n      <td>China</td>\n      <td>40</td>\n      <td>27</td>\n      <td>24</td>\n      <td>91</td>\n      <td>2024</td>\n      <td>China</td>\n    </tr>\n  </tbody>\n</table>\n</div>"
     },
     "execution_count": 212,
     "metadata": {},
     "output_type": "execute_result"
    }
   ],
   "source": [
    "data3[data3[\"country\"]==\"China\"]"
   ],
   "metadata": {
    "collapsed": false,
    "ExecuteTime": {
     "end_time": "2025-01-25T07:19:55.937099800Z",
     "start_time": "2025-01-25T07:19:55.898919300Z"
    }
   },
   "id": "73141db816948216"
  },
  {
   "cell_type": "code",
   "execution_count": 214,
   "outputs": [
    {
     "data": {
      "text/plain": "<Figure size 1600x1200 with 2 Axes>",
      "image/png": "[encoded data removed]"
     },
     "metadata": {},
     "output_type": "display_data"
    }
   ],
   "source": [
    "# ==================== 构建国家矩阵 ====================\n",
    "import pandas as pd\n",
    "import seaborn as sns\n",
    "import matplotlib.pyplot as plt\n",
    "import numpy as np\n",
    "\n",
    "# 设置中文显示（如果需要）\n",
    "plt.rcParams['font.sans-serif'] = ['SimHei']\n",
    "plt.rcParams['axes.unicode_minus'] = False\n",
    "\n",
    "# ==================== 数据预处理 ====================\n",
    "# 假设data2和medal_data已加载\n",
    "\n",
    "# 清理东道主数据\n",
    "host_df = data2.dropna(subset=['country'])\n",
    "medal_data=data3\n",
    "# 获取所有东道主国家列表\n",
    "host_countries = host_df['country'].unique().tolist()\n",
    "\n",
    "# 初始化总和矩阵和参赛次数矩阵\n",
    "sum_matrix = pd.DataFrame(0, index=host_countries, columns=host_countries)\n",
    "count_matrix = pd.DataFrame(0, index=host_countries, columns=host_countries)\n",
    "\n",
    "# 填充矩阵数据\n",
    "for host_year, host_country in zip(host_df['Year'], host_df['country']):\n",
    "    year_data = medal_data[medal_data['Year'] == host_year]\n",
    "    \n",
    "    # 遍历当届参赛记录\n",
    "    for _, row in year_data.iterrows():\n",
    "        country = row['country']\n",
    "        total = row['Total']\n",
    "        \n",
    "        if country in host_countries:\n",
    "            sum_matrix.loc[country, host_country] += total\n",
    "            count_matrix.loc[country, host_country] += 1  # 记录参赛次数\n",
    "\n",
    "# 计算平均奖牌数（仅对实际参赛的年份取平均）\n",
    "average_matrix = sum_matrix / count_matrix.replace(0, np.nan)\n",
    "average_matrix = average_matrix.fillna(0)  # 未参赛的组合保持0值\n",
    "\n",
    "# ==================== 可视化设置 ====================\n",
    "plt.figure(figsize=(16, 12))\n",
    "mask = np.zeros_like(average_matrix, dtype=bool)\n",
    "np.fill_diagonal(mask, True)\n",
    "\n",
    "# 生成自定义注释矩阵\n",
    "annot_matrix = pd.DataFrame(index=host_countries, columns=host_countries, dtype=str)\n",
    "for i in range(len(host_countries)):\n",
    "    for j in range(len(host_countries)):\n",
    "        avg_value = average_matrix.iloc[i, j]\n",
    "        participation_count = count_matrix.iloc[i, j]\n",
    "        \n",
    "        # 对角线单元格（东道主时期）\n",
    "        if i == j:\n",
    "            annot_matrix.iloc[i, j] = f\"{avg_value:.1f}\"\n",
    "        # 非对角线单元格\n",
    "        else:\n",
    "            if participation_count == 0:\n",
    "                annot_matrix.iloc[i, j] = 'non'  # 从未参赛\n",
    "            else:\n",
    "                annot_matrix.iloc[i, j] = f\"{avg_value:.1f}\"  # 参赛过至少一次\n",
    "annot_matrix[\"France\"][\"China\"]=91\n",
    "# 绘制热力图（非对角线部分）\n",
    "sns.heatmap(\n",
    "    average_matrix,\n",
    "    annot=annot_matrix,\n",
    "    fmt='',\n",
    "    cmap=\"Blues\",\n",
    "    mask=~mask,\n",
    "    linewidths=0.5,\n",
    "    linecolor='grey',\n",
    "    cbar_kws={'label': 'Average number of medals in the non-hosting period'},\n",
    "    vmax=average_matrix.max().max()\n",
    ")\n",
    "\n",
    "# 绘制热力图（对角线部分）\n",
    "sns.heatmap(\n",
    "    average_matrix,\n",
    "    annot=annot_matrix,\n",
    "    fmt='',\n",
    "    cmap=\"YlOrRd\",\n",
    "    mask=mask,\n",
    "    linewidths=0.5,\n",
    "    linecolor='grey',\n",
    "    cbar=False,\n",
    "    vmax=average_matrix.max().max()\n",
    ")\n",
    "\n",
    "# 添加图例\n",
    "diag_patch = plt.Rectangle((0,0),1,1, fc='#FFA07A', edgecolor='grey')\n",
    "non_diag_patch = plt.Rectangle((0,0),1,1, fc='#87CEEB', edgecolor='grey')\n",
    "plt.legend([diag_patch, non_diag_patch], \n",
    "           ['Number of medals in hosting period', 'Number of medals in non-hosting period'],\n",
    "           loc='upper right')\n",
    "\n",
    "# 图表装饰\n",
    "plt.xlabel(\"Olympic host country\", fontsize=16)\n",
    "plt.ylabel(\"Participating host countries\", fontsize=16)\n",
    "plt.xticks(rotation=45, ha='right')\n",
    "plt.yticks(rotation=0)\n",
    "\n",
    "plt.tight_layout()\n",
    "plt.savefig('东道主国家奖牌对比热力图(Comparative Analysis of Host Country Medal Performance).pdf',bbox_inches='tight')\n",
    "plt.show()"
   ],
   "metadata": {
    "collapsed": false,
    "ExecuteTime": {
     "end_time": "2025-01-25T07:20:12.760717900Z",
     "start_time": "2025-01-25T07:20:11.310650700Z"
    }
   },
   "id": "72de9cdfb822809e"
  }
 ],
 "metadata": {
  "kernelspec": {
   "display_name": "Python 3",
   "language": "python",
   "name": "python3"
  },
  "language_info": {
   "codemirror_mode": {
    "name": "ipython",
    "version": 2
   },
   "file_extension": ".py",
   "mimetype": "text/x-python",
   "name": "python",
   "nbconvert_exporter": "python",
   "pygments_lexer": "ipython2",
   "version": "2.7.6"
  }
 },
 "nbformat": 4,
 "nbformat_minor": 5
}
