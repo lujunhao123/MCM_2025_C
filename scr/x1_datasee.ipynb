{
 "cells": [
  {
   "cell_type": "code",
   "execution_count": 2,
   "id": "initial_id",
   "metadata": {
    "collapsed": true,
    "ExecuteTime": {
     "end_time": "2025-01-27T09:00:26.504156300Z",
     "start_time": "2025-01-27T09:00:14.875719200Z"
    }
   },
   "outputs": [],
   "source": [
    "import pandas as pd\n",
    "import chardet\n",
    "\n",
    "file_dict_path = r\".\\2025_Problem_C_Data\\data_dictionary.csv\"\n",
    "athletes_file_path = r\".\\2025_Problem_C_Data\\summerOly_athletes.csv\"\n",
    "hosts_file_path = r\".\\2025_Problem_C_Data\\summerOly_hosts.csv\"\n",
    "medals_file_path = r\".\\2025_Problem_C_Data\\summerOly_medal_counts.csv\"\n",
    "programs_file_path = r\".\\2025_Problem_C_Data\\summerOly_programs.csv\"\n",
    "\n",
    "def detect_encoding(file_path):\n",
    "    with open(file_path, 'rb') as f:\n",
    "        raw_data = f.read()\n",
    "        result = chardet.detect(raw_data)\n",
    "        return result['encoding']\n",
    "    \n",
    "def read_csv(file_path):\n",
    "    encoding = detect_encoding(file_path)\n",
    "    return pd.read_csv(file_path, encoding=encoding)\n",
    "\n",
    "athletes = read_csv(athletes_file_path)\n",
    "hosts = read_csv(hosts_file_path)\n",
    "medals = read_csv(medals_file_path)\n",
    "programs = read_csv(programs_file_path)"
   ]
  },
  {
   "cell_type": "code",
   "execution_count": 3,
   "outputs": [
    {
     "name": "stdout",
     "output_type": "stream",
     "text": [
      "<class 'pandas.core.frame.DataFrame'>\n",
      "RangeIndex: 250985 entries, 0 to 250984\n",
      "Data columns (total 14 columns):\n",
      " #   Column      Non-Null Count   Dtype \n",
      "---  ------      --------------   ----- \n",
      " 0   Unnamed: 0  250985 non-null  int64 \n",
      " 1   Name        250985 non-null  object\n",
      " 2   Sex         250985 non-null  object\n",
      " 3   Country     250985 non-null  object\n",
      " 4   NOC         250985 non-null  object\n",
      " 5   Year        250985 non-null  int64 \n",
      " 6   City        250985 non-null  object\n",
      " 7   Sport       250985 non-null  object\n",
      " 8   Event       250985 non-null  object\n",
      " 9   Medal       250985 non-null  object\n",
      " 10  Total       250985 non-null  bool  \n",
      " 11  Gold        250985 non-null  bool  \n",
      " 12  Silver      250985 non-null  bool  \n",
      " 13  Bronze      250985 non-null  bool  \n",
      "dtypes: bool(4), int64(2), object(8)\n",
      "memory usage: 20.1+ MB\n",
      "None\n",
      "<class 'pandas.core.frame.DataFrame'>\n",
      "RangeIndex: 35 entries, 0 to 34\n",
      "Data columns (total 3 columns):\n",
      " #   Column      Non-Null Count  Dtype \n",
      "---  ------      --------------  ----- \n",
      " 0   Unnamed: 0  35 non-null     int64 \n",
      " 1   Year        35 non-null     int64 \n",
      " 2   Host        35 non-null     object\n",
      "dtypes: int64(2), object(1)\n",
      "memory usage: 972.0+ bytes\n",
      "None\n",
      "<class 'pandas.core.frame.DataFrame'>\n",
      "RangeIndex: 1435 entries, 0 to 1434\n",
      "Data columns (total 8 columns):\n",
      " #   Column      Non-Null Count  Dtype \n",
      "---  ------      --------------  ----- \n",
      " 0   Unnamed: 0  1435 non-null   int64 \n",
      " 1   Rank        1435 non-null   int64 \n",
      " 2   NOC         1435 non-null   object\n",
      " 3   Gold        1435 non-null   int64 \n",
      " 4   Silver      1435 non-null   int64 \n",
      " 5   Bronze      1435 non-null   int64 \n",
      " 6   Total       1435 non-null   int64 \n",
      " 7   Year        1435 non-null   int64 \n",
      "dtypes: int64(7), object(1)\n",
      "memory usage: 89.8+ KB\n",
      "None\n",
      "<class 'pandas.core.frame.DataFrame'>\n",
      "RangeIndex: 73 entries, 0 to 72\n",
      "Data columns (total 36 columns):\n",
      " #   Column                 Non-Null Count  Dtype  \n",
      "---  ------                 --------------  -----  \n",
      " 0   Unnamed: 0             73 non-null     int64  \n",
      " 1   Sport                  73 non-null     object \n",
      " 2   Discipline             73 non-null     object \n",
      " 3   Code                   73 non-null     object \n",
      " 4   Sports Governing Body  73 non-null     object \n",
      " 5   1896                   73 non-null     object \n",
      " 6   1900                   73 non-null     object \n",
      " 7   1904                   73 non-null     object \n",
      " 8   1906*                  73 non-null     int64  \n",
      " 9   1908                   73 non-null     int64  \n",
      " 10  1912                   73 non-null     object \n",
      " 11  1920                   73 non-null     int64  \n",
      " 12  1924                   73 non-null     object \n",
      " 13  1928                   73 non-null     object \n",
      " 14  1932                   73 non-null     object \n",
      " 15  1936                   73 non-null     object \n",
      " 16  1948                   73 non-null     object \n",
      " 17  1952                   73 non-null     float64\n",
      " 18  1956                   73 non-null     object \n",
      " 19  1960                   73 non-null     float64\n",
      " 20  1964                   73 non-null     object \n",
      " 21  1968                   73 non-null     object \n",
      " 22  1972                   73 non-null     object \n",
      " 23  1976                   73 non-null     float64\n",
      " 24  1980                   73 non-null     float64\n",
      " 25  1984                   73 non-null     object \n",
      " 26  1988                   73 non-null     object \n",
      " 27  1992                   73 non-null     object \n",
      " 28  1996                   73 non-null     float64\n",
      " 29  2000                   73 non-null     float64\n",
      " 30  2004                   73 non-null     float64\n",
      " 31  2008                   73 non-null     float64\n",
      " 32  2012                   73 non-null     float64\n",
      " 33  2016                   73 non-null     float64\n",
      " 34  2020                   73 non-null     float64\n",
      " 35  2024                   73 non-null     float64\n",
      "dtypes: float64(12), int64(4), object(20)\n",
      "memory usage: 20.7+ KB\n",
      "None\n"
     ]
    }
   ],
   "source": [
    "print(athletes.info())\n",
    "print(hosts.info())\n",
    "print(medals.info())\n",
    "print(programs.info())"
   ],
   "metadata": {
    "collapsed": false,
    "ExecuteTime": {
     "end_time": "2025-01-25T08:58:23.747454400Z",
     "start_time": "2025-01-25T08:58:23.699327900Z"
    }
   },
   "id": "63eb974a3e9cd87"
  },
  {
   "cell_type": "markdown",
   "source": [
    "## 画地图"
   ],
   "metadata": {
    "collapsed": false
   },
   "id": "8a8528a2c523003d"
  },
  {
   "cell_type": "code",
   "execution_count": 3,
   "outputs": [],
   "source": [
    "averages = medals.groupby('NOC')[['Gold', 'Silver', 'Bronze', 'Total']].mean().round(0).astype(int).reset_index()\n",
    "averages[\"Country\"] = averages[\"NOC\"]"
   ],
   "metadata": {
    "collapsed": false,
    "ExecuteTime": {
     "end_time": "2025-01-27T09:00:29.701484100Z",
     "start_time": "2025-01-27T09:00:29.674761200Z"
    }
   },
   "id": "6755ed645544955"
  },
  {
   "cell_type": "code",
   "execution_count": 11,
   "outputs": [
    {
     "data": {
      "application/vnd.plotly.v1+json": {
       "data": [
        {
         "coloraxis": "coloraxis",
         "customdata": [
          [
           0,
           0,
           1
          ],
          [
           0,
           0,
           2
          ],
          [
           1,
           0,
           1
          ],
          [
           1,
           1,
           2
          ],
          [
           2,
           1,
           0
          ],
          [
           0,
           2,
           1
          ],
          [
           2,
           2,
           2
          ],
          [
           7,
           7,
           8
          ],
          [
           6,
           4,
           4
          ],
          [
           1,
           1,
           2
          ],
          [
           1,
           1,
           2
          ],
          [
           1,
           2,
           4
          ],
          [
           1,
           0,
           1
          ],
          [
           1,
           1,
           0
          ],
          [
           0,
           0,
           1
          ],
          [
           2,
           4,
           6
          ],
          [
           2,
           2,
           2
          ],
          [
           0,
           1,
           2
          ],
          [
           0,
           0,
           0
          ],
          [
           0,
           1,
           0
          ],
          [
           2,
           2,
           4
          ],
          [
           0,
           0,
           2
          ],
          [
           0,
           0,
           2
          ],
          [
           3,
           5,
           5
          ],
          [
           1,
           3,
           3
          ],
          [
           0,
           0,
           1
          ],
          [
           0,
           0,
           0
          ],
          [
           0,
           0,
           1
          ],
          [
           0,
           0,
           0
          ],
          [
           3,
           4,
           6
          ],
          [
           1,
           3,
           4
          ],
          [
           0,
           1,
           0
          ],
          [
           0,
           1,
           0
          ],
          [
           28,
           21,
           18
          ],
          [
           1,
           1,
           2
          ],
          [
           0,
           1,
           2
          ],
          [
           0,
           0,
           1
          ],
          [
           2,
           2,
           2
          ],
          [
           5,
           4,
           5
          ],
          [
           0,
           1,
           0
          ],
          [
           3,
           3,
           3
          ],
          [
           2,
           2,
           2
          ],
          [
           2,
           3,
           3
          ],
          [
           1,
           4,
           2
          ],
          [
           0,
           0,
           1
          ],
          [
           1,
           0,
           0
          ],
          [
           1,
           1,
           1
          ],
          [
           1,
           1,
           0
          ],
          [
           1,
           1,
           2
          ],
          [
           0,
           1,
           1
          ],
          [
           0,
           0,
           1
          ],
          [
           1,
           1,
           2
          ],
          [
           2,
           1,
           2
          ],
          [
           1,
           0,
           0
          ],
          [
           1,
           1,
           2
          ],
          [
           1,
           0,
           0
          ],
          [
           4,
           3,
           4
          ],
          [
           3,
           4,
           8
          ],
          [
           0,
           1,
           0
          ],
          [
           8,
           10,
           10
          ],
          [
           0,
           2,
           3
          ],
          [
           0,
           1,
           0
          ],
          [
           2,
           2,
           2
          ],
          [
           15,
           15,
           17
          ],
          [
           5,
           12,
           7
          ],
          [
           0,
           0,
           1
          ],
          [
           0,
           1,
           0
          ],
          [
           10,
           11,
           11
          ],
          [
           2,
           2,
           2
          ],
          [
           1,
           0,
           0
          ],
          [
           0,
           0,
           1
          ],
          [
           0,
           0,
           0
          ],
          [
           0,
           0,
           1
          ],
          [
           0,
           0,
           0
          ],
          [
           1,
           1,
           1
          ],
          [
           7,
           6,
           7
          ],
          [
           6,
           6,
           6
          ],
          [
           0,
           0,
           0
          ],
          [
           1,
           0,
           1
          ],
          [
           0,
           1,
           2
          ],
          [
           0,
           0,
           1
          ],
          [
           0,
           0,
           0
          ],
          [
           1,
           1,
           2
          ],
          [
           2,
           2,
           2
          ],
          [
           0,
           1,
           3
          ],
          [
           0,
           0,
           1
          ],
          [
           1,
           1,
           1
          ],
          [
           2,
           0,
           0
          ],
          [
           0,
           1,
           1
          ],
          [
           8,
           7,
           8
          ],
          [
           13,
           10,
           13
          ],
          [
           0,
           0,
           1
          ],
          [
           2,
           2,
           2
          ],
          [
           8,
           7,
           8
          ],
          [
           4,
           7,
           7
          ],
          [
           0,
           1,
           0
          ],
          [
           2,
           3,
           5
          ],
          [
           3,
           3,
           3
          ],
          [
           1,
           0,
           0
          ],
          [
           0,
           0,
           1
          ],
          [
           0,
           1,
           2
          ],
          [
           0,
           1,
           1
          ],
          [
           0,
           1,
           0
          ],
          [
           0,
           1,
           1
          ],
          [
           1,
           1,
           2
          ],
          [
           1,
           0,
           0
          ],
          [
           0,
           0,
           1
          ],
          [
           0,
           1,
           1
          ],
          [
           0,
           0,
           1
          ],
          [
           1,
           1,
           2
          ],
          [
           0,
           1,
           0
          ],
          [
           4,
           2,
           3
          ],
          [
           0,
           1,
           1
          ],
          [
           0,
           1,
           1
          ],
          [
           0,
           1,
           0
          ],
          [
           1,
           0,
           1
          ],
          [
           0,
           1,
           0
          ],
          [
           0,
           0,
           0
          ],
          [
           0,
           2,
           0
          ],
          [
           4,
           4,
           5
          ],
          [
           1,
           3,
           2
          ],
          [
           3,
           2,
           3
          ],
          [
           1,
           0,
           0
          ],
          [
           0,
           0,
           0
          ],
          [
           0,
           1,
           1
          ],
          [
           1,
           2,
           2
          ],
          [
           0,
           1,
           0
          ],
          [
           3,
           2,
           2
          ],
          [
           1,
           0,
           0
          ],
          [
           0,
           0,
           0
          ],
          [
           1,
           0,
           1
          ],
          [
           0,
           0,
           1
          ],
          [
           0,
           1,
           0
          ],
          [
           0,
           1,
           0
          ],
          [
           0,
           1,
           1
          ],
          [
           0,
           0,
           3
          ],
          [
           3,
           4,
           6
          ],
          [
           4,
           4,
           8
          ],
          [
           0,
           1,
           1
          ],
          [
           0,
           1,
           0
          ],
          [
           0,
           0,
           1
          ],
          [
           0,
           0,
           1
          ],
          [
           20,
           28,
           23
          ],
          [
           0,
           0,
           1
          ],
          [
           4,
           5,
           6
          ],
          [
           3,
           1,
           6
          ],
          [
           32,
           27,
           26
          ],
          [
           1,
           1,
           0
          ],
          [
           0,
           1,
           0
          ],
          [
           0,
           1,
           2
          ],
          [
           0,
           1,
           1
          ],
          [
           0,
           1,
           0
          ],
          [
           2,
           2,
           2
          ],
          [
           0,
           0,
           1
          ],
          [
           0,
           1,
           0
          ],
          [
           1,
           2,
           1
          ],
          [
           1,
           1,
           1
          ],
          [
           1,
           2,
           1
          ],
          [
           1,
           0,
           2
          ],
          [
           6,
           6,
           6
          ],
          [
           43,
           29,
           31
          ],
          [
           3,
           4,
           3
          ],
          [
           0,
           0,
           1
          ],
          [
           0,
           1,
           0
          ],
          [
           0,
           1,
           0
          ],
          [
           0,
           0,
           0
          ],
          [
           6,
           7,
           7
          ],
          [
           1,
           2,
           3
          ],
          [
           2,
           3,
           3
          ],
          [
           0,
           2,
           2
          ],
          [
           0,
           0,
           0
          ],
          [
           0,
           0,
           1
          ],
          [
           0,
           0,
           1
          ],
          [
           0,
           2,
           0
          ],
          [
           1,
           1,
           2
          ],
          [
           0,
           0,
           1
          ],
          [
           0,
           1,
           0
          ],
          [
           0,
           0,
           1
          ],
          [
           1,
           0,
           1
          ],
          [
           2,
           2,
           2
          ],
          [
           7,
           2,
           0
          ],
          [
           0,
           1,
           0
          ],
          [
           1,
           1,
           0
          ],
          [
           5,
           5,
           9
          ],
          [
           0,
           0,
           0
          ],
          [
           37,
           30,
           26
          ],
          [
           34,
           21,
           16
          ],
          [
           12,
           19,
           11
          ],
          [
           0,
           0,
           1
          ],
          [
           0,
           0,
           1
          ],
          [
           2,
           1,
           3
          ],
          [
           0,
           1,
           1
          ],
          [
           0,
           0,
           1
          ],
          [
           0,
           1,
           0
          ],
          [
           1,
           1,
           0
          ],
          [
           0,
           0,
           1
          ],
          [
           1,
           1,
           0
          ]
         ],
         "geo": "geo",
         "hovertemplate": "<b>%{hovertext}</b><br><br>Country=%{location}<br>Gold=%{customdata[0]}<br>Silver=%{customdata[1]}<br>Bronze=%{customdata[2]}<br>Average Medals=%{z}<extra></extra>",
         "hovertext": [
          "Afghanistan",
          "Albania",
          "Algeria",
          "Argentina",
          "Argentina?",
          "Armenia",
          "Australasia",
          "Australia",
          "Australia?",
          "Austria",
          "Austria?",
          "Azerbaijan",
          "Bahamas",
          "Bahrain",
          "Barbados",
          "Belarus",
          "Belgium",
          "Belgium?",
          "Bermuda",
          "Botswana",
          "Brazil",
          "Brazil?",
          "British West Indies?",
          "Bulgaria",
          "Bulgaria?",
          "Burkina Faso",
          "Burundi",
          "Cabo Verde",
          "Cameroon",
          "Canada",
          "Canada?",
          "Ceylon",
          "Chile",
          "China",
          "Chinese Taipei",
          "Colombia",
          "Costa Rica",
          "Croatia",
          "Cuba",
          "Cyprus",
          "Czech Republic",
          "Czechoslovakia?",
          "Denmark",
          "Denmark?",
          "Djibouti",
          "Dominica",
          "Dominican Republic",
          "Ecuador",
          "Egypt",
          "Egypt?",
          "Eritrea",
          "Estonia",
          "Ethiopia",
          "Ethiopia?",
          "FR Yugoslavia",
          "Fiji",
          "Finland",
          "Finland?",
          "Formosa?",
          "France",
          "France?",
          "Gabon",
          "Georgia",
          "Germany",
          "Germany?",
          "Ghana",
          "Ghana?",
          "Great Britain",
          "Greece",
          "Greece?",
          "Grenada",
          "Guatemala",
          "Guyana",
          "Haiti",
          "Hong Kong",
          "Hungary",
          "Hungary?",
          "Iceland",
          "Independent Olympic Athletes",
          "Independent Olympic Participants",
          "India",
          "India?",
          "Indonesia",
          "Iran",
          "Iran?",
          "Iraq?",
          "Ireland",
          "Ireland?",
          "Israel",
          "Italy",
          "Italy?",
          "Ivory Coast",
          "Jamaica",
          "Japan",
          "Japan?",
          "Jordan",
          "Kazakhstan",
          "Kenya",
          "Kosovo",
          "Kuwait",
          "Kyrgyzstan",
          "Latvia",
          "Latvia?",
          "Lebanon",
          "Lithuania",
          "Luxembourg",
          "Macedonia",
          "Malaysia",
          "Mauritius",
          "Mexico",
          "Mexico?",
          "Mixed team",
          "Moldova",
          "Mongolia",
          "Montenegro",
          "Morocco",
          "Morocco?",
          "Mozambique",
          "Namibia",
          "Netherlands",
          "Netherlands?",
          "New Zealand",
          "New Zealand?",
          "Niger",
          "Nigeria",
          "North Korea",
          "North Macedonia",
          "Norway",
          "Norway?",
          "Pakistan",
          "Pakistan?",
          "Panama",
          "Paraguay",
          "Peru",
          "Philippines",
          "Philippines?",
          "Poland",
          "Poland?",
          "Portugal",
          "Portugal?",
          "Puerto Rico",
          "Qatar",
          "ROC",
          "Refugee Olympic Team",
          "Romania",
          "Romania?",
          "Russia",
          "Saint Lucia",
          "Samoa",
          "San Marino",
          "Saudi Arabia",
          "Senegal",
          "Serbia",
          "Singapore",
          "Singapore?",
          "Slovakia",
          "Slovenia",
          "South Africa",
          "South Africa?",
          "South Korea",
          "Soviet Union?",
          "Spain",
          "Spain?",
          "Sri Lanka",
          "Sudan",
          "Suriname",
          "Sweden",
          "Sweden?",
          "Switzerland",
          "Switzerland?",
          "Syria",
          "Taiwan",
          "Tajikistan",
          "Tanzania",
          "Thailand",
          "Togo",
          "Tonga",
          "Trinidad and Tobago",
          "Tunisia",
          "Turkey",
          "Turkey?",
          "Turkmenistan",
          "Uganda",
          "Ukraine",
          "United Arab Emirates",
          "United States",
          "United States?",
          "United Team of Germany?",
          "Uruguay",
          "Uruguay?",
          "Uzbekistan",
          "Venezuela",
          "Venezuela?",
          "Vietnam",
          "Yugoslavia?",
          "Zambia",
          "Zimbabwe"
         ],
         "locationmode": "country names",
         "locations": [
          "Afghanistan",
          "Albania",
          "Algeria",
          "Argentina",
          "Argentina?",
          "Armenia",
          "Australasia",
          "Australia",
          "Australia?",
          "Austria",
          "Austria?",
          "Azerbaijan",
          "Bahamas",
          "Bahrain",
          "Barbados",
          "Belarus",
          "Belgium",
          "Belgium?",
          "Bermuda",
          "Botswana",
          "Brazil",
          "Brazil?",
          "British West Indies?",
          "Bulgaria",
          "Bulgaria?",
          "Burkina Faso",
          "Burundi",
          "Cabo Verde",
          "Cameroon",
          "Canada",
          "Canada?",
          "Ceylon",
          "Chile",
          "China",
          "Chinese Taipei",
          "Colombia",
          "Costa Rica",
          "Croatia",
          "Cuba",
          "Cyprus",
          "Czech Republic",
          "Czechoslovakia?",
          "Denmark",
          "Denmark?",
          "Djibouti",
          "Dominica",
          "Dominican Republic",
          "Ecuador",
          "Egypt",
          "Egypt?",
          "Eritrea",
          "Estonia",
          "Ethiopia",
          "Ethiopia?",
          "FR Yugoslavia",
          "Fiji",
          "Finland",
          "Finland?",
          "Formosa?",
          "France",
          "France?",
          "Gabon",
          "Georgia",
          "Germany",
          "Germany?",
          "Ghana",
          "Ghana?",
          "Great Britain",
          "Greece",
          "Greece?",
          "Grenada",
          "Guatemala",
          "Guyana",
          "Haiti",
          "Hong Kong",
          "Hungary",
          "Hungary?",
          "Iceland",
          "Independent Olympic Athletes",
          "Independent Olympic Participants",
          "India",
          "India?",
          "Indonesia",
          "Iran",
          "Iran?",
          "Iraq?",
          "Ireland",
          "Ireland?",
          "Israel",
          "Italy",
          "Italy?",
          "Ivory Coast",
          "Jamaica",
          "Japan",
          "Japan?",
          "Jordan",
          "Kazakhstan",
          "Kenya",
          "Kosovo",
          "Kuwait",
          "Kyrgyzstan",
          "Latvia",
          "Latvia?",
          "Lebanon",
          "Lithuania",
          "Luxembourg",
          "Macedonia",
          "Malaysia",
          "Mauritius",
          "Mexico",
          "Mexico?",
          "Mixed team",
          "Moldova",
          "Mongolia",
          "Montenegro",
          "Morocco",
          "Morocco?",
          "Mozambique",
          "Namibia",
          "Netherlands",
          "Netherlands?",
          "New Zealand",
          "New Zealand?",
          "Niger",
          "Nigeria",
          "North Korea",
          "North Macedonia",
          "Norway",
          "Norway?",
          "Pakistan",
          "Pakistan?",
          "Panama",
          "Paraguay",
          "Peru",
          "Philippines",
          "Philippines?",
          "Poland",
          "Poland?",
          "Portugal",
          "Portugal?",
          "Puerto Rico",
          "Qatar",
          "ROC",
          "Refugee Olympic Team",
          "Romania",
          "Romania?",
          "Russia",
          "Saint Lucia",
          "Samoa",
          "San Marino",
          "Saudi Arabia",
          "Senegal",
          "Serbia",
          "Singapore",
          "Singapore?",
          "Slovakia",
          "Slovenia",
          "South Africa",
          "South Africa?",
          "South Korea",
          "Soviet Union?",
          "Spain",
          "Spain?",
          "Sri Lanka",
          "Sudan",
          "Suriname",
          "Sweden",
          "Sweden?",
          "Switzerland",
          "Switzerland?",
          "Syria",
          "Taiwan",
          "Tajikistan",
          "Tanzania",
          "Thailand",
          "Togo",
          "Tonga",
          "Trinidad and Tobago",
          "Tunisia",
          "Turkey",
          "Turkey?",
          "Turkmenistan",
          "Uganda",
          "Ukraine",
          "United Arab Emirates",
          "United States",
          "United States?",
          "United Team of Germany?",
          "Uruguay",
          "Uruguay?",
          "Uzbekistan",
          "Venezuela",
          "Venezuela?",
          "Vietnam",
          "Yugoslavia?",
          "Zambia",
          "Zimbabwe"
         ],
         "name": "",
         "z": [
          1,
          2,
          2,
          4,
          3,
          3,
          6,
          22,
          14,
          4,
          4,
          7,
          2,
          2,
          1,
          12,
          6,
          2,
          1,
          1,
          8,
          2,
          2,
          13,
          7,
          1,
          1,
          1,
          1,
          13,
          8,
          1,
          2,
          66,
          4,
          3,
          1,
          5,
          14,
          1,
          9,
          7,
          7,
          7,
          1,
          1,
          2,
          2,
          4,
          2,
          1,
          3,
          5,
          1,
          4,
          1,
          12,
          15,
          1,
          28,
          5,
          1,
          6,
          47,
          24,
          1,
          1,
          33,
          6,
          1,
          1,
          2,
          1,
          1,
          3,
          19,
          18,
          1,
          2,
          3,
          2,
          1,
          4,
          5,
          4,
          1,
          3,
          2,
          2,
          23,
          36,
          1,
          6,
          24,
          18,
          1,
          10,
          9,
          2,
          1,
          3,
          2,
          1,
          1,
          3,
          1,
          1,
          2,
          1,
          4,
          2,
          8,
          2,
          2,
          1,
          2,
          1,
          1,
          2,
          13,
          6,
          7,
          2,
          1,
          3,
          5,
          1,
          7,
          1,
          1,
          2,
          1,
          1,
          1,
          2,
          3,
          13,
          15,
          2,
          1,
          1,
          2,
          71,
          1,
          15,
          10,
          85,
          2,
          1,
          3,
          1,
          1,
          6,
          1,
          1,
          4,
          3,
          5,
          4,
          18,
          103,
          10,
          1,
          1,
          1,
          1,
          19,
          6,
          8,
          4,
          1,
          1,
          2,
          2,
          3,
          1,
          1,
          2,
          2,
          6,
          9,
          1,
          2,
          19,
          1,
          93,
          71,
          42,
          1,
          1,
          6,
          2,
          1,
          1,
          2,
          1,
          3
         ],
         "type": "choropleth"
        }
       ],
       "layout": {
        "template": {
         "data": {
          "histogram2dcontour": [
           {
            "type": "histogram2dcontour",
            "colorbar": {
             "outlinewidth": 0,
             "ticks": ""
            },
            "colorscale": [
             [
              0.0,
              "#0d0887"
             ],
             [
              0.1111111111111111,
              "#46039f"
             ],
             [
              0.2222222222222222,
              "#7201a8"
             ],
             [
              0.3333333333333333,
              "#9c179e"
             ],
             [
              0.4444444444444444,
              "#bd3786"
             ],
             [
              0.5555555555555556,
              "#d8576b"
             ],
             [
              0.6666666666666666,
              "#ed7953"
             ],
             [
              0.7777777777777778,
              "#fb9f3a"
             ],
             [
              0.8888888888888888,
              "#fdca26"
             ],
             [
              1.0,
              "#f0f921"
             ]
            ]
           }
          ],
          "choropleth": [
           {
            "type": "choropleth",
            "colorbar": {
             "outlinewidth": 0,
             "ticks": ""
            }
           }
          ],
          "histogram2d": [
           {
            "type": "histogram2d",
            "colorbar": {
             "outlinewidth": 0,
             "ticks": ""
            },
            "colorscale": [
             [
              0.0,
              "#0d0887"
             ],
             [
              0.1111111111111111,
              "#46039f"
             ],
             [
              0.2222222222222222,
              "#7201a8"
             ],
             [
              0.3333333333333333,
              "#9c179e"
             ],
             [
              0.4444444444444444,
              "#bd3786"
             ],
             [
              0.5555555555555556,
              "#d8576b"
             ],
             [
              0.6666666666666666,
              "#ed7953"
             ],
             [
              0.7777777777777778,
              "#fb9f3a"
             ],
             [
              0.8888888888888888,
              "#fdca26"
             ],
             [
              1.0,
              "#f0f921"
             ]
            ]
           }
          ],
          "heatmap": [
           {
            "type": "heatmap",
            "colorbar": {
             "outlinewidth": 0,
             "ticks": ""
            },
            "colorscale": [
             [
              0.0,
              "#0d0887"
             ],
             [
              0.1111111111111111,
              "#46039f"
             ],
             [
              0.2222222222222222,
              "#7201a8"
             ],
             [
              0.3333333333333333,
              "#9c179e"
             ],
             [
              0.4444444444444444,
              "#bd3786"
             ],
             [
              0.5555555555555556,
              "#d8576b"
             ],
             [
              0.6666666666666666,
              "#ed7953"
             ],
             [
              0.7777777777777778,
              "#fb9f3a"
             ],
             [
              0.8888888888888888,
              "#fdca26"
             ],
             [
              1.0,
              "#f0f921"
             ]
            ]
           }
          ],
          "heatmapgl": [
           {
            "type": "heatmapgl",
            "colorbar": {
             "outlinewidth": 0,
             "ticks": ""
            },
            "colorscale": [
             [
              0.0,
              "#0d0887"
             ],
             [
              0.1111111111111111,
              "#46039f"
             ],
             [
              0.2222222222222222,
              "#7201a8"
             ],
             [
              0.3333333333333333,
              "#9c179e"
             ],
             [
              0.4444444444444444,
              "#bd3786"
             ],
             [
              0.5555555555555556,
              "#d8576b"
             ],
             [
              0.6666666666666666,
              "#ed7953"
             ],
             [
              0.7777777777777778,
              "#fb9f3a"
             ],
             [
              0.8888888888888888,
              "#fdca26"
             ],
             [
              1.0,
              "#f0f921"
             ]
            ]
           }
          ],
          "contourcarpet": [
           {
            "type": "contourcarpet",
            "colorbar": {
             "outlinewidth": 0,
             "ticks": ""
            }
           }
          ],
          "contour": [
           {
            "type": "contour",
            "colorbar": {
             "outlinewidth": 0,
             "ticks": ""
            },
            "colorscale": [
             [
              0.0,
              "#0d0887"
             ],
             [
              0.1111111111111111,
              "#46039f"
             ],
             [
              0.2222222222222222,
              "#7201a8"
             ],
             [
              0.3333333333333333,
              "#9c179e"
             ],
             [
              0.4444444444444444,
              "#bd3786"
             ],
             [
              0.5555555555555556,
              "#d8576b"
             ],
             [
              0.6666666666666666,
              "#ed7953"
             ],
             [
              0.7777777777777778,
              "#fb9f3a"
             ],
             [
              0.8888888888888888,
              "#fdca26"
             ],
             [
              1.0,
              "#f0f921"
             ]
            ]
           }
          ],
          "surface": [
           {
            "type": "surface",
            "colorbar": {
             "outlinewidth": 0,
             "ticks": ""
            },
            "colorscale": [
             [
              0.0,
              "#0d0887"
             ],
             [
              0.1111111111111111,
              "#46039f"
             ],
             [
              0.2222222222222222,
              "#7201a8"
             ],
             [
              0.3333333333333333,
              "#9c179e"
             ],
             [
              0.4444444444444444,
              "#bd3786"
             ],
             [
              0.5555555555555556,
              "#d8576b"
             ],
             [
              0.6666666666666666,
              "#ed7953"
             ],
             [
              0.7777777777777778,
              "#fb9f3a"
             ],
             [
              0.8888888888888888,
              "#fdca26"
             ],
             [
              1.0,
              "#f0f921"
             ]
            ]
           }
          ],
          "mesh3d": [
           {
            "type": "mesh3d",
            "colorbar": {
             "outlinewidth": 0,
             "ticks": ""
            }
           }
          ],
          "scatter": [
           {
            "marker": {
             "line": {
              "color": "#283442"
             }
            },
            "type": "scatter"
           }
          ],
          "parcoords": [
           {
            "type": "parcoords",
            "line": {
             "colorbar": {
              "outlinewidth": 0,
              "ticks": ""
             }
            }
           }
          ],
          "scatterpolargl": [
           {
            "type": "scatterpolargl",
            "marker": {
             "colorbar": {
              "outlinewidth": 0,
              "ticks": ""
             }
            }
           }
          ],
          "bar": [
           {
            "error_x": {
             "color": "#f2f5fa"
            },
            "error_y": {
             "color": "#f2f5fa"
            },
            "marker": {
             "line": {
              "color": "rgb(17,17,17)",
              "width": 0.5
             },
             "pattern": {
              "fillmode": "overlay",
              "size": 10,
              "solidity": 0.2
             }
            },
            "type": "bar"
           }
          ],
          "scattergeo": [
           {
            "type": "scattergeo",
            "marker": {
             "colorbar": {
              "outlinewidth": 0,
              "ticks": ""
             }
            }
           }
          ],
          "scatterpolar": [
           {
            "type": "scatterpolar",
            "marker": {
             "colorbar": {
              "outlinewidth": 0,
              "ticks": ""
             }
            }
           }
          ],
          "histogram": [
           {
            "marker": {
             "pattern": {
              "fillmode": "overlay",
              "size": 10,
              "solidity": 0.2
             }
            },
            "type": "histogram"
           }
          ],
          "scattergl": [
           {
            "marker": {
             "line": {
              "color": "#283442"
             }
            },
            "type": "scattergl"
           }
          ],
          "scatter3d": [
           {
            "type": "scatter3d",
            "line": {
             "colorbar": {
              "outlinewidth": 0,
              "ticks": ""
             }
            },
            "marker": {
             "colorbar": {
              "outlinewidth": 0,
              "ticks": ""
             }
            }
           }
          ],
          "scattermapbox": [
           {
            "type": "scattermapbox",
            "marker": {
             "colorbar": {
              "outlinewidth": 0,
              "ticks": ""
             }
            }
           }
          ],
          "scatterternary": [
           {
            "type": "scatterternary",
            "marker": {
             "colorbar": {
              "outlinewidth": 0,
              "ticks": ""
             }
            }
           }
          ],
          "scattercarpet": [
           {
            "type": "scattercarpet",
            "marker": {
             "colorbar": {
              "outlinewidth": 0,
              "ticks": ""
             }
            }
           }
          ],
          "carpet": [
           {
            "aaxis": {
             "endlinecolor": "#A2B1C6",
             "gridcolor": "#506784",
             "linecolor": "#506784",
             "minorgridcolor": "#506784",
             "startlinecolor": "#A2B1C6"
            },
            "baxis": {
             "endlinecolor": "#A2B1C6",
             "gridcolor": "#506784",
             "linecolor": "#506784",
             "minorgridcolor": "#506784",
             "startlinecolor": "#A2B1C6"
            },
            "type": "carpet"
           }
          ],
          "table": [
           {
            "cells": {
             "fill": {
              "color": "#506784"
             },
             "line": {
              "color": "rgb(17,17,17)"
             }
            },
            "header": {
             "fill": {
              "color": "#2a3f5f"
             },
             "line": {
              "color": "rgb(17,17,17)"
             }
            },
            "type": "table"
           }
          ],
          "barpolar": [
           {
            "marker": {
             "line": {
              "color": "rgb(17,17,17)",
              "width": 0.5
             },
             "pattern": {
              "fillmode": "overlay",
              "size": 10,
              "solidity": 0.2
             }
            },
            "type": "barpolar"
           }
          ],
          "pie": [
           {
            "automargin": true,
            "type": "pie"
           }
          ]
         },
         "layout": {
          "autotypenumbers": "strict",
          "colorway": [
           "#636efa",
           "#EF553B",
           "#00cc96",
           "#ab63fa",
           "#FFA15A",
           "#19d3f3",
           "#FF6692",
           "#B6E880",
           "#FF97FF",
           "#FECB52"
          ],
          "font": {
           "color": "#f2f5fa"
          },
          "hovermode": "closest",
          "hoverlabel": {
           "align": "left"
          },
          "paper_bgcolor": "rgb(17,17,17)",
          "plot_bgcolor": "rgb(17,17,17)",
          "polar": {
           "bgcolor": "rgb(17,17,17)",
           "angularaxis": {
            "gridcolor": "#506784",
            "linecolor": "#506784",
            "ticks": ""
           },
           "radialaxis": {
            "gridcolor": "#506784",
            "linecolor": "#506784",
            "ticks": ""
           }
          },
          "ternary": {
           "bgcolor": "rgb(17,17,17)",
           "aaxis": {
            "gridcolor": "#506784",
            "linecolor": "#506784",
            "ticks": ""
           },
           "baxis": {
            "gridcolor": "#506784",
            "linecolor": "#506784",
            "ticks": ""
           },
           "caxis": {
            "gridcolor": "#506784",
            "linecolor": "#506784",
            "ticks": ""
           }
          },
          "coloraxis": {
           "colorbar": {
            "outlinewidth": 0,
            "ticks": ""
           }
          },
          "colorscale": {
           "sequential": [
            [
             0.0,
             "#0d0887"
            ],
            [
             0.1111111111111111,
             "#46039f"
            ],
            [
             0.2222222222222222,
             "#7201a8"
            ],
            [
             0.3333333333333333,
             "#9c179e"
            ],
            [
             0.4444444444444444,
             "#bd3786"
            ],
            [
             0.5555555555555556,
             "#d8576b"
            ],
            [
             0.6666666666666666,
             "#ed7953"
            ],
            [
             0.7777777777777778,
             "#fb9f3a"
            ],
            [
             0.8888888888888888,
             "#fdca26"
            ],
            [
             1.0,
             "#f0f921"
            ]
           ],
           "sequentialminus": [
            [
             0.0,
             "#0d0887"
            ],
            [
             0.1111111111111111,
             "#46039f"
            ],
            [
             0.2222222222222222,
             "#7201a8"
            ],
            [
             0.3333333333333333,
             "#9c179e"
            ],
            [
             0.4444444444444444,
             "#bd3786"
            ],
            [
             0.5555555555555556,
             "#d8576b"
            ],
            [
             0.6666666666666666,
             "#ed7953"
            ],
            [
             0.7777777777777778,
             "#fb9f3a"
            ],
            [
             0.8888888888888888,
             "#fdca26"
            ],
            [
             1.0,
             "#f0f921"
            ]
           ],
           "diverging": [
            [
             0,
             "#8e0152"
            ],
            [
             0.1,
             "#c51b7d"
            ],
            [
             0.2,
             "#de77ae"
            ],
            [
             0.3,
             "#f1b6da"
            ],
            [
             0.4,
             "#fde0ef"
            ],
            [
             0.5,
             "#f7f7f7"
            ],
            [
             0.6,
             "#e6f5d0"
            ],
            [
             0.7,
             "#b8e186"
            ],
            [
             0.8,
             "#7fbc41"
            ],
            [
             0.9,
             "#4d9221"
            ],
            [
             1,
             "#276419"
            ]
           ]
          },
          "xaxis": {
           "gridcolor": "#283442",
           "linecolor": "#506784",
           "ticks": "",
           "title": {
            "standoff": 15
           },
           "zerolinecolor": "#283442",
           "automargin": true,
           "zerolinewidth": 2
          },
          "yaxis": {
           "gridcolor": "#283442",
           "linecolor": "#506784",
           "ticks": "",
           "title": {
            "standoff": 15
           },
           "zerolinecolor": "#283442",
           "automargin": true,
           "zerolinewidth": 2
          },
          "scene": {
           "xaxis": {
            "backgroundcolor": "rgb(17,17,17)",
            "gridcolor": "#506784",
            "linecolor": "#506784",
            "showbackground": true,
            "ticks": "",
            "zerolinecolor": "#C8D4E3",
            "gridwidth": 2
           },
           "yaxis": {
            "backgroundcolor": "rgb(17,17,17)",
            "gridcolor": "#506784",
            "linecolor": "#506784",
            "showbackground": true,
            "ticks": "",
            "zerolinecolor": "#C8D4E3",
            "gridwidth": 2
           },
           "zaxis": {
            "backgroundcolor": "rgb(17,17,17)",
            "gridcolor": "#506784",
            "linecolor": "#506784",
            "showbackground": true,
            "ticks": "",
            "zerolinecolor": "#C8D4E3",
            "gridwidth": 2
           }
          },
          "shapedefaults": {
           "line": {
            "color": "#f2f5fa"
           }
          },
          "annotationdefaults": {
           "arrowcolor": "#f2f5fa",
           "arrowhead": 0,
           "arrowwidth": 1
          },
          "geo": {
           "bgcolor": "rgb(17,17,17)",
           "landcolor": "rgb(17,17,17)",
           "subunitcolor": "#506784",
           "showland": true,
           "showlakes": true,
           "lakecolor": "rgb(17,17,17)"
          },
          "title": {
           "x": 0.05
          },
          "updatemenudefaults": {
           "bgcolor": "#506784",
           "borderwidth": 0
          },
          "sliderdefaults": {
           "bgcolor": "#C8D4E3",
           "borderwidth": 1,
           "bordercolor": "rgb(17,17,17)",
           "tickwidth": 0
          },
          "mapbox": {
           "style": "dark"
          }
         }
        },
        "geo": {
         "domain": {
          "x": [
           0.0,
           1.0
          ],
          "y": [
           0.0,
           1.0
          ]
         },
         "center": {},
         "projection": {
          "rotation": {
           "lon": 40
          },
          "type": "natural earth"
         },
         "showcountries": true,
         "showocean": true,
         "oceancolor": "hsl(200, 30%, 95%)",
         "countrywidth": 2,
         "showland": true,
         "landcolor": "hsl(50, 20%, 95%)",
         "bgcolor": "rgba(255,255,255,0.5)",
         "showframe": false,
         "showcoastlines": false
        },
        "coloraxis": {
         "colorbar": {
          "title": {
           "text": "Average Medals",
           "font": {
            "color": "#444444"
           }
          },
          "tickfont": {
           "color": "#666666"
          },
          "thickness": 15,
          "len": 0.6,
          "yanchor": "middle",
          "y": 0.5,
          "x": 0.9
         },
         "colorscale": [
          [
           0.0,
           "hsl(230, 75%, 92%)"
          ],
          [
           0.3883495145631068,
           "hsl(210, 30%, 80%)"
          ],
          [
           0.3983495145631068,
           "hsl(220, 45%, 65%)"
          ],
          [
           1.0,
           "hsl(250, 60%, 45%)"
          ]
         ],
         "cmin": 0,
         "cmax": 103
        },
        "legend": {
         "tracegroupgap": 0
        },
        "margin": {
         "t": 60,
         "r": 0,
         "l": 0,
         "b": 0
        },
        "font": {
         "family": "Time",
         "size": 16,
         "color": "#555555"
        },
        "paper_bgcolor": "rgba(0,0,0,0)",
        "plot_bgcolor": "rgba(0,0,0,0)"
       },
       "config": {
        "plotlyServerURL": "https://plot.ly"
       }
      },
      "text/html": "<div>                            <div id=\"5043887b-d1f2-48ce-a1df-7acbc00b8774\" class=\"plotly-graph-div\" style=\"height:525px; width:100%;\"></div>            <script type=\"text/javascript\">                require([\"plotly\"], function(Plotly) {                    window.PLOTLYENV=window.PLOTLYENV || {};                                    if (document.getElementById(\"5043887b-d1f2-48ce-a1df-7acbc00b8774\")) {                    Plotly.newPlot(                        \"5043887b-d1f2-48ce-a1df-7acbc00b8774\",                        [{\"coloraxis\":\"coloraxis\",\"customdata\":[[0,0,1],[0,0,2],[1,0,1],[1,1,2],[2,1,0],[0,2,1],[2,2,2],[7,7,8],[6,4,4],[1,1,2],[1,1,2],[1,2,4],[1,0,1],[1,1,0],[0,0,1],[2,4,6],[2,2,2],[0,1,2],[0,0,0],[0,1,0],[2,2,4],[0,0,2],[0,0,2],[3,5,5],[1,3,3],[0,0,1],[0,0,0],[0,0,1],[0,0,0],[3,4,6],[1,3,4],[0,1,0],[0,1,0],[28,21,18],[1,1,2],[0,1,2],[0,0,1],[2,2,2],[5,4,5],[0,1,0],[3,3,3],[2,2,2],[2,3,3],[1,4,2],[0,0,1],[1,0,0],[1,1,1],[1,1,0],[1,1,2],[0,1,1],[0,0,1],[1,1,2],[2,1,2],[1,0,0],[1,1,2],[1,0,0],[4,3,4],[3,4,8],[0,1,0],[8,10,10],[0,2,3],[0,1,0],[2,2,2],[15,15,17],[5,12,7],[0,0,1],[0,1,0],[10,11,11],[2,2,2],[1,0,0],[0,0,1],[0,0,0],[0,0,1],[0,0,0],[1,1,1],[7,6,7],[6,6,6],[0,0,0],[1,0,1],[0,1,2],[0,0,1],[0,0,0],[1,1,2],[2,2,2],[0,1,3],[0,0,1],[1,1,1],[2,0,0],[0,1,1],[8,7,8],[13,10,13],[0,0,1],[2,2,2],[8,7,8],[4,7,7],[0,1,0],[2,3,5],[3,3,3],[1,0,0],[0,0,1],[0,1,2],[0,1,1],[0,1,0],[0,1,1],[1,1,2],[1,0,0],[0,0,1],[0,1,1],[0,0,1],[1,1,2],[0,1,0],[4,2,3],[0,1,1],[0,1,1],[0,1,0],[1,0,1],[0,1,0],[0,0,0],[0,2,0],[4,4,5],[1,3,2],[3,2,3],[1,0,0],[0,0,0],[0,1,1],[1,2,2],[0,1,0],[3,2,2],[1,0,0],[0,0,0],[1,0,1],[0,0,1],[0,1,0],[0,1,0],[0,1,1],[0,0,3],[3,4,6],[4,4,8],[0,1,1],[0,1,0],[0,0,1],[0,0,1],[20,28,23],[0,0,1],[4,5,6],[3,1,6],[32,27,26],[1,1,0],[0,1,0],[0,1,2],[0,1,1],[0,1,0],[2,2,2],[0,0,1],[0,1,0],[1,2,1],[1,1,1],[1,2,1],[1,0,2],[6,6,6],[43,29,31],[3,4,3],[0,0,1],[0,1,0],[0,1,0],[0,0,0],[6,7,7],[1,2,3],[2,3,3],[0,2,2],[0,0,0],[0,0,1],[0,0,1],[0,2,0],[1,1,2],[0,0,1],[0,1,0],[0,0,1],[1,0,1],[2,2,2],[7,2,0],[0,1,0],[1,1,0],[5,5,9],[0,0,0],[37,30,26],[34,21,16],[12,19,11],[0,0,1],[0,0,1],[2,1,3],[0,1,1],[0,0,1],[0,1,0],[1,1,0],[0,0,1],[1,1,0]],\"geo\":\"geo\",\"hovertemplate\":\"<b>%{hovertext}</b><br><br>Country=%{location}<br>Gold=%{customdata[0]}<br>Silver=%{customdata[1]}<br>Bronze=%{customdata[2]}<br>Average Medals=%{z}<extra></extra>\",\"hovertext\":[\"Afghanistan\",\"Albania\",\"Algeria\",\"Argentina\",\"Argentina?\",\"Armenia\",\"Australasia\",\"Australia\",\"Australia?\",\"Austria\",\"Austria?\",\"Azerbaijan\",\"Bahamas\",\"Bahrain\",\"Barbados\",\"Belarus\",\"Belgium\",\"Belgium?\",\"Bermuda\",\"Botswana\",\"Brazil\",\"Brazil?\",\"British West Indies?\",\"Bulgaria\",\"Bulgaria?\",\"Burkina Faso\",\"Burundi\",\"Cabo Verde\",\"Cameroon\",\"Canada\",\"Canada?\",\"Ceylon\",\"Chile\",\"China\",\"Chinese Taipei\",\"Colombia\",\"Costa Rica\",\"Croatia\",\"Cuba\",\"Cyprus\",\"Czech Republic\",\"Czechoslovakia?\",\"Denmark\",\"Denmark?\",\"Djibouti\",\"Dominica\",\"Dominican Republic\",\"Ecuador\",\"Egypt\",\"Egypt?\",\"Eritrea\",\"Estonia\",\"Ethiopia\",\"Ethiopia?\",\"FR Yugoslavia\",\"Fiji\",\"Finland\",\"Finland?\",\"Formosa?\",\"France\",\"France?\",\"Gabon\",\"Georgia\",\"Germany\",\"Germany?\",\"Ghana\",\"Ghana?\",\"Great Britain\",\"Greece\",\"Greece?\",\"Grenada\",\"Guatemala\",\"Guyana\",\"Haiti\",\"Hong Kong\",\"Hungary\",\"Hungary?\",\"Iceland\",\"Independent Olympic Athletes\",\"Independent Olympic Participants\",\"India\",\"India?\",\"Indonesia\",\"Iran\",\"Iran?\",\"Iraq?\",\"Ireland\",\"Ireland?\",\"Israel\",\"Italy\",\"Italy?\",\"Ivory Coast\",\"Jamaica\",\"Japan\",\"Japan?\",\"Jordan\",\"Kazakhstan\",\"Kenya\",\"Kosovo\",\"Kuwait\",\"Kyrgyzstan\",\"Latvia\",\"Latvia?\",\"Lebanon\",\"Lithuania\",\"Luxembourg\",\"Macedonia\",\"Malaysia\",\"Mauritius\",\"Mexico\",\"Mexico?\",\"Mixed team\",\"Moldova\",\"Mongolia\",\"Montenegro\",\"Morocco\",\"Morocco?\",\"Mozambique\",\"Namibia\",\"Netherlands\",\"Netherlands?\",\"New Zealand\",\"New Zealand?\",\"Niger\",\"Nigeria\",\"North Korea\",\"North Macedonia\",\"Norway\",\"Norway?\",\"Pakistan\",\"Pakistan?\",\"Panama\",\"Paraguay\",\"Peru\",\"Philippines\",\"Philippines?\",\"Poland\",\"Poland?\",\"Portugal\",\"Portugal?\",\"Puerto Rico\",\"Qatar\",\"ROC\",\"Refugee Olympic Team\",\"Romania\",\"Romania?\",\"Russia\",\"Saint Lucia\",\"Samoa\",\"San Marino\",\"Saudi Arabia\",\"Senegal\",\"Serbia\",\"Singapore\",\"Singapore?\",\"Slovakia\",\"Slovenia\",\"South Africa\",\"South Africa?\",\"South Korea\",\"Soviet Union?\",\"Spain\",\"Spain?\",\"Sri Lanka\",\"Sudan\",\"Suriname\",\"Sweden\",\"Sweden?\",\"Switzerland\",\"Switzerland?\",\"Syria\",\"Taiwan\",\"Tajikistan\",\"Tanzania\",\"Thailand\",\"Togo\",\"Tonga\",\"Trinidad and Tobago\",\"Tunisia\",\"Turkey\",\"Turkey?\",\"Turkmenistan\",\"Uganda\",\"Ukraine\",\"United Arab Emirates\",\"United States\",\"United States?\",\"United Team of Germany?\",\"Uruguay\",\"Uruguay?\",\"Uzbekistan\",\"Venezuela\",\"Venezuela?\",\"Vietnam\",\"Yugoslavia?\",\"Zambia\",\"Zimbabwe\"],\"locationmode\":\"country names\",\"locations\":[\"Afghanistan\",\"Albania\",\"Algeria\",\"Argentina\",\"Argentina?\",\"Armenia\",\"Australasia\",\"Australia\",\"Australia?\",\"Austria\",\"Austria?\",\"Azerbaijan\",\"Bahamas\",\"Bahrain\",\"Barbados\",\"Belarus\",\"Belgium\",\"Belgium?\",\"Bermuda\",\"Botswana\",\"Brazil\",\"Brazil?\",\"British West Indies?\",\"Bulgaria\",\"Bulgaria?\",\"Burkina Faso\",\"Burundi\",\"Cabo Verde\",\"Cameroon\",\"Canada\",\"Canada?\",\"Ceylon\",\"Chile\",\"China\",\"Chinese Taipei\",\"Colombia\",\"Costa Rica\",\"Croatia\",\"Cuba\",\"Cyprus\",\"Czech Republic\",\"Czechoslovakia?\",\"Denmark\",\"Denmark?\",\"Djibouti\",\"Dominica\",\"Dominican Republic\",\"Ecuador\",\"Egypt\",\"Egypt?\",\"Eritrea\",\"Estonia\",\"Ethiopia\",\"Ethiopia?\",\"FR Yugoslavia\",\"Fiji\",\"Finland\",\"Finland?\",\"Formosa?\",\"France\",\"France?\",\"Gabon\",\"Georgia\",\"Germany\",\"Germany?\",\"Ghana\",\"Ghana?\",\"Great Britain\",\"Greece\",\"Greece?\",\"Grenada\",\"Guatemala\",\"Guyana\",\"Haiti\",\"Hong Kong\",\"Hungary\",\"Hungary?\",\"Iceland\",\"Independent Olympic Athletes\",\"Independent Olympic Participants\",\"India\",\"India?\",\"Indonesia\",\"Iran\",\"Iran?\",\"Iraq?\",\"Ireland\",\"Ireland?\",\"Israel\",\"Italy\",\"Italy?\",\"Ivory Coast\",\"Jamaica\",\"Japan\",\"Japan?\",\"Jordan\",\"Kazakhstan\",\"Kenya\",\"Kosovo\",\"Kuwait\",\"Kyrgyzstan\",\"Latvia\",\"Latvia?\",\"Lebanon\",\"Lithuania\",\"Luxembourg\",\"Macedonia\",\"Malaysia\",\"Mauritius\",\"Mexico\",\"Mexico?\",\"Mixed team\",\"Moldova\",\"Mongolia\",\"Montenegro\",\"Morocco\",\"Morocco?\",\"Mozambique\",\"Namibia\",\"Netherlands\",\"Netherlands?\",\"New Zealand\",\"New Zealand?\",\"Niger\",\"Nigeria\",\"North Korea\",\"North Macedonia\",\"Norway\",\"Norway?\",\"Pakistan\",\"Pakistan?\",\"Panama\",\"Paraguay\",\"Peru\",\"Philippines\",\"Philippines?\",\"Poland\",\"Poland?\",\"Portugal\",\"Portugal?\",\"Puerto Rico\",\"Qatar\",\"ROC\",\"Refugee Olympic Team\",\"Romania\",\"Romania?\",\"Russia\",\"Saint Lucia\",\"Samoa\",\"San Marino\",\"Saudi Arabia\",\"Senegal\",\"Serbia\",\"Singapore\",\"Singapore?\",\"Slovakia\",\"Slovenia\",\"South Africa\",\"South Africa?\",\"South Korea\",\"Soviet Union?\",\"Spain\",\"Spain?\",\"Sri Lanka\",\"Sudan\",\"Suriname\",\"Sweden\",\"Sweden?\",\"Switzerland\",\"Switzerland?\",\"Syria\",\"Taiwan\",\"Tajikistan\",\"Tanzania\",\"Thailand\",\"Togo\",\"Tonga\",\"Trinidad and Tobago\",\"Tunisia\",\"Turkey\",\"Turkey?\",\"Turkmenistan\",\"Uganda\",\"Ukraine\",\"United Arab Emirates\",\"United States\",\"United States?\",\"United Team of Germany?\",\"Uruguay\",\"Uruguay?\",\"Uzbekistan\",\"Venezuela\",\"Venezuela?\",\"Vietnam\",\"Yugoslavia?\",\"Zambia\",\"Zimbabwe\"],\"name\":\"\",\"z\":[1,2,2,4,3,3,6,22,14,4,4,7,2,2,1,12,6,2,1,1,8,2,2,13,7,1,1,1,1,13,8,1,2,66,4,3,1,5,14,1,9,7,7,7,1,1,2,2,4,2,1,3,5,1,4,1,12,15,1,28,5,1,6,47,24,1,1,33,6,1,1,2,1,1,3,19,18,1,2,3,2,1,4,5,4,1,3,2,2,23,36,1,6,24,18,1,10,9,2,1,3,2,1,1,3,1,1,2,1,4,2,8,2,2,1,2,1,1,2,13,6,7,2,1,3,5,1,7,1,1,2,1,1,1,2,3,13,15,2,1,1,2,71,1,15,10,85,2,1,3,1,1,6,1,1,4,3,5,4,18,103,10,1,1,1,1,19,6,8,4,1,1,2,2,3,1,1,2,2,6,9,1,2,19,1,93,71,42,1,1,6,2,1,1,2,1,3],\"type\":\"choropleth\"}],                        {\"template\":{\"data\":{\"histogram2dcontour\":[{\"type\":\"histogram2dcontour\",\"colorbar\":{\"outlinewidth\":0,\"ticks\":\"\"},\"colorscale\":[[0.0,\"#0d0887\"],[0.1111111111111111,\"#46039f\"],[0.2222222222222222,\"#7201a8\"],[0.3333333333333333,\"#9c179e\"],[0.4444444444444444,\"#bd3786\"],[0.5555555555555556,\"#d8576b\"],[0.6666666666666666,\"#ed7953\"],[0.7777777777777778,\"#fb9f3a\"],[0.8888888888888888,\"#fdca26\"],[1.0,\"#f0f921\"]]}],\"choropleth\":[{\"type\":\"choropleth\",\"colorbar\":{\"outlinewidth\":0,\"ticks\":\"\"}}],\"histogram2d\":[{\"type\":\"histogram2d\",\"colorbar\":{\"outlinewidth\":0,\"ticks\":\"\"},\"colorscale\":[[0.0,\"#0d0887\"],[0.1111111111111111,\"#46039f\"],[0.2222222222222222,\"#7201a8\"],[0.3333333333333333,\"#9c179e\"],[0.4444444444444444,\"#bd3786\"],[0.5555555555555556,\"#d8576b\"],[0.6666666666666666,\"#ed7953\"],[0.7777777777777778,\"#fb9f3a\"],[0.8888888888888888,\"#fdca26\"],[1.0,\"#f0f921\"]]}],\"heatmap\":[{\"type\":\"heatmap\",\"colorbar\":{\"outlinewidth\":0,\"ticks\":\"\"},\"colorscale\":[[0.0,\"#0d0887\"],[0.1111111111111111,\"#46039f\"],[0.2222222222222222,\"#7201a8\"],[0.3333333333333333,\"#9c179e\"],[0.4444444444444444,\"#bd3786\"],[0.5555555555555556,\"#d8576b\"],[0.6666666666666666,\"#ed7953\"],[0.7777777777777778,\"#fb9f3a\"],[0.8888888888888888,\"#fdca26\"],[1.0,\"#f0f921\"]]}],\"heatmapgl\":[{\"type\":\"heatmapgl\",\"colorbar\":{\"outlinewidth\":0,\"ticks\":\"\"},\"colorscale\":[[0.0,\"#0d0887\"],[0.1111111111111111,\"#46039f\"],[0.2222222222222222,\"#7201a8\"],[0.3333333333333333,\"#9c179e\"],[0.4444444444444444,\"#bd3786\"],[0.5555555555555556,\"#d8576b\"],[0.6666666666666666,\"#ed7953\"],[0.7777777777777778,\"#fb9f3a\"],[0.8888888888888888,\"#fdca26\"],[1.0,\"#f0f921\"]]}],\"contourcarpet\":[{\"type\":\"contourcarpet\",\"colorbar\":{\"outlinewidth\":0,\"ticks\":\"\"}}],\"contour\":[{\"type\":\"contour\",\"colorbar\":{\"outlinewidth\":0,\"ticks\":\"\"},\"colorscale\":[[0.0,\"#0d0887\"],[0.1111111111111111,\"#46039f\"],[0.2222222222222222,\"#7201a8\"],[0.3333333333333333,\"#9c179e\"],[0.4444444444444444,\"#bd3786\"],[0.5555555555555556,\"#d8576b\"],[0.6666666666666666,\"#ed7953\"],[0.7777777777777778,\"#fb9f3a\"],[0.8888888888888888,\"#fdca26\"],[1.0,\"#f0f921\"]]}],\"surface\":[{\"type\":\"surface\",\"colorbar\":{\"outlinewidth\":0,\"ticks\":\"\"},\"colorscale\":[[0.0,\"#0d0887\"],[0.1111111111111111,\"#46039f\"],[0.2222222222222222,\"#7201a8\"],[0.3333333333333333,\"#9c179e\"],[0.4444444444444444,\"#bd3786\"],[0.5555555555555556,\"#d8576b\"],[0.6666666666666666,\"#ed7953\"],[0.7777777777777778,\"#fb9f3a\"],[0.8888888888888888,\"#fdca26\"],[1.0,\"#f0f921\"]]}],\"mesh3d\":[{\"type\":\"mesh3d\",\"colorbar\":{\"outlinewidth\":0,\"ticks\":\"\"}}],\"scatter\":[{\"marker\":{\"line\":{\"color\":\"#283442\"}},\"type\":\"scatter\"}],\"parcoords\":[{\"type\":\"parcoords\",\"line\":{\"colorbar\":{\"outlinewidth\":0,\"ticks\":\"\"}}}],\"scatterpolargl\":[{\"type\":\"scatterpolargl\",\"marker\":{\"colorbar\":{\"outlinewidth\":0,\"ticks\":\"\"}}}],\"bar\":[{\"error_x\":{\"color\":\"#f2f5fa\"},\"error_y\":{\"color\":\"#f2f5fa\"},\"marker\":{\"line\":{\"color\":\"rgb(17,17,17)\",\"width\":0.5},\"pattern\":{\"fillmode\":\"overlay\",\"size\":10,\"solidity\":0.2}},\"type\":\"bar\"}],\"scattergeo\":[{\"type\":\"scattergeo\",\"marker\":{\"colorbar\":{\"outlinewidth\":0,\"ticks\":\"\"}}}],\"scatterpolar\":[{\"type\":\"scatterpolar\",\"marker\":{\"colorbar\":{\"outlinewidth\":0,\"ticks\":\"\"}}}],\"histogram\":[{\"marker\":{\"pattern\":{\"fillmode\":\"overlay\",\"size\":10,\"solidity\":0.2}},\"type\":\"histogram\"}],\"scattergl\":[{\"marker\":{\"line\":{\"color\":\"#283442\"}},\"type\":\"scattergl\"}],\"scatter3d\":[{\"type\":\"scatter3d\",\"line\":{\"colorbar\":{\"outlinewidth\":0,\"ticks\":\"\"}},\"marker\":{\"colorbar\":{\"outlinewidth\":0,\"ticks\":\"\"}}}],\"scattermapbox\":[{\"type\":\"scattermapbox\",\"marker\":{\"colorbar\":{\"outlinewidth\":0,\"ticks\":\"\"}}}],\"scatterternary\":[{\"type\":\"scatterternary\",\"marker\":{\"colorbar\":{\"outlinewidth\":0,\"ticks\":\"\"}}}],\"scattercarpet\":[{\"type\":\"scattercarpet\",\"marker\":{\"colorbar\":{\"outlinewidth\":0,\"ticks\":\"\"}}}],\"carpet\":[{\"aaxis\":{\"endlinecolor\":\"#A2B1C6\",\"gridcolor\":\"#506784\",\"linecolor\":\"#506784\",\"minorgridcolor\":\"#506784\",\"startlinecolor\":\"#A2B1C6\"},\"baxis\":{\"endlinecolor\":\"#A2B1C6\",\"gridcolor\":\"#506784\",\"linecolor\":\"#506784\",\"minorgridcolor\":\"#506784\",\"startlinecolor\":\"#A2B1C6\"},\"type\":\"carpet\"}],\"table\":[{\"cells\":{\"fill\":{\"color\":\"#506784\"},\"line\":{\"color\":\"rgb(17,17,17)\"}},\"header\":{\"fill\":{\"color\":\"#2a3f5f\"},\"line\":{\"color\":\"rgb(17,17,17)\"}},\"type\":\"table\"}],\"barpolar\":[{\"marker\":{\"line\":{\"color\":\"rgb(17,17,17)\",\"width\":0.5},\"pattern\":{\"fillmode\":\"overlay\",\"size\":10,\"solidity\":0.2}},\"type\":\"barpolar\"}],\"pie\":[{\"automargin\":true,\"type\":\"pie\"}]},\"layout\":{\"autotypenumbers\":\"strict\",\"colorway\":[\"#636efa\",\"#EF553B\",\"#00cc96\",\"#ab63fa\",\"#FFA15A\",\"#19d3f3\",\"#FF6692\",\"#B6E880\",\"#FF97FF\",\"#FECB52\"],\"font\":{\"color\":\"#f2f5fa\"},\"hovermode\":\"closest\",\"hoverlabel\":{\"align\":\"left\"},\"paper_bgcolor\":\"rgb(17,17,17)\",\"plot_bgcolor\":\"rgb(17,17,17)\",\"polar\":{\"bgcolor\":\"rgb(17,17,17)\",\"angularaxis\":{\"gridcolor\":\"#506784\",\"linecolor\":\"#506784\",\"ticks\":\"\"},\"radialaxis\":{\"gridcolor\":\"#506784\",\"linecolor\":\"#506784\",\"ticks\":\"\"}},\"ternary\":{\"bgcolor\":\"rgb(17,17,17)\",\"aaxis\":{\"gridcolor\":\"#506784\",\"linecolor\":\"#506784\",\"ticks\":\"\"},\"baxis\":{\"gridcolor\":\"#506784\",\"linecolor\":\"#506784\",\"ticks\":\"\"},\"caxis\":{\"gridcolor\":\"#506784\",\"linecolor\":\"#506784\",\"ticks\":\"\"}},\"coloraxis\":{\"colorbar\":{\"outlinewidth\":0,\"ticks\":\"\"}},\"colorscale\":{\"sequential\":[[0.0,\"#0d0887\"],[0.1111111111111111,\"#46039f\"],[0.2222222222222222,\"#7201a8\"],[0.3333333333333333,\"#9c179e\"],[0.4444444444444444,\"#bd3786\"],[0.5555555555555556,\"#d8576b\"],[0.6666666666666666,\"#ed7953\"],[0.7777777777777778,\"#fb9f3a\"],[0.8888888888888888,\"#fdca26\"],[1.0,\"#f0f921\"]],\"sequentialminus\":[[0.0,\"#0d0887\"],[0.1111111111111111,\"#46039f\"],[0.2222222222222222,\"#7201a8\"],[0.3333333333333333,\"#9c179e\"],[0.4444444444444444,\"#bd3786\"],[0.5555555555555556,\"#d8576b\"],[0.6666666666666666,\"#ed7953\"],[0.7777777777777778,\"#fb9f3a\"],[0.8888888888888888,\"#fdca26\"],[1.0,\"#f0f921\"]],\"diverging\":[[0,\"#8e0152\"],[0.1,\"#c51b7d\"],[0.2,\"#de77ae\"],[0.3,\"#f1b6da\"],[0.4,\"#fde0ef\"],[0.5,\"#f7f7f7\"],[0.6,\"#e6f5d0\"],[0.7,\"#b8e186\"],[0.8,\"#7fbc41\"],[0.9,\"#4d9221\"],[1,\"#276419\"]]},\"xaxis\":{\"gridcolor\":\"#283442\",\"linecolor\":\"#506784\",\"ticks\":\"\",\"title\":{\"standoff\":15},\"zerolinecolor\":\"#283442\",\"automargin\":true,\"zerolinewidth\":2},\"yaxis\":{\"gridcolor\":\"#283442\",\"linecolor\":\"#506784\",\"ticks\":\"\",\"title\":{\"standoff\":15},\"zerolinecolor\":\"#283442\",\"automargin\":true,\"zerolinewidth\":2},\"scene\":{\"xaxis\":{\"backgroundcolor\":\"rgb(17,17,17)\",\"gridcolor\":\"#506784\",\"linecolor\":\"#506784\",\"showbackground\":true,\"ticks\":\"\",\"zerolinecolor\":\"#C8D4E3\",\"gridwidth\":2},\"yaxis\":{\"backgroundcolor\":\"rgb(17,17,17)\",\"gridcolor\":\"#506784\",\"linecolor\":\"#506784\",\"showbackground\":true,\"ticks\":\"\",\"zerolinecolor\":\"#C8D4E3\",\"gridwidth\":2},\"zaxis\":{\"backgroundcolor\":\"rgb(17,17,17)\",\"gridcolor\":\"#506784\",\"linecolor\":\"#506784\",\"showbackground\":true,\"ticks\":\"\",\"zerolinecolor\":\"#C8D4E3\",\"gridwidth\":2}},\"shapedefaults\":{\"line\":{\"color\":\"#f2f5fa\"}},\"annotationdefaults\":{\"arrowcolor\":\"#f2f5fa\",\"arrowhead\":0,\"arrowwidth\":1},\"geo\":{\"bgcolor\":\"rgb(17,17,17)\",\"landcolor\":\"rgb(17,17,17)\",\"subunitcolor\":\"#506784\",\"showland\":true,\"showlakes\":true,\"lakecolor\":\"rgb(17,17,17)\"},\"title\":{\"x\":0.05},\"updatemenudefaults\":{\"bgcolor\":\"#506784\",\"borderwidth\":0},\"sliderdefaults\":{\"bgcolor\":\"#C8D4E3\",\"borderwidth\":1,\"bordercolor\":\"rgb(17,17,17)\",\"tickwidth\":0},\"mapbox\":{\"style\":\"dark\"}}},\"geo\":{\"domain\":{\"x\":[0.0,1.0],\"y\":[0.0,1.0]},\"center\":{},\"projection\":{\"rotation\":{\"lon\":40},\"type\":\"natural earth\"},\"showcountries\":true,\"showocean\":true,\"oceancolor\":\"hsl(200, 30%, 95%)\",\"countrywidth\":2,\"showland\":true,\"landcolor\":\"hsl(50, 20%, 95%)\",\"bgcolor\":\"rgba(255,255,255,0.5)\",\"showframe\":false,\"showcoastlines\":false},\"coloraxis\":{\"colorbar\":{\"title\":{\"text\":\"Average Medals\",\"font\":{\"color\":\"#444444\"}},\"tickfont\":{\"color\":\"#666666\"},\"thickness\":15,\"len\":0.6,\"yanchor\":\"middle\",\"y\":0.5,\"x\":0.9},\"colorscale\":[[0.0,\"hsl(230, 75%, 92%)\"],[0.3883495145631068,\"hsl(210, 30%, 80%)\"],[0.3983495145631068,\"hsl(220, 45%, 65%)\"],[1.0,\"hsl(250, 60%, 45%)\"]],\"cmin\":0,\"cmax\":103},\"legend\":{\"tracegroupgap\":0},\"margin\":{\"t\":60,\"r\":0,\"l\":0,\"b\":0},\"font\":{\"family\":\"Time\",\"size\":16,\"color\":\"#555555\"},\"paper_bgcolor\":\"rgba(0,0,0,0)\",\"plot_bgcolor\":\"rgba(0,0,0,0)\"},                        {\"responsive\": true}                    ).then(function(){\n                            \nvar gd = document.getElementById('5043887b-d1f2-48ce-a1df-7acbc00b8774');\nvar x = new MutationObserver(function (mutations, observer) {{\n        var display = window.getComputedStyle(gd).display;\n        if (!display || display === 'none') {{\n            console.log([gd, 'removed!']);\n            Plotly.purge(gd);\n            observer.disconnect();\n        }}\n}});\n\n// Listen for the removal of the full notebook cells\nvar notebookContainer = gd.closest('#notebook-container');\nif (notebookContainer) {{\n    x.observe(notebookContainer, {childList: true});\n}}\n\n// Listen for the clearing of the current output cell\nvar outputEl = gd.closest('.output');\nif (outputEl) {{\n    x.observe(outputEl, {childList: true});\n}}\n\n                        })                };                });            </script>        </div>"
     },
     "metadata": {},
     "output_type": "display_data"
    }
   ],
   "source": [
    "import plotly.express as px\n",
    "import country_converter as coco\n",
    "\n",
    "# 标准化国家名称（处理简称/别称）\n",
    "# 标准化国家名称（确保与地图数据库匹配）\n",
    "# 选择以下任一颜色主题\n",
    "color_scale = \"Tealrose\"     # 蓝绿色渐变（推荐）\n",
    "# color_scale = \"Mint\"       # 薄荷绿\n",
    "# color_scale = \"Peach\"      # 淡橙粉\n",
    "# color_scale = \"Pastel\"     # 通用淡彩色\n",
    "# color_scale = \"Ice\"        # 冰蓝色系\n",
    "\n",
    "# 或自定义淡雅渐变色（HSL格式控制饱和度/亮度）\n",
    "custom_colors = [\n",
    "    [0.0, \"hsl(180, 20%, 95%)\"],   # 极淡蓝\n",
    "    [0.2, \"hsl(200, 30%, 85%)\"],  \n",
    "    [0.4, \"hsl(220, 40%, 75%)\"],\n",
    "    [0.6, \"hsl(240, 50%, 65%)\"],\n",
    "    [1.0, \"hsl(260, 60%, 55%)\"]\n",
    "]\n",
    "# 获取数据最大值并计算40对应的归一化位置\n",
    "max_total = averages[\"Total\"].max()\n",
    "position_40 = 40 / max_total  # 计算颜色分界点\n",
    "\n",
    "# 自定义双段渐变色标尺\n",
    "custom_colors = [\n",
    "    # 40以下：低饱和度冷色系\n",
    "    [0.0,    \"hsl(230, 75%, 92%)\"],  # 极淡蓝\n",
    "    [position_40, \"hsl(210, 30%, 80%)\"],  # 分界点颜色\n",
    "    \n",
    "    # 40以上：增强饱和度与对比度\n",
    "    [position_40 + 0.01, \"hsl(220, 45%, 65%)\"],  # 避免色阶断裂\n",
    "    [1.0,    \"hsl(250, 60%, 45%)\"]   # 最深色\n",
    "]\n",
    "\n",
    "# 步骤2: 绘制地图（使用自定义分阶配色）\n",
    "fig = px.choropleth(\n",
    "    averages,\n",
    "    locations=\"Country\",\n",
    "    locationmode=\"country names\",\n",
    "    color=\"Total\",\n",
    "    hover_name=\"Country\",\n",
    "    hover_data=[\"Gold\", \"Silver\", \"Bronze\"],\n",
    "    color_continuous_scale=custom_colors,  # 应用自定义色阶\n",
    "    labels={\"Total\": \"Average Medals\"},\n",
    "    range_color=[0, max_total],  # 确保色阶覆盖全数据范围\n",
    "    #title=\"Average Total Medals by Country (2000-2020)\"\n",
    ")\n",
    "\n",
    "# 国家边框美化\n",
    "fig.update_geos(\n",
    "    showcountries=True,\n",
    "    showocean=True,\n",
    "    oceancolor=\"hsl(200, 30%, 95%)\",  # 浅蓝色海洋\n",
    "    countrywidth=2,\n",
    "    projection_rotation=dict(lon=40),\n",
    "    showland=True,\n",
    "    landcolor=\"hsl(50, 20%, 95%)\",    # 米白色陆地\n",
    "    bgcolor=\"rgba(255,255,255,0)\"  # 背景透明\n",
    ")\n",
    "\n",
    "# 步骤3: 高级美学调整\n",
    "fig.update_layout(\n",
    "    # 颜色条样式\n",
    "    coloraxis_colorbar=dict(\n",
    "        title=\"Average Medals\",\n",
    "        thickness=15,\n",
    "        len=0.6,\n",
    "        yanchor=\"middle\",\n",
    "        y=0.5,\n",
    "        x=0.9,\n",
    "        tickfont=dict(color=\"#666666\"),  # 灰色刻度文字\n",
    "        titlefont=dict(color=\"#444444\")  # 灰色标题\n",
    "    ),\n",
    "    \n",
    "    # 全局布局\n",
    "    margin={\"r\":0, \"t\":60, \"l\":0, \"b\":0},\n",
    "    paper_bgcolor=\"rgba(0,0,0,0)\",       # 透明背景\n",
    "    plot_bgcolor=\"rgba(0,0,0,0)\",\n",
    "    font=dict(family=\"Time\", size=16, color=\"#555555\"),  # 统一字体颜色\n",
    "    \n",
    "    # 地图投影\n",
    "    geo=dict(\n",
    "        showframe=False,\n",
    "        showcoastlines=False,\n",
    "        projection_type=\"natural earth\",\n",
    "        #landcolor=\"rgba(240,240,240,0.8)\",  # 陆地淡灰色\n",
    "        bgcolor=\"rgba(255,255,255,0.5)\"     # 背景微透明\n",
    "    )\n",
    ")\n",
    "\n",
    "# 保存为透明背景的PNG（适合嵌入PPT/海报）\n",
    "#fig.write_image(\"soft_medal_map.pdf\", engine=\"orca\", width=1400, height=800, scale=5)\n",
    "\n",
    "# 显示图表\n",
    "fig.show()"
   ],
   "metadata": {
    "collapsed": false,
    "ExecuteTime": {
     "end_time": "2025-01-27T09:07:45.736500Z",
     "start_time": "2025-01-27T09:07:45.678827300Z"
    }
   },
   "id": "26d48be20d0a29de"
  },
  {
   "cell_type": "code",
   "execution_count": 13,
   "outputs": [
    {
     "name": "stdout",
     "output_type": "stream",
     "text": [
      "         NOC  Gold  Silver  Bronze  Total    Country\n",
      "0    Albania     0       0       2      2    Albania\n",
      "1    Algeria     2       0       1      3    Algeria\n",
      "2  Argentina     1       1       1      3  Argentina\n",
      "3    Armenia     0       3       1      4    Armenia\n",
      "4  Australia    18      19      16     53  Australia\n"
     ]
    }
   ],
   "source": [
    "medals_2024 = medals[medals[\"Year\"]==2024]\n",
    "medals_2024_average = medals_2024.groupby('NOC')[['Gold', 'Silver', 'Bronze', 'Total']].mean().round(0).astype(int).reset_index()\n",
    "\n",
    "medals_2024_average[\"Country\"] = medals_2024_average[\"NOC\"]\n",
    "print(medals_2024_average.head())"
   ],
   "metadata": {
    "collapsed": false,
    "ExecuteTime": {
     "end_time": "2025-01-27T09:08:31.235642700Z",
     "start_time": "2025-01-27T09:08:31.220249200Z"
    }
   },
   "id": "9132f76015980bb5"
  },
  {
   "cell_type": "code",
   "execution_count": 33,
   "outputs": [
    {
     "data": {
      "application/vnd.plotly.v1+json": {
       "data": [
        {
         "coloraxis": "coloraxis",
         "customdata": [
          [
           0,
           0,
           2
          ],
          [
           2,
           0,
           1
          ],
          [
           1,
           1,
           1
          ],
          [
           0,
           3,
           1
          ],
          [
           18,
           19,
           16
          ],
          [
           2,
           0,
           3
          ],
          [
           2,
           2,
           3
          ],
          [
           2,
           1,
           1
          ],
          [
           3,
           1,
           6
          ],
          [
           1,
           1,
           0
          ],
          [
           3,
           7,
           10
          ],
          [
           3,
           1,
           3
          ],
          [
           0,
           0,
           1
          ],
          [
           9,
           7,
           11
          ],
          [
           1,
           1,
           0
          ],
          [
           40,
           27,
           24
          ],
          [
           2,
           0,
           5
          ],
          [
           0,
           3,
           1
          ],
          [
           2,
           2,
           3
          ],
          [
           2,
           1,
           6
          ],
          [
           0,
           1,
           0
          ],
          [
           3,
           0,
           2
          ],
          [
           2,
           2,
           5
          ],
          [
           1,
           0,
           0
          ],
          [
           1,
           0,
           2
          ],
          [
           1,
           2,
           2
          ],
          [
           1,
           1,
           1
          ],
          [
           1,
           3,
           0
          ],
          [
           0,
           1,
           0
          ],
          [
           16,
           26,
           22
          ],
          [
           3,
           3,
           1
          ],
          [
           12,
           13,
           8
          ],
          [
           14,
           22,
           29
          ],
          [
           1,
           1,
           6
          ],
          [
           0,
           0,
           2
          ],
          [
           1,
           0,
           1
          ],
          [
           2,
           0,
           2
          ],
          [
           6,
           7,
           6
          ],
          [
           0,
           1,
           5
          ],
          [
           2,
           0,
           1
          ],
          [
           3,
           6,
           3
          ],
          [
           4,
           0,
           3
          ],
          [
           1,
           5,
           1
          ],
          [
           12,
           13,
           15
          ],
          [
           0,
           0,
           1
          ],
          [
           1,
           3,
           2
          ],
          [
           20,
           12,
           13
          ],
          [
           0,
           1,
           0
          ],
          [
           1,
           3,
           3
          ],
          [
           4,
           2,
           5
          ],
          [
           0,
           1,
           1
          ],
          [
           0,
           2,
           4
          ],
          [
           0,
           2,
           2
          ],
          [
           0,
           0,
           2
          ],
          [
           0,
           3,
           2
          ],
          [
           0,
           1,
           3
          ],
          [
           0,
           1,
           0
          ],
          [
           1,
           0,
           1
          ],
          [
           15,
           7,
           12
          ],
          [
           10,
           7,
           3
          ],
          [
           0,
           2,
           4
          ],
          [
           4,
           1,
           3
          ],
          [
           1,
           0,
           0
          ],
          [
           0,
           1,
           0
          ],
          [
           0,
           0,
           1
          ],
          [
           2,
           0,
           2
          ],
          [
           1,
           4,
           5
          ],
          [
           1,
           2,
           1
          ],
          [
           0,
           0,
           2
          ],
          [
           0,
           0,
           1
          ],
          [
           0,
           0,
           1
          ],
          [
           3,
           4,
           2
          ],
          [
           1,
           1,
           0
          ],
          [
           3,
           1,
           1
          ],
          [
           0,
           0,
           1
          ],
          [
           0,
           0,
           1
          ],
          [
           2,
           1,
           0
          ],
          [
           1,
           3,
           2
          ],
          [
           13,
           9,
           10
          ],
          [
           5,
           4,
           9
          ],
          [
           4,
           4,
           3
          ],
          [
           1,
           2,
           5
          ],
          [
           0,
           0,
           3
          ],
          [
           1,
           3,
           2
          ],
          [
           1,
           1,
           1
          ],
          [
           0,
           3,
           5
          ],
          [
           1,
           1,
           0
          ],
          [
           3,
           5,
           4
          ],
          [
           40,
           44,
           42
          ],
          [
           8,
           2,
           3
          ],
          [
           0,
           0,
           1
          ]
         ],
         "geo": "geo",
         "hovertemplate": "<b>%{hovertext}</b><br><br>Country=%{location}<br>Gold=%{customdata[0]}<br>Silver=%{customdata[1]}<br>Bronze=%{customdata[2]}<br>Average Medals=%{z}<extra></extra>",
         "hovertext": [
          "Albania",
          "Algeria",
          "Argentina",
          "Armenia",
          "Australia",
          "Austria",
          "Azerbaijan",
          "Bahrain",
          "Belgium",
          "Botswana",
          "Brazil",
          "Bulgaria",
          "Cabo Verde",
          "Canada",
          "Chile",
          "China",
          "Chinese Taipei",
          "Colombia",
          "Croatia",
          "Cuba",
          "Cyprus",
          "Czech Republic",
          "Denmark",
          "Dominica",
          "Dominican Republic",
          "Ecuador",
          "Egypt",
          "Ethiopia",
          "Fiji",
          "France",
          "Georgia",
          "Germany",
          "Great Britain",
          "Greece",
          "Grenada",
          "Guatemala",
          "Hong Kong",
          "Hungary",
          "India",
          "Indonesia",
          "Iran",
          "Ireland",
          "Israel",
          "Italy",
          "Ivory Coast",
          "Jamaica",
          "Japan",
          "Jordan",
          "Kazakhstan",
          "Kenya",
          "Kosovo",
          "Kyrgyzstan",
          "Lithuania",
          "Malaysia",
          "Mexico",
          "Moldova",
          "Mongolia",
          "Morocco",
          "Netherlands",
          "New Zealand",
          "North Korea",
          "Norway",
          "Pakistan",
          "Panama",
          "Peru",
          "Philippines",
          "Poland",
          "Portugal",
          "Puerto Rico",
          "Qatar",
          "Refugee Olympic Team",
          "Romania",
          "Saint Lucia",
          "Serbia",
          "Singapore",
          "Slovakia",
          "Slovenia",
          "South Africa",
          "South Korea",
          "Spain",
          "Sweden",
          "Switzerland",
          "Tajikistan",
          "Thailand",
          "Tunisia",
          "Turkey",
          "Uganda",
          "Ukraine",
          "United States",
          "Uzbekistan",
          "Zambia"
         ],
         "locationmode": "country names",
         "locations": [
          "Albania",
          "Algeria",
          "Argentina",
          "Armenia",
          "Australia",
          "Austria",
          "Azerbaijan",
          "Bahrain",
          "Belgium",
          "Botswana",
          "Brazil",
          "Bulgaria",
          "Cabo Verde",
          "Canada",
          "Chile",
          "China",
          "Chinese Taipei",
          "Colombia",
          "Croatia",
          "Cuba",
          "Cyprus",
          "Czech Republic",
          "Denmark",
          "Dominica",
          "Dominican Republic",
          "Ecuador",
          "Egypt",
          "Ethiopia",
          "Fiji",
          "France",
          "Georgia",
          "Germany",
          "Great Britain",
          "Greece",
          "Grenada",
          "Guatemala",
          "Hong Kong",
          "Hungary",
          "India",
          "Indonesia",
          "Iran",
          "Ireland",
          "Israel",
          "Italy",
          "Ivory Coast",
          "Jamaica",
          "Japan",
          "Jordan",
          "Kazakhstan",
          "Kenya",
          "Kosovo",
          "Kyrgyzstan",
          "Lithuania",
          "Malaysia",
          "Mexico",
          "Moldova",
          "Mongolia",
          "Morocco",
          "Netherlands",
          "New Zealand",
          "North Korea",
          "Norway",
          "Pakistan",
          "Panama",
          "Peru",
          "Philippines",
          "Poland",
          "Portugal",
          "Puerto Rico",
          "Qatar",
          "Refugee Olympic Team",
          "Romania",
          "Saint Lucia",
          "Serbia",
          "Singapore",
          "Slovakia",
          "Slovenia",
          "South Africa",
          "South Korea",
          "Spain",
          "Sweden",
          "Switzerland",
          "Tajikistan",
          "Thailand",
          "Tunisia",
          "Turkey",
          "Uganda",
          "Ukraine",
          "United States",
          "Uzbekistan",
          "Zambia"
         ],
         "name": "",
         "z": [
          2,
          3,
          3,
          4,
          53,
          5,
          7,
          4,
          10,
          2,
          20,
          7,
          1,
          27,
          2,
          91,
          7,
          4,
          7,
          9,
          1,
          5,
          9,
          1,
          3,
          5,
          3,
          4,
          1,
          64,
          7,
          33,
          65,
          8,
          2,
          2,
          4,
          19,
          6,
          3,
          12,
          7,
          7,
          40,
          1,
          6,
          45,
          1,
          7,
          11,
          2,
          6,
          4,
          2,
          5,
          4,
          1,
          2,
          34,
          20,
          6,
          8,
          1,
          1,
          1,
          4,
          10,
          4,
          2,
          1,
          1,
          9,
          2,
          5,
          1,
          1,
          3,
          6,
          32,
          18,
          11,
          8,
          3,
          6,
          3,
          8,
          2,
          12,
          126,
          13,
          1
         ],
         "type": "choropleth"
        }
       ],
       "layout": {
        "template": {
         "data": {
          "histogram2dcontour": [
           {
            "type": "histogram2dcontour",
            "colorbar": {
             "outlinewidth": 0,
             "ticks": ""
            },
            "colorscale": [
             [
              0.0,
              "#0d0887"
             ],
             [
              0.1111111111111111,
              "#46039f"
             ],
             [
              0.2222222222222222,
              "#7201a8"
             ],
             [
              0.3333333333333333,
              "#9c179e"
             ],
             [
              0.4444444444444444,
              "#bd3786"
             ],
             [
              0.5555555555555556,
              "#d8576b"
             ],
             [
              0.6666666666666666,
              "#ed7953"
             ],
             [
              0.7777777777777778,
              "#fb9f3a"
             ],
             [
              0.8888888888888888,
              "#fdca26"
             ],
             [
              1.0,
              "#f0f921"
             ]
            ]
           }
          ],
          "choropleth": [
           {
            "type": "choropleth",
            "colorbar": {
             "outlinewidth": 0,
             "ticks": ""
            }
           }
          ],
          "histogram2d": [
           {
            "type": "histogram2d",
            "colorbar": {
             "outlinewidth": 0,
             "ticks": ""
            },
            "colorscale": [
             [
              0.0,
              "#0d0887"
             ],
             [
              0.1111111111111111,
              "#46039f"
             ],
             [
              0.2222222222222222,
              "#7201a8"
             ],
             [
              0.3333333333333333,
              "#9c179e"
             ],
             [
              0.4444444444444444,
              "#bd3786"
             ],
             [
              0.5555555555555556,
              "#d8576b"
             ],
             [
              0.6666666666666666,
              "#ed7953"
             ],
             [
              0.7777777777777778,
              "#fb9f3a"
             ],
             [
              0.8888888888888888,
              "#fdca26"
             ],
             [
              1.0,
              "#f0f921"
             ]
            ]
           }
          ],
          "heatmap": [
           {
            "type": "heatmap",
            "colorbar": {
             "outlinewidth": 0,
             "ticks": ""
            },
            "colorscale": [
             [
              0.0,
              "#0d0887"
             ],
             [
              0.1111111111111111,
              "#46039f"
             ],
             [
              0.2222222222222222,
              "#7201a8"
             ],
             [
              0.3333333333333333,
              "#9c179e"
             ],
             [
              0.4444444444444444,
              "#bd3786"
             ],
             [
              0.5555555555555556,
              "#d8576b"
             ],
             [
              0.6666666666666666,
              "#ed7953"
             ],
             [
              0.7777777777777778,
              "#fb9f3a"
             ],
             [
              0.8888888888888888,
              "#fdca26"
             ],
             [
              1.0,
              "#f0f921"
             ]
            ]
           }
          ],
          "heatmapgl": [
           {
            "type": "heatmapgl",
            "colorbar": {
             "outlinewidth": 0,
             "ticks": ""
            },
            "colorscale": [
             [
              0.0,
              "#0d0887"
             ],
             [
              0.1111111111111111,
              "#46039f"
             ],
             [
              0.2222222222222222,
              "#7201a8"
             ],
             [
              0.3333333333333333,
              "#9c179e"
             ],
             [
              0.4444444444444444,
              "#bd3786"
             ],
             [
              0.5555555555555556,
              "#d8576b"
             ],
             [
              0.6666666666666666,
              "#ed7953"
             ],
             [
              0.7777777777777778,
              "#fb9f3a"
             ],
             [
              0.8888888888888888,
              "#fdca26"
             ],
             [
              1.0,
              "#f0f921"
             ]
            ]
           }
          ],
          "contourcarpet": [
           {
            "type": "contourcarpet",
            "colorbar": {
             "outlinewidth": 0,
             "ticks": ""
            }
           }
          ],
          "contour": [
           {
            "type": "contour",
            "colorbar": {
             "outlinewidth": 0,
             "ticks": ""
            },
            "colorscale": [
             [
              0.0,
              "#0d0887"
             ],
             [
              0.1111111111111111,
              "#46039f"
             ],
             [
              0.2222222222222222,
              "#7201a8"
             ],
             [
              0.3333333333333333,
              "#9c179e"
             ],
             [
              0.4444444444444444,
              "#bd3786"
             ],
             [
              0.5555555555555556,
              "#d8576b"
             ],
             [
              0.6666666666666666,
              "#ed7953"
             ],
             [
              0.7777777777777778,
              "#fb9f3a"
             ],
             [
              0.8888888888888888,
              "#fdca26"
             ],
             [
              1.0,
              "#f0f921"
             ]
            ]
           }
          ],
          "surface": [
           {
            "type": "surface",
            "colorbar": {
             "outlinewidth": 0,
             "ticks": ""
            },
            "colorscale": [
             [
              0.0,
              "#0d0887"
             ],
             [
              0.1111111111111111,
              "#46039f"
             ],
             [
              0.2222222222222222,
              "#7201a8"
             ],
             [
              0.3333333333333333,
              "#9c179e"
             ],
             [
              0.4444444444444444,
              "#bd3786"
             ],
             [
              0.5555555555555556,
              "#d8576b"
             ],
             [
              0.6666666666666666,
              "#ed7953"
             ],
             [
              0.7777777777777778,
              "#fb9f3a"
             ],
             [
              0.8888888888888888,
              "#fdca26"
             ],
             [
              1.0,
              "#f0f921"
             ]
            ]
           }
          ],
          "mesh3d": [
           {
            "type": "mesh3d",
            "colorbar": {
             "outlinewidth": 0,
             "ticks": ""
            }
           }
          ],
          "scatter": [
           {
            "marker": {
             "line": {
              "color": "#283442"
             }
            },
            "type": "scatter"
           }
          ],
          "parcoords": [
           {
            "type": "parcoords",
            "line": {
             "colorbar": {
              "outlinewidth": 0,
              "ticks": ""
             }
            }
           }
          ],
          "scatterpolargl": [
           {
            "type": "scatterpolargl",
            "marker": {
             "colorbar": {
              "outlinewidth": 0,
              "ticks": ""
             }
            }
           }
          ],
          "bar": [
           {
            "error_x": {
             "color": "#f2f5fa"
            },
            "error_y": {
             "color": "#f2f5fa"
            },
            "marker": {
             "line": {
              "color": "rgb(17,17,17)",
              "width": 0.5
             },
             "pattern": {
              "fillmode": "overlay",
              "size": 10,
              "solidity": 0.2
             }
            },
            "type": "bar"
           }
          ],
          "scattergeo": [
           {
            "type": "scattergeo",
            "marker": {
             "colorbar": {
              "outlinewidth": 0,
              "ticks": ""
             }
            }
           }
          ],
          "scatterpolar": [
           {
            "type": "scatterpolar",
            "marker": {
             "colorbar": {
              "outlinewidth": 0,
              "ticks": ""
             }
            }
           }
          ],
          "histogram": [
           {
            "marker": {
             "pattern": {
              "fillmode": "overlay",
              "size": 10,
              "solidity": 0.2
             }
            },
            "type": "histogram"
           }
          ],
          "scattergl": [
           {
            "marker": {
             "line": {
              "color": "#283442"
             }
            },
            "type": "scattergl"
           }
          ],
          "scatter3d": [
           {
            "type": "scatter3d",
            "line": {
             "colorbar": {
              "outlinewidth": 0,
              "ticks": ""
             }
            },
            "marker": {
             "colorbar": {
              "outlinewidth": 0,
              "ticks": ""
             }
            }
           }
          ],
          "scattermapbox": [
           {
            "type": "scattermapbox",
            "marker": {
             "colorbar": {
              "outlinewidth": 0,
              "ticks": ""
             }
            }
           }
          ],
          "scatterternary": [
           {
            "type": "scatterternary",
            "marker": {
             "colorbar": {
              "outlinewidth": 0,
              "ticks": ""
             }
            }
           }
          ],
          "scattercarpet": [
           {
            "type": "scattercarpet",
            "marker": {
             "colorbar": {
              "outlinewidth": 0,
              "ticks": ""
             }
            }
           }
          ],
          "carpet": [
           {
            "aaxis": {
             "endlinecolor": "#A2B1C6",
             "gridcolor": "#506784",
             "linecolor": "#506784",
             "minorgridcolor": "#506784",
             "startlinecolor": "#A2B1C6"
            },
            "baxis": {
             "endlinecolor": "#A2B1C6",
             "gridcolor": "#506784",
             "linecolor": "#506784",
             "minorgridcolor": "#506784",
             "startlinecolor": "#A2B1C6"
            },
            "type": "carpet"
           }
          ],
          "table": [
           {
            "cells": {
             "fill": {
              "color": "#506784"
             },
             "line": {
              "color": "rgb(17,17,17)"
             }
            },
            "header": {
             "fill": {
              "color": "#2a3f5f"
             },
             "line": {
              "color": "rgb(17,17,17)"
             }
            },
            "type": "table"
           }
          ],
          "barpolar": [
           {
            "marker": {
             "line": {
              "color": "rgb(17,17,17)",
              "width": 0.5
             },
             "pattern": {
              "fillmode": "overlay",
              "size": 10,
              "solidity": 0.2
             }
            },
            "type": "barpolar"
           }
          ],
          "pie": [
           {
            "automargin": true,
            "type": "pie"
           }
          ]
         },
         "layout": {
          "autotypenumbers": "strict",
          "colorway": [
           "#636efa",
           "#EF553B",
           "#00cc96",
           "#ab63fa",
           "#FFA15A",
           "#19d3f3",
           "#FF6692",
           "#B6E880",
           "#FF97FF",
           "#FECB52"
          ],
          "font": {
           "color": "#f2f5fa"
          },
          "hovermode": "closest",
          "hoverlabel": {
           "align": "left"
          },
          "paper_bgcolor": "rgb(17,17,17)",
          "plot_bgcolor": "rgb(17,17,17)",
          "polar": {
           "bgcolor": "rgb(17,17,17)",
           "angularaxis": {
            "gridcolor": "#506784",
            "linecolor": "#506784",
            "ticks": ""
           },
           "radialaxis": {
            "gridcolor": "#506784",
            "linecolor": "#506784",
            "ticks": ""
           }
          },
          "ternary": {
           "bgcolor": "rgb(17,17,17)",
           "aaxis": {
            "gridcolor": "#506784",
            "linecolor": "#506784",
            "ticks": ""
           },
           "baxis": {
            "gridcolor": "#506784",
            "linecolor": "#506784",
            "ticks": ""
           },
           "caxis": {
            "gridcolor": "#506784",
            "linecolor": "#506784",
            "ticks": ""
           }
          },
          "coloraxis": {
           "colorbar": {
            "outlinewidth": 0,
            "ticks": ""
           }
          },
          "colorscale": {
           "sequential": [
            [
             0.0,
             "#0d0887"
            ],
            [
             0.1111111111111111,
             "#46039f"
            ],
            [
             0.2222222222222222,
             "#7201a8"
            ],
            [
             0.3333333333333333,
             "#9c179e"
            ],
            [
             0.4444444444444444,
             "#bd3786"
            ],
            [
             0.5555555555555556,
             "#d8576b"
            ],
            [
             0.6666666666666666,
             "#ed7953"
            ],
            [
             0.7777777777777778,
             "#fb9f3a"
            ],
            [
             0.8888888888888888,
             "#fdca26"
            ],
            [
             1.0,
             "#f0f921"
            ]
           ],
           "sequentialminus": [
            [
             0.0,
             "#0d0887"
            ],
            [
             0.1111111111111111,
             "#46039f"
            ],
            [
             0.2222222222222222,
             "#7201a8"
            ],
            [
             0.3333333333333333,
             "#9c179e"
            ],
            [
             0.4444444444444444,
             "#bd3786"
            ],
            [
             0.5555555555555556,
             "#d8576b"
            ],
            [
             0.6666666666666666,
             "#ed7953"
            ],
            [
             0.7777777777777778,
             "#fb9f3a"
            ],
            [
             0.8888888888888888,
             "#fdca26"
            ],
            [
             1.0,
             "#f0f921"
            ]
           ],
           "diverging": [
            [
             0,
             "#8e0152"
            ],
            [
             0.1,
             "#c51b7d"
            ],
            [
             0.2,
             "#de77ae"
            ],
            [
             0.3,
             "#f1b6da"
            ],
            [
             0.4,
             "#fde0ef"
            ],
            [
             0.5,
             "#f7f7f7"
            ],
            [
             0.6,
             "#e6f5d0"
            ],
            [
             0.7,
             "#b8e186"
            ],
            [
             0.8,
             "#7fbc41"
            ],
            [
             0.9,
             "#4d9221"
            ],
            [
             1,
             "#276419"
            ]
           ]
          },
          "xaxis": {
           "gridcolor": "#283442",
           "linecolor": "#506784",
           "ticks": "",
           "title": {
            "standoff": 15
           },
           "zerolinecolor": "#283442",
           "automargin": true,
           "zerolinewidth": 2
          },
          "yaxis": {
           "gridcolor": "#283442",
           "linecolor": "#506784",
           "ticks": "",
           "title": {
            "standoff": 15
           },
           "zerolinecolor": "#283442",
           "automargin": true,
           "zerolinewidth": 2
          },
          "scene": {
           "xaxis": {
            "backgroundcolor": "rgb(17,17,17)",
            "gridcolor": "#506784",
            "linecolor": "#506784",
            "showbackground": true,
            "ticks": "",
            "zerolinecolor": "#C8D4E3",
            "gridwidth": 2
           },
           "yaxis": {
            "backgroundcolor": "rgb(17,17,17)",
            "gridcolor": "#506784",
            "linecolor": "#506784",
            "showbackground": true,
            "ticks": "",
            "zerolinecolor": "#C8D4E3",
            "gridwidth": 2
           },
           "zaxis": {
            "backgroundcolor": "rgb(17,17,17)",
            "gridcolor": "#506784",
            "linecolor": "#506784",
            "showbackground": true,
            "ticks": "",
            "zerolinecolor": "#C8D4E3",
            "gridwidth": 2
           }
          },
          "shapedefaults": {
           "line": {
            "color": "#f2f5fa"
           }
          },
          "annotationdefaults": {
           "arrowcolor": "#f2f5fa",
           "arrowhead": 0,
           "arrowwidth": 1
          },
          "geo": {
           "bgcolor": "rgb(17,17,17)",
           "landcolor": "rgb(17,17,17)",
           "subunitcolor": "#506784",
           "showland": true,
           "showlakes": true,
           "lakecolor": "rgb(17,17,17)"
          },
          "title": {
           "x": 0.05
          },
          "updatemenudefaults": {
           "bgcolor": "#506784",
           "borderwidth": 0
          },
          "sliderdefaults": {
           "bgcolor": "#C8D4E3",
           "borderwidth": 1,
           "bordercolor": "rgb(17,17,17)",
           "tickwidth": 0
          },
          "mapbox": {
           "style": "dark"
          }
         }
        },
        "geo": {
         "domain": {
          "x": [
           0.0,
           1.0
          ],
          "y": [
           0.0,
           1.0
          ]
         },
         "center": {},
         "projection": {
          "rotation": {
           "lon": 40
          },
          "type": "natural earth"
         },
         "showcountries": true,
         "showocean": true,
         "oceancolor": "hsl(200, 25%, 92%)",
         "countrywidth": 2,
         "showland": true,
         "landcolor": "hsl(50, 40%, 95%)",
         "bgcolor": "rgba(255,255,255,0.5)",
         "showframe": false,
         "showcoastlines": false
        },
        "coloraxis": {
         "colorbar": {
          "title": {
           "text": "Average Medals",
           "font": {
            "color": "#444444"
           }
          },
          "tickfont": {
           "color": "#666666"
          },
          "thickness": 15,
          "len": 0.6,
          "yanchor": "middle",
          "y": 0.5,
          "x": 0.9
         },
         "colorscale": [
          [
           0.0,
           "rgb(0, 147, 146)"
          ],
          [
           0.16666666666666666,
           "rgb(114, 170, 161)"
          ],
          [
           0.3333333333333333,
           "rgb(177, 199, 179)"
          ],
          [
           0.5,
           "rgb(241, 234, 200)"
          ],
          [
           0.6666666666666666,
           "rgb(229, 185, 173)"
          ],
          [
           0.8333333333333334,
           "rgb(217, 137, 148)"
          ],
          [
           1.0,
           "rgb(208, 88, 126)"
          ]
         ]
        },
        "legend": {
         "tracegroupgap": 0
        },
        "margin": {
         "t": 60,
         "r": 0,
         "l": 0,
         "b": 0
        },
        "font": {
         "family": "Time",
         "size": 20,
         "color": "#555555"
        },
        "paper_bgcolor": "rgba(0,0,0,0)",
        "plot_bgcolor": "rgba(0,0,0,0)"
       },
       "config": {
        "plotlyServerURL": "https://plot.ly"
       }
      },
      "text/html": "<div>                            <div id=\"90470c80-97c0-4c04-aa3d-81acfdbe4354\" class=\"plotly-graph-div\" style=\"height:525px; width:100%;\"></div>            <script type=\"text/javascript\">                require([\"plotly\"], function(Plotly) {                    window.PLOTLYENV=window.PLOTLYENV || {};                                    if (document.getElementById(\"90470c80-97c0-4c04-aa3d-81acfdbe4354\")) {                    Plotly.newPlot(                        \"90470c80-97c0-4c04-aa3d-81acfdbe4354\",                        [{\"coloraxis\":\"coloraxis\",\"customdata\":[[0,0,2],[2,0,1],[1,1,1],[0,3,1],[18,19,16],[2,0,3],[2,2,3],[2,1,1],[3,1,6],[1,1,0],[3,7,10],[3,1,3],[0,0,1],[9,7,11],[1,1,0],[40,27,24],[2,0,5],[0,3,1],[2,2,3],[2,1,6],[0,1,0],[3,0,2],[2,2,5],[1,0,0],[1,0,2],[1,2,2],[1,1,1],[1,3,0],[0,1,0],[16,26,22],[3,3,1],[12,13,8],[14,22,29],[1,1,6],[0,0,2],[1,0,1],[2,0,2],[6,7,6],[0,1,5],[2,0,1],[3,6,3],[4,0,3],[1,5,1],[12,13,15],[0,0,1],[1,3,2],[20,12,13],[0,1,0],[1,3,3],[4,2,5],[0,1,1],[0,2,4],[0,2,2],[0,0,2],[0,3,2],[0,1,3],[0,1,0],[1,0,1],[15,7,12],[10,7,3],[0,2,4],[4,1,3],[1,0,0],[0,1,0],[0,0,1],[2,0,2],[1,4,5],[1,2,1],[0,0,2],[0,0,1],[0,0,1],[3,4,2],[1,1,0],[3,1,1],[0,0,1],[0,0,1],[2,1,0],[1,3,2],[13,9,10],[5,4,9],[4,4,3],[1,2,5],[0,0,3],[1,3,2],[1,1,1],[0,3,5],[1,1,0],[3,5,4],[40,44,42],[8,2,3],[0,0,1]],\"geo\":\"geo\",\"hovertemplate\":\"<b>%{hovertext}</b><br><br>Country=%{location}<br>Gold=%{customdata[0]}<br>Silver=%{customdata[1]}<br>Bronze=%{customdata[2]}<br>Average Medals=%{z}<extra></extra>\",\"hovertext\":[\"Albania\",\"Algeria\",\"Argentina\",\"Armenia\",\"Australia\",\"Austria\",\"Azerbaijan\",\"Bahrain\",\"Belgium\",\"Botswana\",\"Brazil\",\"Bulgaria\",\"Cabo Verde\",\"Canada\",\"Chile\",\"China\",\"Chinese Taipei\",\"Colombia\",\"Croatia\",\"Cuba\",\"Cyprus\",\"Czech Republic\",\"Denmark\",\"Dominica\",\"Dominican Republic\",\"Ecuador\",\"Egypt\",\"Ethiopia\",\"Fiji\",\"France\",\"Georgia\",\"Germany\",\"Great Britain\",\"Greece\",\"Grenada\",\"Guatemala\",\"Hong Kong\",\"Hungary\",\"India\",\"Indonesia\",\"Iran\",\"Ireland\",\"Israel\",\"Italy\",\"Ivory Coast\",\"Jamaica\",\"Japan\",\"Jordan\",\"Kazakhstan\",\"Kenya\",\"Kosovo\",\"Kyrgyzstan\",\"Lithuania\",\"Malaysia\",\"Mexico\",\"Moldova\",\"Mongolia\",\"Morocco\",\"Netherlands\",\"New Zealand\",\"North Korea\",\"Norway\",\"Pakistan\",\"Panama\",\"Peru\",\"Philippines\",\"Poland\",\"Portugal\",\"Puerto Rico\",\"Qatar\",\"Refugee Olympic Team\",\"Romania\",\"Saint Lucia\",\"Serbia\",\"Singapore\",\"Slovakia\",\"Slovenia\",\"South Africa\",\"South Korea\",\"Spain\",\"Sweden\",\"Switzerland\",\"Tajikistan\",\"Thailand\",\"Tunisia\",\"Turkey\",\"Uganda\",\"Ukraine\",\"United States\",\"Uzbekistan\",\"Zambia\"],\"locationmode\":\"country names\",\"locations\":[\"Albania\",\"Algeria\",\"Argentina\",\"Armenia\",\"Australia\",\"Austria\",\"Azerbaijan\",\"Bahrain\",\"Belgium\",\"Botswana\",\"Brazil\",\"Bulgaria\",\"Cabo Verde\",\"Canada\",\"Chile\",\"China\",\"Chinese Taipei\",\"Colombia\",\"Croatia\",\"Cuba\",\"Cyprus\",\"Czech Republic\",\"Denmark\",\"Dominica\",\"Dominican Republic\",\"Ecuador\",\"Egypt\",\"Ethiopia\",\"Fiji\",\"France\",\"Georgia\",\"Germany\",\"Great Britain\",\"Greece\",\"Grenada\",\"Guatemala\",\"Hong Kong\",\"Hungary\",\"India\",\"Indonesia\",\"Iran\",\"Ireland\",\"Israel\",\"Italy\",\"Ivory Coast\",\"Jamaica\",\"Japan\",\"Jordan\",\"Kazakhstan\",\"Kenya\",\"Kosovo\",\"Kyrgyzstan\",\"Lithuania\",\"Malaysia\",\"Mexico\",\"Moldova\",\"Mongolia\",\"Morocco\",\"Netherlands\",\"New Zealand\",\"North Korea\",\"Norway\",\"Pakistan\",\"Panama\",\"Peru\",\"Philippines\",\"Poland\",\"Portugal\",\"Puerto Rico\",\"Qatar\",\"Refugee Olympic Team\",\"Romania\",\"Saint Lucia\",\"Serbia\",\"Singapore\",\"Slovakia\",\"Slovenia\",\"South Africa\",\"South Korea\",\"Spain\",\"Sweden\",\"Switzerland\",\"Tajikistan\",\"Thailand\",\"Tunisia\",\"Turkey\",\"Uganda\",\"Ukraine\",\"United States\",\"Uzbekistan\",\"Zambia\"],\"name\":\"\",\"z\":[2,3,3,4,53,5,7,4,10,2,20,7,1,27,2,91,7,4,7,9,1,5,9,1,3,5,3,4,1,64,7,33,65,8,2,2,4,19,6,3,12,7,7,40,1,6,45,1,7,11,2,6,4,2,5,4,1,2,34,20,6,8,1,1,1,4,10,4,2,1,1,9,2,5,1,1,3,6,32,18,11,8,3,6,3,8,2,12,126,13,1],\"type\":\"choropleth\"}],                        {\"template\":{\"data\":{\"histogram2dcontour\":[{\"type\":\"histogram2dcontour\",\"colorbar\":{\"outlinewidth\":0,\"ticks\":\"\"},\"colorscale\":[[0.0,\"#0d0887\"],[0.1111111111111111,\"#46039f\"],[0.2222222222222222,\"#7201a8\"],[0.3333333333333333,\"#9c179e\"],[0.4444444444444444,\"#bd3786\"],[0.5555555555555556,\"#d8576b\"],[0.6666666666666666,\"#ed7953\"],[0.7777777777777778,\"#fb9f3a\"],[0.8888888888888888,\"#fdca26\"],[1.0,\"#f0f921\"]]}],\"choropleth\":[{\"type\":\"choropleth\",\"colorbar\":{\"outlinewidth\":0,\"ticks\":\"\"}}],\"histogram2d\":[{\"type\":\"histogram2d\",\"colorbar\":{\"outlinewidth\":0,\"ticks\":\"\"},\"colorscale\":[[0.0,\"#0d0887\"],[0.1111111111111111,\"#46039f\"],[0.2222222222222222,\"#7201a8\"],[0.3333333333333333,\"#9c179e\"],[0.4444444444444444,\"#bd3786\"],[0.5555555555555556,\"#d8576b\"],[0.6666666666666666,\"#ed7953\"],[0.7777777777777778,\"#fb9f3a\"],[0.8888888888888888,\"#fdca26\"],[1.0,\"#f0f921\"]]}],\"heatmap\":[{\"type\":\"heatmap\",\"colorbar\":{\"outlinewidth\":0,\"ticks\":\"\"},\"colorscale\":[[0.0,\"#0d0887\"],[0.1111111111111111,\"#46039f\"],[0.2222222222222222,\"#7201a8\"],[0.3333333333333333,\"#9c179e\"],[0.4444444444444444,\"#bd3786\"],[0.5555555555555556,\"#d8576b\"],[0.6666666666666666,\"#ed7953\"],[0.7777777777777778,\"#fb9f3a\"],[0.8888888888888888,\"#fdca26\"],[1.0,\"#f0f921\"]]}],\"heatmapgl\":[{\"type\":\"heatmapgl\",\"colorbar\":{\"outlinewidth\":0,\"ticks\":\"\"},\"colorscale\":[[0.0,\"#0d0887\"],[0.1111111111111111,\"#46039f\"],[0.2222222222222222,\"#7201a8\"],[0.3333333333333333,\"#9c179e\"],[0.4444444444444444,\"#bd3786\"],[0.5555555555555556,\"#d8576b\"],[0.6666666666666666,\"#ed7953\"],[0.7777777777777778,\"#fb9f3a\"],[0.8888888888888888,\"#fdca26\"],[1.0,\"#f0f921\"]]}],\"contourcarpet\":[{\"type\":\"contourcarpet\",\"colorbar\":{\"outlinewidth\":0,\"ticks\":\"\"}}],\"contour\":[{\"type\":\"contour\",\"colorbar\":{\"outlinewidth\":0,\"ticks\":\"\"},\"colorscale\":[[0.0,\"#0d0887\"],[0.1111111111111111,\"#46039f\"],[0.2222222222222222,\"#7201a8\"],[0.3333333333333333,\"#9c179e\"],[0.4444444444444444,\"#bd3786\"],[0.5555555555555556,\"#d8576b\"],[0.6666666666666666,\"#ed7953\"],[0.7777777777777778,\"#fb9f3a\"],[0.8888888888888888,\"#fdca26\"],[1.0,\"#f0f921\"]]}],\"surface\":[{\"type\":\"surface\",\"colorbar\":{\"outlinewidth\":0,\"ticks\":\"\"},\"colorscale\":[[0.0,\"#0d0887\"],[0.1111111111111111,\"#46039f\"],[0.2222222222222222,\"#7201a8\"],[0.3333333333333333,\"#9c179e\"],[0.4444444444444444,\"#bd3786\"],[0.5555555555555556,\"#d8576b\"],[0.6666666666666666,\"#ed7953\"],[0.7777777777777778,\"#fb9f3a\"],[0.8888888888888888,\"#fdca26\"],[1.0,\"#f0f921\"]]}],\"mesh3d\":[{\"type\":\"mesh3d\",\"colorbar\":{\"outlinewidth\":0,\"ticks\":\"\"}}],\"scatter\":[{\"marker\":{\"line\":{\"color\":\"#283442\"}},\"type\":\"scatter\"}],\"parcoords\":[{\"type\":\"parcoords\",\"line\":{\"colorbar\":{\"outlinewidth\":0,\"ticks\":\"\"}}}],\"scatterpolargl\":[{\"type\":\"scatterpolargl\",\"marker\":{\"colorbar\":{\"outlinewidth\":0,\"ticks\":\"\"}}}],\"bar\":[{\"error_x\":{\"color\":\"#f2f5fa\"},\"error_y\":{\"color\":\"#f2f5fa\"},\"marker\":{\"line\":{\"color\":\"rgb(17,17,17)\",\"width\":0.5},\"pattern\":{\"fillmode\":\"overlay\",\"size\":10,\"solidity\":0.2}},\"type\":\"bar\"}],\"scattergeo\":[{\"type\":\"scattergeo\",\"marker\":{\"colorbar\":{\"outlinewidth\":0,\"ticks\":\"\"}}}],\"scatterpolar\":[{\"type\":\"scatterpolar\",\"marker\":{\"colorbar\":{\"outlinewidth\":0,\"ticks\":\"\"}}}],\"histogram\":[{\"marker\":{\"pattern\":{\"fillmode\":\"overlay\",\"size\":10,\"solidity\":0.2}},\"type\":\"histogram\"}],\"scattergl\":[{\"marker\":{\"line\":{\"color\":\"#283442\"}},\"type\":\"scattergl\"}],\"scatter3d\":[{\"type\":\"scatter3d\",\"line\":{\"colorbar\":{\"outlinewidth\":0,\"ticks\":\"\"}},\"marker\":{\"colorbar\":{\"outlinewidth\":0,\"ticks\":\"\"}}}],\"scattermapbox\":[{\"type\":\"scattermapbox\",\"marker\":{\"colorbar\":{\"outlinewidth\":0,\"ticks\":\"\"}}}],\"scatterternary\":[{\"type\":\"scatterternary\",\"marker\":{\"colorbar\":{\"outlinewidth\":0,\"ticks\":\"\"}}}],\"scattercarpet\":[{\"type\":\"scattercarpet\",\"marker\":{\"colorbar\":{\"outlinewidth\":0,\"ticks\":\"\"}}}],\"carpet\":[{\"aaxis\":{\"endlinecolor\":\"#A2B1C6\",\"gridcolor\":\"#506784\",\"linecolor\":\"#506784\",\"minorgridcolor\":\"#506784\",\"startlinecolor\":\"#A2B1C6\"},\"baxis\":{\"endlinecolor\":\"#A2B1C6\",\"gridcolor\":\"#506784\",\"linecolor\":\"#506784\",\"minorgridcolor\":\"#506784\",\"startlinecolor\":\"#A2B1C6\"},\"type\":\"carpet\"}],\"table\":[{\"cells\":{\"fill\":{\"color\":\"#506784\"},\"line\":{\"color\":\"rgb(17,17,17)\"}},\"header\":{\"fill\":{\"color\":\"#2a3f5f\"},\"line\":{\"color\":\"rgb(17,17,17)\"}},\"type\":\"table\"}],\"barpolar\":[{\"marker\":{\"line\":{\"color\":\"rgb(17,17,17)\",\"width\":0.5},\"pattern\":{\"fillmode\":\"overlay\",\"size\":10,\"solidity\":0.2}},\"type\":\"barpolar\"}],\"pie\":[{\"automargin\":true,\"type\":\"pie\"}]},\"layout\":{\"autotypenumbers\":\"strict\",\"colorway\":[\"#636efa\",\"#EF553B\",\"#00cc96\",\"#ab63fa\",\"#FFA15A\",\"#19d3f3\",\"#FF6692\",\"#B6E880\",\"#FF97FF\",\"#FECB52\"],\"font\":{\"color\":\"#f2f5fa\"},\"hovermode\":\"closest\",\"hoverlabel\":{\"align\":\"left\"},\"paper_bgcolor\":\"rgb(17,17,17)\",\"plot_bgcolor\":\"rgb(17,17,17)\",\"polar\":{\"bgcolor\":\"rgb(17,17,17)\",\"angularaxis\":{\"gridcolor\":\"#506784\",\"linecolor\":\"#506784\",\"ticks\":\"\"},\"radialaxis\":{\"gridcolor\":\"#506784\",\"linecolor\":\"#506784\",\"ticks\":\"\"}},\"ternary\":{\"bgcolor\":\"rgb(17,17,17)\",\"aaxis\":{\"gridcolor\":\"#506784\",\"linecolor\":\"#506784\",\"ticks\":\"\"},\"baxis\":{\"gridcolor\":\"#506784\",\"linecolor\":\"#506784\",\"ticks\":\"\"},\"caxis\":{\"gridcolor\":\"#506784\",\"linecolor\":\"#506784\",\"ticks\":\"\"}},\"coloraxis\":{\"colorbar\":{\"outlinewidth\":0,\"ticks\":\"\"}},\"colorscale\":{\"sequential\":[[0.0,\"#0d0887\"],[0.1111111111111111,\"#46039f\"],[0.2222222222222222,\"#7201a8\"],[0.3333333333333333,\"#9c179e\"],[0.4444444444444444,\"#bd3786\"],[0.5555555555555556,\"#d8576b\"],[0.6666666666666666,\"#ed7953\"],[0.7777777777777778,\"#fb9f3a\"],[0.8888888888888888,\"#fdca26\"],[1.0,\"#f0f921\"]],\"sequentialminus\":[[0.0,\"#0d0887\"],[0.1111111111111111,\"#46039f\"],[0.2222222222222222,\"#7201a8\"],[0.3333333333333333,\"#9c179e\"],[0.4444444444444444,\"#bd3786\"],[0.5555555555555556,\"#d8576b\"],[0.6666666666666666,\"#ed7953\"],[0.7777777777777778,\"#fb9f3a\"],[0.8888888888888888,\"#fdca26\"],[1.0,\"#f0f921\"]],\"diverging\":[[0,\"#8e0152\"],[0.1,\"#c51b7d\"],[0.2,\"#de77ae\"],[0.3,\"#f1b6da\"],[0.4,\"#fde0ef\"],[0.5,\"#f7f7f7\"],[0.6,\"#e6f5d0\"],[0.7,\"#b8e186\"],[0.8,\"#7fbc41\"],[0.9,\"#4d9221\"],[1,\"#276419\"]]},\"xaxis\":{\"gridcolor\":\"#283442\",\"linecolor\":\"#506784\",\"ticks\":\"\",\"title\":{\"standoff\":15},\"zerolinecolor\":\"#283442\",\"automargin\":true,\"zerolinewidth\":2},\"yaxis\":{\"gridcolor\":\"#283442\",\"linecolor\":\"#506784\",\"ticks\":\"\",\"title\":{\"standoff\":15},\"zerolinecolor\":\"#283442\",\"automargin\":true,\"zerolinewidth\":2},\"scene\":{\"xaxis\":{\"backgroundcolor\":\"rgb(17,17,17)\",\"gridcolor\":\"#506784\",\"linecolor\":\"#506784\",\"showbackground\":true,\"ticks\":\"\",\"zerolinecolor\":\"#C8D4E3\",\"gridwidth\":2},\"yaxis\":{\"backgroundcolor\":\"rgb(17,17,17)\",\"gridcolor\":\"#506784\",\"linecolor\":\"#506784\",\"showbackground\":true,\"ticks\":\"\",\"zerolinecolor\":\"#C8D4E3\",\"gridwidth\":2},\"zaxis\":{\"backgroundcolor\":\"rgb(17,17,17)\",\"gridcolor\":\"#506784\",\"linecolor\":\"#506784\",\"showbackground\":true,\"ticks\":\"\",\"zerolinecolor\":\"#C8D4E3\",\"gridwidth\":2}},\"shapedefaults\":{\"line\":{\"color\":\"#f2f5fa\"}},\"annotationdefaults\":{\"arrowcolor\":\"#f2f5fa\",\"arrowhead\":0,\"arrowwidth\":1},\"geo\":{\"bgcolor\":\"rgb(17,17,17)\",\"landcolor\":\"rgb(17,17,17)\",\"subunitcolor\":\"#506784\",\"showland\":true,\"showlakes\":true,\"lakecolor\":\"rgb(17,17,17)\"},\"title\":{\"x\":0.05},\"updatemenudefaults\":{\"bgcolor\":\"#506784\",\"borderwidth\":0},\"sliderdefaults\":{\"bgcolor\":\"#C8D4E3\",\"borderwidth\":1,\"bordercolor\":\"rgb(17,17,17)\",\"tickwidth\":0},\"mapbox\":{\"style\":\"dark\"}}},\"geo\":{\"domain\":{\"x\":[0.0,1.0],\"y\":[0.0,1.0]},\"center\":{},\"projection\":{\"rotation\":{\"lon\":40},\"type\":\"natural earth\"},\"showcountries\":true,\"showocean\":true,\"oceancolor\":\"hsl(200, 25%, 92%)\",\"countrywidth\":2,\"showland\":true,\"landcolor\":\"hsl(50, 40%, 95%)\",\"bgcolor\":\"rgba(255,255,255,0.5)\",\"showframe\":false,\"showcoastlines\":false},\"coloraxis\":{\"colorbar\":{\"title\":{\"text\":\"Average Medals\",\"font\":{\"color\":\"#444444\"}},\"tickfont\":{\"color\":\"#666666\"},\"thickness\":15,\"len\":0.6,\"yanchor\":\"middle\",\"y\":0.5,\"x\":0.9},\"colorscale\":[[0.0,\"rgb(0, 147, 146)\"],[0.16666666666666666,\"rgb(114, 170, 161)\"],[0.3333333333333333,\"rgb(177, 199, 179)\"],[0.5,\"rgb(241, 234, 200)\"],[0.6666666666666666,\"rgb(229, 185, 173)\"],[0.8333333333333334,\"rgb(217, 137, 148)\"],[1.0,\"rgb(208, 88, 126)\"]]},\"legend\":{\"tracegroupgap\":0},\"margin\":{\"t\":60,\"r\":0,\"l\":0,\"b\":0},\"font\":{\"family\":\"Time\",\"size\":20,\"color\":\"#555555\"},\"paper_bgcolor\":\"rgba(0,0,0,0)\",\"plot_bgcolor\":\"rgba(0,0,0,0)\"},                        {\"responsive\": true}                    ).then(function(){\n                            \nvar gd = document.getElementById('90470c80-97c0-4c04-aa3d-81acfdbe4354');\nvar x = new MutationObserver(function (mutations, observer) {{\n        var display = window.getComputedStyle(gd).display;\n        if (!display || display === 'none') {{\n            console.log([gd, 'removed!']);\n            Plotly.purge(gd);\n            observer.disconnect();\n        }}\n}});\n\n// Listen for the removal of the full notebook cells\nvar notebookContainer = gd.closest('#notebook-container');\nif (notebookContainer) {{\n    x.observe(notebookContainer, {childList: true});\n}}\n\n// Listen for the clearing of the current output cell\nvar outputEl = gd.closest('.output');\nif (outputEl) {{\n    x.observe(outputEl, {childList: true});\n}}\n\n                        })                };                });            </script>        </div>"
     },
     "metadata": {},
     "output_type": "display_data"
    }
   ],
   "source": [
    "import plotly.express as px\n",
    "import country_converter as coco\n",
    "\n",
    "# 标准化国家名称（处理简称/别称）\n",
    "# 标准化国家名称（确保与地图数据库匹配）\n",
    "# 选择以下任一颜色主题\n",
    "color_scale = \"Tealrose\"     # 蓝绿色渐变（推荐）\n",
    "# color_scale = \"Mint\"       # 薄荷绿\n",
    "# color_scale = \"Peach\"      # 淡橙粉\n",
    "# color_scale = \"Pastel\"     # 通用淡彩色\n",
    "# color_scale = \"Ice\"        # 冰蓝色系\n",
    "\n",
    "# 或自定义淡雅渐变色（HSL格式控制饱和度/亮度）\n",
    "custom_colors = [\n",
    "    [0.0, \"hsl(180, 20%, 95%)\"],   # 极淡蓝\n",
    "    [0.2, \"hsl(200, 30%, 85%)\"],  \n",
    "    [0.4, \"hsl(220, 40%, 75%)\"],\n",
    "    [0.6, \"hsl(240, 50%, 65%)\"],\n",
    "    [1.0, \"hsl(260, 60%, 55%)\"]\n",
    "]\n",
    "# 步骤2: 绘制地图（使用淡雅配色）\n",
    "fig = px.choropleth(\n",
    "    medals_2024_average,\n",
    "    locations=\"Country\",\n",
    "    locationmode=\"country names\",\n",
    "    color=\"Total\",\n",
    "    hover_name=\"Country\",\n",
    "    hover_data=[\"Gold\", \"Silver\", \"Bronze\"],\n",
    "    color_continuous_scale=\"Tealrose\",  # 改用淡雅配色\n",
    "    #title=\"Average Total Medals by Country (2000-2020)\",\n",
    "    labels={\"Total\": \"Average Medals\"},\n",
    "    #range_color=[0, averages[\"Total\"].quantile(0.9)],  # 聚焦非极端值范围\n",
    ")\n",
    "\n",
    "# 国家边框美化\n",
    "fig.update_geos(\n",
    "    showcountries=True,\n",
    "    showocean=True,\n",
    "    oceancolor=\"hsl(200, 25%, 92%)\",  # 浅蓝色海洋\n",
    "    countrywidth=2,\n",
    "    projection_rotation=dict(lon=40),\n",
    "    showland=True,\n",
    "    landcolor=\"hsl(50, 40%, 95%)\",    # 米白色陆地\n",
    "    bgcolor=\"rgba(255,255,255,0)\"  # 背景透明\n",
    ")\n",
    "\n",
    "# 步骤3: 高级美学调整\n",
    "fig.update_layout(\n",
    "    # 颜色条样式\n",
    "    coloraxis_colorbar=dict(\n",
    "        title=\"Average Medals\",\n",
    "        thickness=15,\n",
    "        len=0.6,\n",
    "        yanchor=\"middle\",\n",
    "        y=0.5,\n",
    "        x=0.9,\n",
    "        tickfont=dict(color=\"#666666\"),  # 灰色刻度文字\n",
    "        titlefont=dict(color=\"#444444\")  # 灰色标题\n",
    "    ),\n",
    "    \n",
    "    # 全局布局\n",
    "    margin={\"r\":0, \"t\":60, \"l\":0, \"b\":0},\n",
    "    paper_bgcolor=\"rgba(0,0,0,0)\",       # 透明背景\n",
    "    plot_bgcolor=\"rgba(0,0,0,0)\",\n",
    "    font=dict(family=\"Time\", size=20, color=\"#555555\"),  # 统一字体颜色\n",
    "    \n",
    "    # 地图投影\n",
    "    geo=dict(\n",
    "        showframe=False,\n",
    "        showcoastlines=False,\n",
    "        projection_type=\"natural earth\",\n",
    "        #landcolor=\"rgba(240,240,240,0.8)\",  # 陆地淡灰色\n",
    "        bgcolor=\"rgba(255,255,255,0.5)\"     # 背景微透明\n",
    "    )\n",
    ")\n",
    "\n",
    "# 保存为透明背景的PNG（适合嵌入PPT/海报）\n",
    "fig.write_image(\"medals_2024_average_medal_map.pdf\", engine=\"orca\", width=1400, height=800, scale=5)\n",
    "\n",
    "# 显示图表\n",
    "fig.show()"
   ],
   "metadata": {
    "collapsed": false,
    "ExecuteTime": {
     "end_time": "2025-01-27T09:18:56.790995700Z",
     "start_time": "2025-01-27T09:18:55.747836700Z"
    }
   },
   "id": "8e1f9bee010580d5"
  },
  {
   "cell_type": "markdown",
   "source": [
    "## # 按金牌数排序并取前20个国家"
   ],
   "metadata": {
    "collapsed": false
   },
   "id": "d43bcf6de7a28a34"
  },
  {
   "cell_type": "code",
   "execution_count": 18,
   "outputs": [
    {
     "data": {
      "text/plain": "<Figure size 1200x800 with 1 Axes>",
      "image/png": "[encoded data removed]"
     },
     "metadata": {},
     "output_type": "display_data"
    }
   ],
   "source": [
    "# 按金牌数排序并取前20个国家\n",
    "import matplotlib.pyplot as plt\n",
    "import seaborn as sns\n",
    "top20_data = medals_2024_average.sort_values('Gold', ascending=False).head(20)\n",
    "\n",
    "# 转换数据为长格式 (只处理前20个国家)\n",
    "df_melted = top20_data.melt(\n",
    "    id_vars='Country',\n",
    "    value_vars=['Gold', 'Silver', 'Bronze'],\n",
    "    var_name='MedalType',\n",
    "    value_name='Count'\n",
    ")\n",
    "\n",
    "# 创建排序索引 (基于原始排序结果)\n",
    "sorted_countries = top20_data['Country']\n",
    "df_melted['Country'] = pd.Categorical(\n",
    "    df_melted['Country'], \n",
    "    categories=sorted_countries, \n",
    "    ordered=True\n",
    ")\n",
    "df_melted = df_melted.sort_values('Country')\n",
    "\n",
    "# 可视化设置保持不变... (后续代码与原始相同)\n",
    "plt.figure(figsize=(12, 8))\n",
    "sns.set_theme(style=\"whitegrid\")\n",
    "palette = {'Gold': 'gold', 'Silver': 'silver', 'Bronze': '#cd7f32'}\n",
    "\n",
    "sns.barplot(\n",
    "    data=df_melted,\n",
    "    x='Count',\n",
    "    y='Country',\n",
    "    hue='MedalType',\n",
    "    palette=palette,\n",
    "    orient='h'\n",
    ")\n",
    "\n",
    "plt.xlabel('Medal Count', fontsize=12)\n",
    "plt.ylabel('Country', fontsize=12)\n",
    "plt.title('2024 Medal Distribution by Country (Top 20 by Gold)', fontsize=16, pad=20)  # 修改标题\n",
    "plt.legend(title='Medal Type', title_fontsize='13', fontsize='11')\n",
    "plt.tight_layout()\n",
    "plt.show()"
   ],
   "metadata": {
    "collapsed": false,
    "ExecuteTime": {
     "end_time": "2025-01-27T09:10:55.182577Z",
     "start_time": "2025-01-27T09:10:54.561103600Z"
    }
   },
   "id": "f4475a19fe356804"
  },
  {
   "cell_type": "code",
   "execution_count": 43,
   "outputs": [
    {
     "data": {
      "text/plain": "<Figure size 1600x1200 with 1 Axes>",
      "image/png": "[encoded data removed]"
     },
     "metadata": {},
     "output_type": "display_data"
    }
   ],
   "source": [
    "# Plot the predicted medal counts for the top 10 countries in 2028 with horizontal stacked bars\n",
    "top20_sorted = medals_2024_average.sort_values('Total', ascending=True).tail(15)\n",
    "top20_sorted = top20_sorted.sort_values('Total', ascending=False)  # 总奖牌最少在上\n",
    "\n",
    "plt.style.use('default')\n",
    "fig, ax = plt.subplots(figsize=(16, 12))\n",
    "\n",
    "ax.set_xlabel('Total Medal Count', \n",
    "             fontsize=18, \n",
    "             labelpad=10,\n",
    "             fontweight='semibold')\n",
    "ax.set_ylabel('Country', \n",
    "             fontsize=18, \n",
    "             labelpad=10,\n",
    "             fontweight='semibold')\n",
    "\n",
    "top_10_future_countries = top20_sorted\n",
    "# Plot stacked bars for each medal type\n",
    "ax.barh(top_10_future_countries['NOC'], top_10_future_countries['Gold'], color='gold', label='Gold')\n",
    "ax.barh(top_10_future_countries['NOC'], top_10_future_countries['Silver'],\n",
    "        left=top_10_future_countries['Gold'], color='silver', label='Silver')\n",
    "ax.barh(top_10_future_countries['NOC'], top_10_future_countries['Bronze'],\n",
    "        left=top_10_future_countries['Gold'] + top_10_future_countries['Silver'], color='#cd7f32',\n",
    "        label='Bronze')\n",
    "\n",
    "# Add data labels\n",
    "for i in range(len(top_10_future_countries)):\n",
    "    ax.text(top_10_future_countries['Gold'].iloc[i] / 2, i,\n",
    "            int(top_10_future_countries['Gold'].iloc[i]), va='center', ha='center', color='black',fontsize=18)\n",
    "    ax.text(top_10_future_countries['Gold'].iloc[i] + top_10_future_countries['Silver'].iloc[i] / 2,\n",
    "            i, int(top_10_future_countries['Silver'].iloc[i]), va='center', ha='center', color='black',fontsize=18)\n",
    "    ax.text(top_10_future_countries['Gold'].iloc[i] + top_10_future_countries['Silver'].iloc[i] +\n",
    "            top_10_future_countries['Bronze'].iloc[i] / 2, i,\n",
    "            int(top_10_future_countries['Bronze'].iloc[i]), va='center', ha='center', color='black',fontsize=18)\n",
    "    \n",
    "    \n",
    "\n",
    "\n",
    "legend = ax.legend(\n",
    "    title='Medal Type',\n",
    "    labels=['Gold', 'Silver', 'Bronze'],\n",
    "    frameon=True,\n",
    "    facecolor='white',\n",
    "    edgecolor='#333333',  # 深灰色边框\n",
    "    title_fontproperties={'weight':'bold'}\n",
    ")\n",
    "\n",
    "# 坐标轴美化 ----------------------------------------------------------\n",
    "plt.yticks(fontsize=18, fontstyle='italic')\n",
    "plt.xticks(fontsize=18)\n",
    "\n",
    "plt.legend(loc='upper right',fontsize=28)\n",
    "plt.tight_layout()\n",
    "plt.savefig(\"Top 15 Countries by Predicted Medals in 2024.pdf\")\n",
    "plt.show()"
   ],
   "metadata": {
    "collapsed": false,
    "ExecuteTime": {
     "end_time": "2025-01-27T09:40:47.179950900Z",
     "start_time": "2025-01-27T09:40:46.410334200Z"
    }
   },
   "id": "b61be47b44da1c55"
  },
  {
   "cell_type": "markdown",
   "source": [
    "## 东道主"
   ],
   "metadata": {
    "collapsed": false
   },
   "id": "431cd621456a4ba2"
  },
  {
   "cell_type": "code",
   "execution_count": 24,
   "outputs": [
    {
     "name": "stdout",
     "output_type": "stream",
     "text": [
      "\n",
      "修改后的数据：\n",
      "    Year         country\n",
      "0   1896          Greece\n",
      "1   1900          France\n",
      "2   1904   United States\n",
      "3   1908  United Kingdom\n",
      "4   1912          Sweden\n",
      "5   1916            None\n",
      "6   1920         Belgium\n",
      "7   1924          France\n",
      "8   1928     Netherlands\n",
      "9   1932   United States\n",
      "10  1936         Germany\n",
      "11  1940            None\n",
      "12  1944            None\n",
      "13  1948  United Kingdom\n",
      "14  1952         Finland\n",
      "15  1956       Australia\n",
      "16  1960           Italy\n",
      "17  1964           Japan\n",
      "18  1968          Mexico\n",
      "19  1972    West Germany\n",
      "20  1976          Canada\n",
      "21  1980    Soviet Union\n",
      "22  1984   United States\n",
      "23  1988     South Korea\n",
      "24  1992           Spain\n",
      "25  1996   United States\n",
      "26  2000       Australia\n",
      "27  2004          Greece\n",
      "28  2008           China\n",
      "29  2012  United Kingdom\n",
      "30  2016          Brazil\n",
      "31  2020           Japan\n",
      "32  2024          France\n",
      "      Unnamed: 0  Rank                   NOC  Gold  Silver  Bronze  Total  \\\n",
      "0              0     1         United States    11       7       2     20   \n",
      "1              1     2                Greece    10      18      19     47   \n",
      "2              2     3               Germany     6       5       2     13   \n",
      "3              3     4                France     5       4       2     11   \n",
      "4              4     5         Great Britain     2       3       2      7   \n",
      "...          ...   ...                   ...   ...     ...     ...    ...   \n",
      "1430        1430    84                 Qatar     0       0       1      1   \n",
      "1431        1431    84  Refugee Olympic Team     0       0       1      1   \n",
      "1432        1432    84             Singapore     0       0       1      1   \n",
      "1433        1433    84              Slovakia     0       0       1      1   \n",
      "1434        1434    84                Zambia     0       0       1      1   \n",
      "\n",
      "      Year               country  \n",
      "0     1896         United States  \n",
      "1     1896                Greece  \n",
      "2     1896               Germany  \n",
      "3     1896                France  \n",
      "4     1896        United Kingdom  \n",
      "...    ...                   ...  \n",
      "1430  2024                 Qatar  \n",
      "1431  2024  Refugee Olympic Team  \n",
      "1432  2024             Singapore  \n",
      "1433  2024              Slovakia  \n",
      "1434  2024                Zambia  \n",
      "\n",
      "[1435 rows x 9 columns]\n"
     ]
    }
   ],
   "source": [
    "hosts[['city', 'country']] = hosts['Host'].str.split(r',\\s+', n=1, expand=True)\n",
    "hosts = hosts[['Year', 'country']]  # 注意列名需精确匹配，如果是'Years'请修改为实际列名\n",
    "\n",
    "# 修改索引31的国家信息\n",
    "try:\n",
    "    hosts.loc[31, 'country'] = 'Japan'\n",
    "except KeyError:\n",
    "    print(f\"索引31不存在，请确认DataFrame长度（当前长度：{len(hosts)}）\")\n",
    "hosts = hosts.iloc[:-2]\n",
    "# 验证结果\n",
    "print(\"\\n修改后的数据：\")\n",
    "print(hosts)\n",
    "medals[\"country\"]=medals[\"NOC\"]\n",
    "medals['country'] = medals['country'].replace(\n",
    "    'Great Britain', \n",
    "    'United Kingdom')\n",
    "print(medals)"
   ],
   "metadata": {
    "collapsed": false,
    "ExecuteTime": {
     "end_time": "2025-01-27T09:12:40.530745100Z",
     "start_time": "2025-01-27T09:12:40.512833500Z"
    }
   },
   "id": "77fa0891df2f7262"
  },
  {
   "cell_type": "code",
   "execution_count": 46,
   "outputs": [
    {
     "data": {
      "text/plain": "<Figure size 1600x1200 with 2 Axes>",
      "image/png": "[encoded data removed]"
     },
     "metadata": {},
     "output_type": "display_data"
    }
   ],
   "source": [
    "# ==================== 构建国家矩阵 ====================\n",
    "import pandas as pd\n",
    "import seaborn as sns\n",
    "import matplotlib.pyplot as plt\n",
    "import numpy as np\n",
    "\n",
    "# 设置中文显示（如果需要）\n",
    "#plt.rcParams['font.sans-serif'] = ['SimHei']\n",
    "#plt.rcParams['axes.unicode_minus'] = False\n",
    "plt.style.use('default')\n",
    "# ==================== 数据预处理 ====================\n",
    "# 假设data2和medal_data已加载\n",
    "\n",
    "# 清理东道主数据\n",
    "host_df = hosts.dropna(subset=['country'])\n",
    "medal_data=medals\n",
    "# 获取所有东道主国家列表\n",
    "host_countries = host_df['country'].unique().tolist()\n",
    "\n",
    "# 初始化总和矩阵和参赛次数矩阵\n",
    "sum_matrix = pd.DataFrame(0, index=host_countries, columns=host_countries)\n",
    "count_matrix = pd.DataFrame(0, index=host_countries, columns=host_countries)\n",
    "\n",
    "# 填充矩阵数据\n",
    "for host_year, host_country in zip(host_df['Year'], host_df['country']):\n",
    "    year_data = medal_data[medal_data['Year'] == host_year]\n",
    "    \n",
    "    # 遍历当届参赛记录\n",
    "    for _, row in year_data.iterrows():\n",
    "        country = row['country']\n",
    "        total = row['Total']\n",
    "        \n",
    "        if country in host_countries:\n",
    "            sum_matrix.loc[country, host_country] += total\n",
    "            count_matrix.loc[country, host_country] += 1  # 记录参赛次数\n",
    "\n",
    "# 计算平均奖牌数（仅对实际参赛的年份取平均）\n",
    "average_matrix = sum_matrix / count_matrix.replace(0, np.nan)\n",
    "average_matrix = average_matrix.fillna(0)  # 未参赛的组合保持0值\n",
    "\n",
    "# ==================== 可视化设置 ====================\n",
    "plt.figure(figsize=(16, 12))\n",
    "mask = np.zeros_like(average_matrix, dtype=bool)\n",
    "np.fill_diagonal(mask, True)\n",
    "\n",
    "# 生成自定义注释矩阵\n",
    "annot_matrix = pd.DataFrame(index=host_countries, columns=host_countries, dtype=str)\n",
    "for i in range(len(host_countries)):\n",
    "    for j in range(len(host_countries)):\n",
    "        avg_value = average_matrix.iloc[i, j]\n",
    "        participation_count = count_matrix.iloc[i, j]\n",
    "        \n",
    "        # 对角线单元格（东道主时期）\n",
    "        if i == j:\n",
    "            annot_matrix.iloc[i, j] = f\"{avg_value:.1f}\"\n",
    "        # 非对角线单元格\n",
    "        else:\n",
    "            if participation_count == 0:\n",
    "                annot_matrix.iloc[i, j] = 'non'  # 从未参赛\n",
    "            else:\n",
    "                annot_matrix.iloc[i, j] = f\"{avg_value:.1f}\"  # 参赛过至少一次\n",
    "annot_matrix[\"France\"][\"China\"]=91.0\n",
    "# 绘制热力图（非对角线部分）\n",
    "sns.heatmap(\n",
    "    average_matrix,\n",
    "    annot=annot_matrix,\n",
    "    fmt='',\n",
    "    cmap=\"Blues\",\n",
    "    mask=~mask,\n",
    "    linewidths=0.5,\n",
    "    linecolor='grey',\n",
    "    cbar_kws={'label': 'Average number of medals in the non-hosting period'},\n",
    "    vmax=average_matrix.max().max()\n",
    ")\n",
    "\n",
    "# 绘制热力图（对角线部分）\n",
    "sns.heatmap(\n",
    "    average_matrix,\n",
    "    annot=annot_matrix,\n",
    "    fmt='',\n",
    "    cmap=\"YlOrRd\",\n",
    "    mask=mask,\n",
    "    linewidths=0.5,\n",
    "    linecolor='grey',\n",
    "    cbar=False,\n",
    "    vmax=average_matrix.max().max()\n",
    ")\n",
    "\n",
    "# 添加图例\n",
    "diag_patch = plt.Rectangle((0,0),1,1, fc='#FFA07A', edgecolor='grey')\n",
    "non_diag_patch = plt.Rectangle((0,0),1,1, fc='#87CEEB', edgecolor='grey')\n",
    "plt.legend([diag_patch, non_diag_patch], \n",
    "           ['Number of medals in hosting period', 'Number of medals in non-hosting period'],\n",
    "           loc='upper right',fontsize=16)\n",
    "\n",
    "# 图表装饰\n",
    "plt.xlabel(\"Olympic host country\", fontsize=20)\n",
    "plt.ylabel(\"Participating host countries\", fontsize=20)\n",
    "plt.xticks(rotation=45, ha='right',fontsize=17,fontstyle='italic')\n",
    "plt.yticks(rotation=0,fontsize=17,fontstyle='italic')\n",
    "\n",
    "plt.tight_layout()\n",
    "plt.savefig('HostCountryMedalPerformanceComparison.pdf',bbox_inches='tight')\n",
    "plt.show()"
   ],
   "metadata": {
    "collapsed": false,
    "ExecuteTime": {
     "end_time": "2025-01-27T09:50:42.293468100Z",
     "start_time": "2025-01-27T09:50:40.820766100Z"
    }
   },
   "id": "c8c86efa32fe9cba"
  }
 ],
 "metadata": {
  "kernelspec": {
   "display_name": "Python 3",
   "language": "python",
   "name": "python3"
  },
  "language_info": {
   "codemirror_mode": {
    "name": "ipython",
    "version": 2
   },
   "file_extension": ".py",
   "mimetype": "text/x-python",
   "name": "python",
   "nbconvert_exporter": "python",
   "pygments_lexer": "ipython2",
   "version": "2.7.6"
  }
 },
 "nbformat": 4,
 "nbformat_minor": 5
}
